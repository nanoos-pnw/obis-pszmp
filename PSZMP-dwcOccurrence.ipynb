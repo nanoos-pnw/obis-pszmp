{
 "cells": [
  {
   "cell_type": "markdown",
   "id": "5ed2696c",
   "metadata": {},
   "source": [
    "# Darwin Core (DwC) **Occurrences**, Puget Sound Zooplankton Monitoring Program (PSZMP) dataset\n",
    "\n",
    "Alignment of zooplankton dataset to the [Darwin Core (DwC) data standard](https://dwc.tdwg.or/), carried out by **NANOOS**, https://www.nanoos.org. This data alignment work, including this Jupyter notebook, is described in the NANOOS GitHub repository https://github.com/nanoos-pnw/obis-pszmp. See [README.md](https://github.com/nanoos-pnw/obis-pszmp/blob/main/README.md) for further background on the dataset, DwC and data transformations.\n",
    "\n",
    "Emilio Mayorga, https://github.com/emiliom"
   ]
  },
  {
   "cell_type": "markdown",
   "id": "4f852e69-72c2-4dd4-98cc-8e0021427974",
   "metadata": {},
   "source": [
    "## Goals and scope of this notebook\n",
    "\n",
    "Parse the source data and combine it with the `intermediate_DwC_taxonomy.csv` file created in the notebook `PSZMP-dwcTaxonomy.ipynb` to create the DwC \"occurrence\" file `DwC_occurrence.csv`. In this file, each record is an individual taxonomic occurrence observation from a sample, containing [WoRMS](https://www.marinespecies.org/) (World Register of Marine Species) taxonomic information as well as, when available, sex and life stage. The original sex and life stage information in the source data (in the `Life History Stage` column, renamed to `life_history_stage`) was parsed, turned to all lower case, manually corrected in some cases based on previous research (encoded in [data_preprocess.py](data_preprocess.py) and [common_mappings.json](common_mappings.json)), and matched to standard vocabularies when applicable. This notebook also creates an intermediate file, `intermediate_DwC_occurrence_life_history_stage.csv`, containing a match up between the `occurrenceID` created here and the `life_history_stage` entry, to be used later in the `PSZMP-dwceMoF.ipynb` notebook."
   ]
  },
  {
   "cell_type": "markdown",
   "id": "273eabbf-e69b-4e94-82d8-6fd2f557fb0d",
   "metadata": {},
   "source": [
    "## Settings"
   ]
  },
  {
   "cell_type": "code",
   "execution_count": 1,
   "id": "9b77a976-0f57-4a5e-b3e9-86183c8ec23a",
   "metadata": {},
   "outputs": [],
   "source": [
    "from datetime import datetime\n",
    "import json\n",
    "from pathlib import Path\n",
    "\n",
    "import pandas as pd\n",
    "\n",
    "from data_preprocess import create_csv_zip, read_and_parse_sourcedata"
   ]
  },
  {
   "cell_type": "code",
   "execution_count": 2,
   "id": "6e9e5af4-e57c-4113-aedf-2cb430950d3a",
   "metadata": {},
   "outputs": [],
   "source": [
    "data_pth = Path(\".\")"
   ]
  },
  {
   "cell_type": "markdown",
   "id": "d9943989-f0f6-4cdd-af85-5aedf3f4d5cb",
   "metadata": {},
   "source": [
    "Set to `True` when debugging. `csv` ﬁles will not be exported when `debug_no_csvexport = True`"
   ]
  },
  {
   "cell_type": "code",
   "execution_count": 3,
   "id": "9eeb7c8b-7337-4bdf-8ca7-4eb7f73e19fa",
   "metadata": {},
   "outputs": [],
   "source": [
    "debug_no_csvexport = False"
   ]
  },
  {
   "cell_type": "markdown",
   "id": "69891913-f519-4b44-9fdb-56dec862b1d6",
   "metadata": {},
   "source": [
    "## Process JSON file containing common mappings and strings"
   ]
  },
  {
   "cell_type": "code",
   "execution_count": 4,
   "id": "e22dd990-40a4-4809-a36d-94181f909351",
   "metadata": {},
   "outputs": [],
   "source": [
    "with open(data_pth / 'common_mappings.json') as f:\n",
    "    mappings = json.load(f)"
   ]
  },
  {
   "cell_type": "code",
   "execution_count": 5,
   "id": "fdad6dd7-beef-45be-8d7e-87e07c3c9785",
   "metadata": {},
   "outputs": [],
   "source": [
    "DatasetCode = mappings['datasetcode']\n",
    "sex_dwciri_terms = mappings['sex_dwciri_terms']\n",
    "life_stage_mappings = mappings['life_stage_mappings']\n",
    "\n",
    "lifeStage_mapping = {k:v[0] for k,v in life_stage_mappings.items()}\n",
    "lifeStage_dwciri_terms = {k:v[1] for k,v in life_stage_mappings.items()}"
   ]
  },
  {
   "cell_type": "markdown",
   "id": "35a396fc",
   "metadata": {},
   "source": [
    "## Pre-process data for Occurrence table"
   ]
  },
  {
   "cell_type": "markdown",
   "id": "5453c13f",
   "metadata": {},
   "source": [
    "### Read and pre-processe the source data from Excel file"
   ]
  },
  {
   "cell_type": "markdown",
   "id": "246ac35a-e652-44d1-bd82-0a65127140c8",
   "metadata": {},
   "source": [
    "`usecols` defines the columns that will be kept and the order in which they'll be organized"
   ]
  },
  {
   "cell_type": "code",
   "execution_count": 6,
   "id": "77c4edaf-d92a-454d-bffe-d74646599b2b",
   "metadata": {},
   "outputs": [],
   "source": [
    "usecols = [\n",
    "    'BugSampleID', 'Sample Code', 'Genus species', 'Genus species_lc', 'Life History Stage_lc', 'lhs_0', 'lhs_1'\n",
    "]\n",
    "\n",
    "# occursource_df = read_and_parse_sourcedata(test_n_rows=1000)[usecols]\n",
    "occursource_df = read_and_parse_sourcedata()[usecols]\n",
    "\n",
    "occursource_df.rename(\n",
    "    columns={\n",
    "        'Sample Code':'sample_code',\n",
    "        'Genus species_lc':'species',\n",
    "        'Life History Stage_lc':'life_history_stage',\n",
    "    },\n",
    "    inplace=True\n",
    ")"
   ]
  },
  {
   "cell_type": "code",
   "execution_count": 7,
   "id": "c6e7a9a7-0838-4d17-8b6b-a371f71bca8c",
   "metadata": {},
   "outputs": [
    {
     "data": {
      "text/plain": [
       "185737"
      ]
     },
     "execution_count": 7,
     "metadata": {},
     "output_type": "execute_result"
    }
   ],
   "source": [
    "len(occursource_df)"
   ]
  },
  {
   "cell_type": "code",
   "execution_count": 8,
   "id": "c92fd729-9a28-4454-a67b-faa3ae1484ac",
   "metadata": {},
   "outputs": [
    {
     "data": {
      "text/html": [
       "<div>\n",
       "<style scoped>\n",
       "    .dataframe tbody tr th:only-of-type {\n",
       "        vertical-align: middle;\n",
       "    }\n",
       "\n",
       "    .dataframe tbody tr th {\n",
       "        vertical-align: top;\n",
       "    }\n",
       "\n",
       "    .dataframe thead th {\n",
       "        text-align: right;\n",
       "    }\n",
       "</style>\n",
       "<table border=\"1\" class=\"dataframe\">\n",
       "  <thead>\n",
       "    <tr style=\"text-align: right;\">\n",
       "      <th></th>\n",
       "      <th>BugSampleID</th>\n",
       "      <th>sample_code</th>\n",
       "      <th>Genus species</th>\n",
       "      <th>species</th>\n",
       "      <th>life_history_stage</th>\n",
       "      <th>lhs_0</th>\n",
       "      <th>lhs_1</th>\n",
       "    </tr>\n",
       "  </thead>\n",
       "  <tbody>\n",
       "    <tr>\n",
       "      <th>0</th>\n",
       "      <td>12496</td>\n",
       "      <td>032514DANAD1147</td>\n",
       "      <td>ALPHEIDAE</td>\n",
       "      <td>alpheidae</td>\n",
       "      <td>unknown</td>\n",
       "      <td>unknown</td>\n",
       "      <td>None</td>\n",
       "    </tr>\n",
       "    <tr>\n",
       "      <th>1</th>\n",
       "      <td>12497</td>\n",
       "      <td>032514DANAD1147</td>\n",
       "      <td>BARNACLES</td>\n",
       "      <td>cirripedia</td>\n",
       "      <td>cyprid larva</td>\n",
       "      <td>cyprid larva</td>\n",
       "      <td>None</td>\n",
       "    </tr>\n",
       "    <tr>\n",
       "      <th>2</th>\n",
       "      <td>12498</td>\n",
       "      <td>032514DANAD1147</td>\n",
       "      <td>BARNACLES</td>\n",
       "      <td>cirripedia</td>\n",
       "      <td>nauplius</td>\n",
       "      <td>nauplius</td>\n",
       "      <td>None</td>\n",
       "    </tr>\n",
       "    <tr>\n",
       "      <th>3</th>\n",
       "      <td>12499</td>\n",
       "      <td>032514DANAD1147</td>\n",
       "      <td>CALANUS</td>\n",
       "      <td>calanus</td>\n",
       "      <td>c5-adult</td>\n",
       "      <td>c5-adult</td>\n",
       "      <td>None</td>\n",
       "    </tr>\n",
       "    <tr>\n",
       "      <th>4</th>\n",
       "      <td>12500</td>\n",
       "      <td>032514DANAD1147</td>\n",
       "      <td>CANCRIDAE</td>\n",
       "      <td>cancridae</td>\n",
       "      <td>z1, zoea i</td>\n",
       "      <td>z1</td>\n",
       "      <td>zoea i</td>\n",
       "    </tr>\n",
       "  </tbody>\n",
       "</table>\n",
       "</div>"
      ],
      "text/plain": [
       "   BugSampleID      sample_code Genus species     species life_history_stage  \\\n",
       "0        12496  032514DANAD1147     ALPHEIDAE   alpheidae            unknown   \n",
       "1        12497  032514DANAD1147     BARNACLES  cirripedia       cyprid larva   \n",
       "2        12498  032514DANAD1147     BARNACLES  cirripedia           nauplius   \n",
       "3        12499  032514DANAD1147       CALANUS     calanus           c5-adult   \n",
       "4        12500  032514DANAD1147     CANCRIDAE   cancridae         z1, zoea i   \n",
       "\n",
       "          lhs_0    lhs_1  \n",
       "0       unknown     None  \n",
       "1  cyprid larva     None  \n",
       "2      nauplius     None  \n",
       "3      c5-adult     None  \n",
       "4            z1   zoea i  "
      ]
     },
     "execution_count": 8,
     "metadata": {},
     "output_type": "execute_result"
    }
   ],
   "source": [
    "occursource_df.head()"
   ]
  },
  {
   "cell_type": "markdown",
   "id": "81d8f505-35f7-4a9e-bad8-6812e666f6fb",
   "metadata": {},
   "source": [
    "## Merge resolved taxonomy from taxonomy csv"
   ]
  },
  {
   "cell_type": "code",
   "execution_count": 9,
   "id": "9a63a58a-e334-4e41-9814-c4c050250016",
   "metadata": {},
   "outputs": [],
   "source": [
    "taxonomy_df = pd.read_csv(\n",
    "    data_pth / \"intermediate_DwC_taxonomy.csv\"\n",
    ")"
   ]
  },
  {
   "cell_type": "code",
   "execution_count": 10,
   "id": "4ddf9f51-ad59-46d0-95fc-7b3fd20ccd04",
   "metadata": {},
   "outputs": [],
   "source": [
    "occursource_df = occursource_df.merge(\n",
    "    taxonomy_df, \n",
    "    how='inner', \n",
    "    left_on='Genus species',\n",
    "    right_on='verbatimIdentification'\n",
    ")"
   ]
  },
  {
   "cell_type": "code",
   "execution_count": 11,
   "id": "9114b5b5-88d3-41ad-b6c4-5e6ce79c1b73",
   "metadata": {},
   "outputs": [
    {
     "data": {
      "text/plain": [
       "185737"
      ]
     },
     "execution_count": 11,
     "metadata": {},
     "output_type": "execute_result"
    }
   ],
   "source": [
    "len(occursource_df)"
   ]
  },
  {
   "cell_type": "code",
   "execution_count": 12,
   "id": "9b48f69f-1535-40c9-bec6-8349cdad3788",
   "metadata": {},
   "outputs": [
    {
     "data": {
      "text/html": [
       "<div>\n",
       "<style scoped>\n",
       "    .dataframe tbody tr th:only-of-type {\n",
       "        vertical-align: middle;\n",
       "    }\n",
       "\n",
       "    .dataframe tbody tr th {\n",
       "        vertical-align: top;\n",
       "    }\n",
       "\n",
       "    .dataframe thead th {\n",
       "        text-align: right;\n",
       "    }\n",
       "</style>\n",
       "<table border=\"1\" class=\"dataframe\">\n",
       "  <thead>\n",
       "    <tr style=\"text-align: right;\">\n",
       "      <th></th>\n",
       "      <th>BugSampleID</th>\n",
       "      <th>sample_code</th>\n",
       "      <th>Genus species</th>\n",
       "      <th>species</th>\n",
       "      <th>life_history_stage</th>\n",
       "      <th>lhs_0</th>\n",
       "      <th>lhs_1</th>\n",
       "      <th>scientificName</th>\n",
       "      <th>scientificNameID</th>\n",
       "      <th>taxonRank</th>\n",
       "      <th>kingdom</th>\n",
       "      <th>phylum</th>\n",
       "      <th>class</th>\n",
       "      <th>order</th>\n",
       "      <th>family</th>\n",
       "      <th>genus</th>\n",
       "      <th>scientificNameAuthorship</th>\n",
       "      <th>verbatimIdentification</th>\n",
       "    </tr>\n",
       "  </thead>\n",
       "  <tbody>\n",
       "    <tr>\n",
       "      <th>0</th>\n",
       "      <td>12496</td>\n",
       "      <td>032514DANAD1147</td>\n",
       "      <td>ALPHEIDAE</td>\n",
       "      <td>alpheidae</td>\n",
       "      <td>unknown</td>\n",
       "      <td>unknown</td>\n",
       "      <td>None</td>\n",
       "      <td>Alpheidae</td>\n",
       "      <td>urn:lsid:marinespecies.org:taxname:106776</td>\n",
       "      <td>Family</td>\n",
       "      <td>Animalia</td>\n",
       "      <td>Arthropoda</td>\n",
       "      <td>Malacostraca</td>\n",
       "      <td>Decapoda</td>\n",
       "      <td>Alpheidae</td>\n",
       "      <td>NaN</td>\n",
       "      <td>Rafinesque, 1815</td>\n",
       "      <td>ALPHEIDAE</td>\n",
       "    </tr>\n",
       "    <tr>\n",
       "      <th>1</th>\n",
       "      <td>12523</td>\n",
       "      <td>032514DANAM1126</td>\n",
       "      <td>ALPHEIDAE</td>\n",
       "      <td>alpheidae</td>\n",
       "      <td>unknown</td>\n",
       "      <td>unknown</td>\n",
       "      <td>None</td>\n",
       "      <td>Alpheidae</td>\n",
       "      <td>urn:lsid:marinespecies.org:taxname:106776</td>\n",
       "      <td>Family</td>\n",
       "      <td>Animalia</td>\n",
       "      <td>Arthropoda</td>\n",
       "      <td>Malacostraca</td>\n",
       "      <td>Decapoda</td>\n",
       "      <td>Alpheidae</td>\n",
       "      <td>NaN</td>\n",
       "      <td>Rafinesque, 1815</td>\n",
       "      <td>ALPHEIDAE</td>\n",
       "    </tr>\n",
       "    <tr>\n",
       "      <th>2</th>\n",
       "      <td>12605</td>\n",
       "      <td>040114sketm1120</td>\n",
       "      <td>ALPHEIDAE</td>\n",
       "      <td>alpheidae</td>\n",
       "      <td>unknown</td>\n",
       "      <td>unknown</td>\n",
       "      <td>None</td>\n",
       "      <td>Alpheidae</td>\n",
       "      <td>urn:lsid:marinespecies.org:taxname:106776</td>\n",
       "      <td>Family</td>\n",
       "      <td>Animalia</td>\n",
       "      <td>Arthropoda</td>\n",
       "      <td>Malacostraca</td>\n",
       "      <td>Decapoda</td>\n",
       "      <td>Alpheidae</td>\n",
       "      <td>NaN</td>\n",
       "      <td>Rafinesque, 1815</td>\n",
       "      <td>ALPHEIDAE</td>\n",
       "    </tr>\n",
       "    <tr>\n",
       "      <th>3</th>\n",
       "      <td>12699</td>\n",
       "      <td>040914danam1055</td>\n",
       "      <td>ALPHEIDAE</td>\n",
       "      <td>alpheidae</td>\n",
       "      <td>unknown</td>\n",
       "      <td>unknown</td>\n",
       "      <td>None</td>\n",
       "      <td>Alpheidae</td>\n",
       "      <td>urn:lsid:marinespecies.org:taxname:106776</td>\n",
       "      <td>Family</td>\n",
       "      <td>Animalia</td>\n",
       "      <td>Arthropoda</td>\n",
       "      <td>Malacostraca</td>\n",
       "      <td>Decapoda</td>\n",
       "      <td>Alpheidae</td>\n",
       "      <td>NaN</td>\n",
       "      <td>Rafinesque, 1815</td>\n",
       "      <td>ALPHEIDAE</td>\n",
       "    </tr>\n",
       "    <tr>\n",
       "      <th>4</th>\n",
       "      <td>12722</td>\n",
       "      <td>040914danas1030</td>\n",
       "      <td>ALPHEIDAE</td>\n",
       "      <td>alpheidae</td>\n",
       "      <td>unknown</td>\n",
       "      <td>unknown</td>\n",
       "      <td>None</td>\n",
       "      <td>Alpheidae</td>\n",
       "      <td>urn:lsid:marinespecies.org:taxname:106776</td>\n",
       "      <td>Family</td>\n",
       "      <td>Animalia</td>\n",
       "      <td>Arthropoda</td>\n",
       "      <td>Malacostraca</td>\n",
       "      <td>Decapoda</td>\n",
       "      <td>Alpheidae</td>\n",
       "      <td>NaN</td>\n",
       "      <td>Rafinesque, 1815</td>\n",
       "      <td>ALPHEIDAE</td>\n",
       "    </tr>\n",
       "  </tbody>\n",
       "</table>\n",
       "</div>"
      ],
      "text/plain": [
       "   BugSampleID      sample_code Genus species    species life_history_stage  \\\n",
       "0        12496  032514DANAD1147     ALPHEIDAE  alpheidae            unknown   \n",
       "1        12523  032514DANAM1126     ALPHEIDAE  alpheidae            unknown   \n",
       "2        12605  040114sketm1120     ALPHEIDAE  alpheidae            unknown   \n",
       "3        12699  040914danam1055     ALPHEIDAE  alpheidae            unknown   \n",
       "4        12722  040914danas1030     ALPHEIDAE  alpheidae            unknown   \n",
       "\n",
       "     lhs_0 lhs_1 scientificName                           scientificNameID  \\\n",
       "0  unknown  None      Alpheidae  urn:lsid:marinespecies.org:taxname:106776   \n",
       "1  unknown  None      Alpheidae  urn:lsid:marinespecies.org:taxname:106776   \n",
       "2  unknown  None      Alpheidae  urn:lsid:marinespecies.org:taxname:106776   \n",
       "3  unknown  None      Alpheidae  urn:lsid:marinespecies.org:taxname:106776   \n",
       "4  unknown  None      Alpheidae  urn:lsid:marinespecies.org:taxname:106776   \n",
       "\n",
       "  taxonRank   kingdom      phylum         class     order     family genus  \\\n",
       "0    Family  Animalia  Arthropoda  Malacostraca  Decapoda  Alpheidae   NaN   \n",
       "1    Family  Animalia  Arthropoda  Malacostraca  Decapoda  Alpheidae   NaN   \n",
       "2    Family  Animalia  Arthropoda  Malacostraca  Decapoda  Alpheidae   NaN   \n",
       "3    Family  Animalia  Arthropoda  Malacostraca  Decapoda  Alpheidae   NaN   \n",
       "4    Family  Animalia  Arthropoda  Malacostraca  Decapoda  Alpheidae   NaN   \n",
       "\n",
       "  scientificNameAuthorship verbatimIdentification  \n",
       "0         Rafinesque, 1815              ALPHEIDAE  \n",
       "1         Rafinesque, 1815              ALPHEIDAE  \n",
       "2         Rafinesque, 1815              ALPHEIDAE  \n",
       "3         Rafinesque, 1815              ALPHEIDAE  \n",
       "4         Rafinesque, 1815              ALPHEIDAE  "
      ]
     },
     "execution_count": 12,
     "metadata": {},
     "output_type": "execute_result"
    }
   ],
   "source": [
    "occursource_df.head()"
   ]
  },
  {
   "cell_type": "markdown",
   "id": "a2225eb9-ba2f-4d0b-b22a-40dd1c1d79d9",
   "metadata": {},
   "source": [
    "## Create and populate `occurrence_df` dataframe"
   ]
  },
  {
   "cell_type": "code",
   "execution_count": 13,
   "id": "595dffaf-af2e-4ae1-9a76-aeebc0422e89",
   "metadata": {},
   "outputs": [],
   "source": [
    "occurrence_df = occursource_df.copy()"
   ]
  },
  {
   "cell_type": "markdown",
   "id": "f9ed10ad",
   "metadata": {},
   "source": [
    "### Add `occurrenceID`, `eventID`, `basisOfRecord`, `occurrenceStatus`\n",
    "\n",
    "`occurrenceID` will be a place holder initially, then populated in a subsequent step."
   ]
  },
  {
   "cell_type": "code",
   "execution_count": 14,
   "id": "18a4999d",
   "metadata": {},
   "outputs": [],
   "source": [
    "occurrence_df.insert(0, 'occurrenceID', '')\n",
    "occurrence_df.insert(1, 'eventID', DatasetCode + \"-SMP-\" + occurrence_df['sample_code'])\n",
    "occurrence_df.insert(2, 'basisOfRecord', 'MaterialSample')\n",
    "occurrence_df.insert(3, 'occurrenceStatus', 'present')"
   ]
  },
  {
   "cell_type": "markdown",
   "id": "c3a55068-59fd-421b-a588-99856fa09876",
   "metadata": {},
   "source": [
    "### Map `life_history_stage` into `sex` and `lifeStage`"
   ]
  },
  {
   "cell_type": "code",
   "execution_count": 15,
   "id": "0188a4ec-d1eb-4811-9f93-4c530d4e6a74",
   "metadata": {},
   "outputs": [],
   "source": [
    "# dwc standard columns\n",
    "occurrence_df.insert(\n",
    "    4, 'sex', \n",
    "    occurrence_df['lhs_0'].apply(\n",
    "        lambda s: s if s in ['female', 'male'] else 'indeterminate'\n",
    "    )\n",
    ")\n",
    "occurrence_df.insert(\n",
    "    5, 'lifeStage', \n",
    "    occurrence_df['lhs_0'].apply(lambda s: lifeStage_mapping[s])\n",
    ")\n",
    "\n",
    "# dwciri columns\n",
    "occurrence_df.insert(\n",
    "    6, 'dwciri:sex', \n",
    "    occurrence_df['sex'].apply(lambda s: mappings['vocab_server_base_url'] + sex_dwciri_terms[s])\n",
    ")\n",
    "occurrence_df.insert(\n",
    "    7, 'dwciri:lifeStage', \n",
    "    occurrence_df['lhs_0'].apply(\n",
    "        lambda s: None if lifeStage_dwciri_terms[s] is None \n",
    "        else mappings['vocab_server_base_url'] + lifeStage_dwciri_terms[s]\n",
    "    )\n",
    ")"
   ]
  },
  {
   "cell_type": "markdown",
   "id": "a4e719b9",
   "metadata": {},
   "source": [
    "### Construct and populate `occurrenceID`\n",
    "\n",
    "`occurrenceID` is constructed from existing but regularized information. Specifically:\n",
    "```\n",
    "<Modified Sample Event ID>-<BugSampleID>-<WoRMS scientific name>-<lifestage>-<sex>\n",
    "```\n",
    "where `<Modified Sample Event ID>` is the occurrence parent Event ID with the \"-SMP-\" (\"sample\") string token replaced by \"-OCC-\" (\"occurrence\"); and `<BugSampleID>` is a unique, largely persistent integer ID used in the data provider's internal database. Here's an example of a resulting `ocurrenceID`:\n",
    "```\n",
    "PSZMP-OCC-040320MUKV1159-149417-DITRICHOCORYCAEUS_ANGLICUS-ADULT-M\n",
    "```\n",
    "where\n",
    "- `<Modified Sample Event ID>` = \"PSZMP-OCC-040320MUKV1159\"\n",
    "- `<BugSampleID>` = \"149417\"\n",
    "- `<WoRMS scientific name>` = \"DITRICHOCORYCAEUS_ANGLICUS\"\n",
    "- `<lifestage>` = \"ADULT\"\n",
    "- `<sex>` = \"M\""
   ]
  },
  {
   "cell_type": "code",
   "execution_count": 16,
   "id": "909d3f22",
   "metadata": {},
   "outputs": [],
   "source": [
    "def construct_occurrenceID(row):\n",
    "    \"\"\"\n",
    "    Construct occurrenceID from sample eventID, BugSampleID, marinespecies.org, \n",
    "    sex and life history stage. But replace \"SMP\" in eventID with \"OCC\".\n",
    "    \"\"\"\n",
    "    eventid_token = row[\"eventID\"].replace(\"-SMP-\", \"-OCC-\")\n",
    "    bugsample_id = str(row[\"BugSampleID\"])\n",
    "    taxon_token = row[\"scientificName\"].replace(\" \", \"_\").upper()\n",
    "    lifestage_token = \"_\".join(row[\"lifeStage\"].split(\" \")[:2]).upper()\n",
    "    sex_token = row[\"sex\"][0].upper()\n",
    "    \n",
    "    return \"-\".join(\n",
    "        [eventid_token, bugsample_id, taxon_token, lifestage_token, sex_token]\n",
    "    )\n",
    "\n",
    "occurrence_df['occurrenceID'] = occurrence_df.apply(\n",
    "    lambda row: construct_occurrenceID(row), \n",
    "    axis=1\n",
    ")"
   ]
  },
  {
   "cell_type": "code",
   "execution_count": 17,
   "id": "48a079f6-85ea-4492-bc61-6a2d05a288b2",
   "metadata": {},
   "outputs": [],
   "source": [
    "occurrence_df = (\n",
    "    occurrence_df\n",
    "    .sort_values(by=['eventID', 'scientificName', 'lifeStage', 'sex'])\n",
    "    .reset_index(drop=True)\n",
    ")"
   ]
  },
  {
   "cell_type": "code",
   "execution_count": 18,
   "id": "c7b8aa56-e2b5-49c6-a11b-d6be4f5d28d2",
   "metadata": {},
   "outputs": [
    {
     "data": {
      "text/html": [
       "<div>\n",
       "<style scoped>\n",
       "    .dataframe tbody tr th:only-of-type {\n",
       "        vertical-align: middle;\n",
       "    }\n",
       "\n",
       "    .dataframe tbody tr th {\n",
       "        vertical-align: top;\n",
       "    }\n",
       "\n",
       "    .dataframe thead th {\n",
       "        text-align: right;\n",
       "    }\n",
       "</style>\n",
       "<table border=\"1\" class=\"dataframe\">\n",
       "  <thead>\n",
       "    <tr style=\"text-align: right;\">\n",
       "      <th></th>\n",
       "      <th>occurrenceID</th>\n",
       "      <th>eventID</th>\n",
       "      <th>basisOfRecord</th>\n",
       "      <th>occurrenceStatus</th>\n",
       "      <th>sex</th>\n",
       "      <th>lifeStage</th>\n",
       "      <th>dwciri:sex</th>\n",
       "      <th>dwciri:lifeStage</th>\n",
       "      <th>BugSampleID</th>\n",
       "      <th>sample_code</th>\n",
       "      <th>...</th>\n",
       "      <th>scientificNameID</th>\n",
       "      <th>taxonRank</th>\n",
       "      <th>kingdom</th>\n",
       "      <th>phylum</th>\n",
       "      <th>class</th>\n",
       "      <th>order</th>\n",
       "      <th>family</th>\n",
       "      <th>genus</th>\n",
       "      <th>scientificNameAuthorship</th>\n",
       "      <th>verbatimIdentification</th>\n",
       "    </tr>\n",
       "  </thead>\n",
       "  <tbody>\n",
       "    <tr>\n",
       "      <th>0</th>\n",
       "      <td>PSZMP-OCC-010218ELIV1151-101148-ACARTIA_HUDSON...</td>\n",
       "      <td>PSZMP-SMP-010218ELIV1151</td>\n",
       "      <td>MaterialSample</td>\n",
       "      <td>present</td>\n",
       "      <td>male</td>\n",
       "      <td>adult</td>\n",
       "      <td>https://vocab.nerc.ac.uk/collection/S10/curren...</td>\n",
       "      <td>https://vocab.nerc.ac.uk/collection/S11/curren...</td>\n",
       "      <td>101148</td>\n",
       "      <td>010218ELIV1151</td>\n",
       "      <td>...</td>\n",
       "      <td>urn:lsid:marinespecies.org:taxname:157664</td>\n",
       "      <td>Species</td>\n",
       "      <td>Animalia</td>\n",
       "      <td>Arthropoda</td>\n",
       "      <td>Copepoda</td>\n",
       "      <td>Calanoida</td>\n",
       "      <td>Acartiidae</td>\n",
       "      <td>Acartia</td>\n",
       "      <td>Pinhey, 1926</td>\n",
       "      <td>ACARTIA HUDSONICA</td>\n",
       "    </tr>\n",
       "    <tr>\n",
       "      <th>1</th>\n",
       "      <td>PSZMP-OCC-010218ELIV1151-101150-ACARTIA_LONGIR...</td>\n",
       "      <td>PSZMP-SMP-010218ELIV1151</td>\n",
       "      <td>MaterialSample</td>\n",
       "      <td>present</td>\n",
       "      <td>female</td>\n",
       "      <td>adult</td>\n",
       "      <td>https://vocab.nerc.ac.uk/collection/S10/curren...</td>\n",
       "      <td>https://vocab.nerc.ac.uk/collection/S11/curren...</td>\n",
       "      <td>101150</td>\n",
       "      <td>010218ELIV1151</td>\n",
       "      <td>...</td>\n",
       "      <td>urn:lsid:marinespecies.org:taxname:104257</td>\n",
       "      <td>Species</td>\n",
       "      <td>Animalia</td>\n",
       "      <td>Arthropoda</td>\n",
       "      <td>Copepoda</td>\n",
       "      <td>Calanoida</td>\n",
       "      <td>Acartiidae</td>\n",
       "      <td>Acartia</td>\n",
       "      <td>(Lilljeborg, 1853)</td>\n",
       "      <td>ACARTIA LONGIREMIS</td>\n",
       "    </tr>\n",
       "    <tr>\n",
       "      <th>2</th>\n",
       "      <td>PSZMP-OCC-010218ELIV1151-101149-ACARTIA_LONGIR...</td>\n",
       "      <td>PSZMP-SMP-010218ELIV1151</td>\n",
       "      <td>MaterialSample</td>\n",
       "      <td>present</td>\n",
       "      <td>male</td>\n",
       "      <td>adult</td>\n",
       "      <td>https://vocab.nerc.ac.uk/collection/S10/curren...</td>\n",
       "      <td>https://vocab.nerc.ac.uk/collection/S11/curren...</td>\n",
       "      <td>101149</td>\n",
       "      <td>010218ELIV1151</td>\n",
       "      <td>...</td>\n",
       "      <td>urn:lsid:marinespecies.org:taxname:104257</td>\n",
       "      <td>Species</td>\n",
       "      <td>Animalia</td>\n",
       "      <td>Arthropoda</td>\n",
       "      <td>Copepoda</td>\n",
       "      <td>Calanoida</td>\n",
       "      <td>Acartiidae</td>\n",
       "      <td>Acartia</td>\n",
       "      <td>(Lilljeborg, 1853)</td>\n",
       "      <td>ACARTIA LONGIREMIS</td>\n",
       "    </tr>\n",
       "    <tr>\n",
       "      <th>3</th>\n",
       "      <td>PSZMP-OCC-010218ELIV1151-101151-AETIDEUS-ADULT-F</td>\n",
       "      <td>PSZMP-SMP-010218ELIV1151</td>\n",
       "      <td>MaterialSample</td>\n",
       "      <td>present</td>\n",
       "      <td>female</td>\n",
       "      <td>adult</td>\n",
       "      <td>https://vocab.nerc.ac.uk/collection/S10/curren...</td>\n",
       "      <td>https://vocab.nerc.ac.uk/collection/S11/curren...</td>\n",
       "      <td>101151</td>\n",
       "      <td>010218ELIV1151</td>\n",
       "      <td>...</td>\n",
       "      <td>urn:lsid:marinespecies.org:taxname:104112</td>\n",
       "      <td>Genus</td>\n",
       "      <td>Animalia</td>\n",
       "      <td>Arthropoda</td>\n",
       "      <td>Copepoda</td>\n",
       "      <td>Calanoida</td>\n",
       "      <td>Aetideidae</td>\n",
       "      <td>Aetideus</td>\n",
       "      <td>Brady, 1883</td>\n",
       "      <td>AETIDEUS</td>\n",
       "    </tr>\n",
       "    <tr>\n",
       "      <th>4</th>\n",
       "      <td>PSZMP-OCC-010218ELIV1151-101147-AGLANTHA_DIGIT...</td>\n",
       "      <td>PSZMP-SMP-010218ELIV1151</td>\n",
       "      <td>MaterialSample</td>\n",
       "      <td>present</td>\n",
       "      <td>indeterminate</td>\n",
       "      <td>medusae</td>\n",
       "      <td>https://vocab.nerc.ac.uk/collection/S10/curren...</td>\n",
       "      <td>https://vocab.nerc.ac.uk/collection/S11/curren...</td>\n",
       "      <td>101147</td>\n",
       "      <td>010218ELIV1151</td>\n",
       "      <td>...</td>\n",
       "      <td>urn:lsid:marinespecies.org:taxname:117849</td>\n",
       "      <td>Species</td>\n",
       "      <td>Animalia</td>\n",
       "      <td>Cnidaria</td>\n",
       "      <td>Hydrozoa</td>\n",
       "      <td>Trachymedusae</td>\n",
       "      <td>Rhopalonematidae</td>\n",
       "      <td>Aglantha</td>\n",
       "      <td>(O. F. Müller, 1776)</td>\n",
       "      <td>AGLANTHA DIGITALE</td>\n",
       "    </tr>\n",
       "  </tbody>\n",
       "</table>\n",
       "<p>5 rows × 26 columns</p>\n",
       "</div>"
      ],
      "text/plain": [
       "                                        occurrenceID  \\\n",
       "0  PSZMP-OCC-010218ELIV1151-101148-ACARTIA_HUDSON...   \n",
       "1  PSZMP-OCC-010218ELIV1151-101150-ACARTIA_LONGIR...   \n",
       "2  PSZMP-OCC-010218ELIV1151-101149-ACARTIA_LONGIR...   \n",
       "3   PSZMP-OCC-010218ELIV1151-101151-AETIDEUS-ADULT-F   \n",
       "4  PSZMP-OCC-010218ELIV1151-101147-AGLANTHA_DIGIT...   \n",
       "\n",
       "                    eventID   basisOfRecord occurrenceStatus            sex  \\\n",
       "0  PSZMP-SMP-010218ELIV1151  MaterialSample          present           male   \n",
       "1  PSZMP-SMP-010218ELIV1151  MaterialSample          present         female   \n",
       "2  PSZMP-SMP-010218ELIV1151  MaterialSample          present           male   \n",
       "3  PSZMP-SMP-010218ELIV1151  MaterialSample          present         female   \n",
       "4  PSZMP-SMP-010218ELIV1151  MaterialSample          present  indeterminate   \n",
       "\n",
       "  lifeStage                                         dwciri:sex  \\\n",
       "0     adult  https://vocab.nerc.ac.uk/collection/S10/curren...   \n",
       "1     adult  https://vocab.nerc.ac.uk/collection/S10/curren...   \n",
       "2     adult  https://vocab.nerc.ac.uk/collection/S10/curren...   \n",
       "3     adult  https://vocab.nerc.ac.uk/collection/S10/curren...   \n",
       "4   medusae  https://vocab.nerc.ac.uk/collection/S10/curren...   \n",
       "\n",
       "                                    dwciri:lifeStage  BugSampleID  \\\n",
       "0  https://vocab.nerc.ac.uk/collection/S11/curren...       101148   \n",
       "1  https://vocab.nerc.ac.uk/collection/S11/curren...       101150   \n",
       "2  https://vocab.nerc.ac.uk/collection/S11/curren...       101149   \n",
       "3  https://vocab.nerc.ac.uk/collection/S11/curren...       101151   \n",
       "4  https://vocab.nerc.ac.uk/collection/S11/curren...       101147   \n",
       "\n",
       "      sample_code  ...                           scientificNameID taxonRank  \\\n",
       "0  010218ELIV1151  ...  urn:lsid:marinespecies.org:taxname:157664   Species   \n",
       "1  010218ELIV1151  ...  urn:lsid:marinespecies.org:taxname:104257   Species   \n",
       "2  010218ELIV1151  ...  urn:lsid:marinespecies.org:taxname:104257   Species   \n",
       "3  010218ELIV1151  ...  urn:lsid:marinespecies.org:taxname:104112     Genus   \n",
       "4  010218ELIV1151  ...  urn:lsid:marinespecies.org:taxname:117849   Species   \n",
       "\n",
       "    kingdom      phylum     class          order            family     genus  \\\n",
       "0  Animalia  Arthropoda  Copepoda      Calanoida        Acartiidae   Acartia   \n",
       "1  Animalia  Arthropoda  Copepoda      Calanoida        Acartiidae   Acartia   \n",
       "2  Animalia  Arthropoda  Copepoda      Calanoida        Acartiidae   Acartia   \n",
       "3  Animalia  Arthropoda  Copepoda      Calanoida        Aetideidae  Aetideus   \n",
       "4  Animalia    Cnidaria  Hydrozoa  Trachymedusae  Rhopalonematidae  Aglantha   \n",
       "\n",
       "  scientificNameAuthorship verbatimIdentification  \n",
       "0             Pinhey, 1926      ACARTIA HUDSONICA  \n",
       "1       (Lilljeborg, 1853)     ACARTIA LONGIREMIS  \n",
       "2       (Lilljeborg, 1853)     ACARTIA LONGIREMIS  \n",
       "3              Brady, 1883               AETIDEUS  \n",
       "4     (O. F. Müller, 1776)      AGLANTHA DIGITALE  \n",
       "\n",
       "[5 rows x 26 columns]"
      ]
     },
     "execution_count": 18,
     "metadata": {},
     "output_type": "execute_result"
    }
   ],
   "source": [
    "occurrence_df.head(5)"
   ]
  },
  {
   "cell_type": "markdown",
   "id": "8038716c-99b4-41e8-97c2-5dc1172dbe6d",
   "metadata": {
    "tags": []
   },
   "source": [
    "## Export intermediate table for `life_history_stage` matching to csv"
   ]
  },
  {
   "cell_type": "code",
   "execution_count": 19,
   "id": "85bc1fd9-b3f5-4a4c-9512-cf8de6b01f56",
   "metadata": {},
   "outputs": [],
   "source": [
    "if not debug_no_csvexport:\n",
    "    occurrence_df[['occurrenceID', 'life_history_stage']].to_csv(\n",
    "        data_pth / 'intermediate_DwC_occurrence_life_history_stage.csv', index=False\n",
    "    )"
   ]
  },
  {
   "cell_type": "markdown",
   "id": "9e197e48-2c90-4179-93a0-82448a2f83be",
   "metadata": {},
   "source": [
    "## Export `occurrence_df` to csv"
   ]
  },
  {
   "cell_type": "code",
   "execution_count": 20,
   "id": "9b81eee4-e7f5-4597-b05a-98b8496f13a8",
   "metadata": {},
   "outputs": [
    {
     "data": {
      "text/plain": [
       "185737"
      ]
     },
     "execution_count": 20,
     "metadata": {},
     "output_type": "execute_result"
    }
   ],
   "source": [
    "len(occurrence_df)"
   ]
  },
  {
   "cell_type": "markdown",
   "id": "41c2b5c1-6f68-4b59-869e-ad90965b9ec5",
   "metadata": {},
   "source": [
    "First remove interim columns that won't be exported."
   ]
  },
  {
   "cell_type": "code",
   "execution_count": 21,
   "id": "aec207dc-e744-44ab-a45f-f7466c006b5c",
   "metadata": {},
   "outputs": [],
   "source": [
    "occurrence_df.drop(\n",
    "    columns=['BugSampleID', 'sample_code', 'Genus species', 'species', 'life_history_stage', 'lhs_0', 'lhs_1'], \n",
    "    inplace=True\n",
    ")"
   ]
  },
  {
   "cell_type": "code",
   "execution_count": 22,
   "id": "9f791596",
   "metadata": {},
   "outputs": [],
   "source": [
    "csv_fpth = data_pth / \"aligned_csvs\" / \"DwC_occurrence.csv\""
   ]
  },
  {
   "cell_type": "code",
   "execution_count": 23,
   "id": "e752547f",
   "metadata": {},
   "outputs": [],
   "source": [
    "if not debug_no_csvexport:\n",
    "    occurrence_df.to_csv(csv_fpth, index=False)"
   ]
  },
  {
   "cell_type": "markdown",
   "id": "d1218ec9",
   "metadata": {},
   "source": [
    "### Create zip file with the csv"
   ]
  },
  {
   "cell_type": "code",
   "execution_count": 24,
   "id": "6ccbc4a7",
   "metadata": {},
   "outputs": [],
   "source": [
    "if not debug_no_csvexport:\n",
    "    create_csv_zip(csv_fpth)"
   ]
  },
  {
   "cell_type": "markdown",
   "id": "33b79cd2-7ed8-4140-aff5-0e0c7a3f70dc",
   "metadata": {},
   "source": [
    "## Package versions"
   ]
  },
  {
   "cell_type": "code",
   "execution_count": 25,
   "id": "75425407-a653-4f3a-bff0-742adb207482",
   "metadata": {},
   "outputs": [
    {
     "name": "stdout",
     "output_type": "stream",
     "text": [
      "2024-10-06 20:12:42.420984 +00:00\n",
      "pandas: 1.5.3\n"
     ]
    }
   ],
   "source": [
    "print(\n",
    "    f\"{datetime.utcnow()} +00:00\\n\"\n",
    "    f\"pandas: {pd.__version__}\"\n",
    ")"
   ]
  },
  {
   "cell_type": "code",
   "execution_count": null,
   "id": "466e080f-b3ea-42ab-8c59-93a0be7a0f48",
   "metadata": {},
   "outputs": [],
   "source": []
  }
 ],
 "metadata": {
  "kernelspec": {
   "display_name": "nanoos_bio",
   "language": "python",
   "name": "python3"
  },
  "language_info": {
   "codemirror_mode": {
    "name": "ipython",
    "version": 3
   },
   "file_extension": ".py",
   "mimetype": "text/x-python",
   "name": "python",
   "nbconvert_exporter": "python",
   "pygments_lexer": "ipython3",
   "version": "3.9.16"
  }
 },
 "nbformat": 4,
 "nbformat_minor": 5
}
