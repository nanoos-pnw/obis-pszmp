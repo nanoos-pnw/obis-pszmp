{
 "cells": [
  {
   "cell_type": "markdown",
   "id": "3cea07da-ea43-4a06-ae58-7c084934cd85",
   "metadata": {},
   "source": [
    "# Darwin Core (DwC) **Taxonomy Mappings**, Puget Sound Zooplankton Monitoring Program (PSZMP) dataset\n",
    "\n",
    "Alignment of zooplankton dataset to the [Darwin Core (DwC) data standard](https://dwc.tdwg.or/), carried out by **NANOOS**, https://www.nanoos.org. This data alignment work, including this Jupyter notebook, is described in the NANOOS GitHub repository https://github.com/nanoos-pnw/obis-pszmp. See [README.md](https://github.com/nanoos-pnw/obis-pszmp/blob/main/README.md) for further background on the dataset, DwC and data transformations.\n",
    "\n",
    "Emilio Mayorga, https://github.com/emiliom"
   ]
  },
  {
   "cell_type": "markdown",
   "id": "3645a720-a752-4a45-9ed6-e1995f44c085",
   "metadata": {},
   "source": [
    "## Goals and scope of this notebook\n",
    "\n",
    "Match taxonomic information found in the source data with corresponding, fully fleshed out information from [WoRMS](https://www.marinespecies.org/) (World Register of Marine Species). In addition to automatic match-ups, several manual match-ups are applied as a pre-processing step in [data_preprocess.py](data_preprocess.py), based on unsuccessful matches and input from the PSZMP team. The taxonomic match-up is performed on a version of the original `Genus species` entries, `Genus species_lc` where the original strings were turned into all-lowercase and variations containing non-taxonomic information were simplified and homogogenized (eg, \"PSEUDOCALANUS Lg\" and \"PSEUDOCALANUS\" are both transformed into \"pseudocalanus\"). The column `Genus species_lc` is renamed to `species` for simplicity (though that's a misnomer). This notebook creates an intermediate file, `intermediate_DwC_taxonomy.csv`, containing the taxonomic match-up between the original, unmodified `Genus species` entry and the corresponding WoRMS information, used later in the `PSZMP-dwcOccurrence.ipynb` notebook."
   ]
  },
  {
   "cell_type": "markdown",
   "id": "3b124244-437b-481e-b96a-1dee1394f0a6",
   "metadata": {},
   "source": [
    "## Settings"
   ]
  },
  {
   "cell_type": "code",
   "execution_count": 1,
   "id": "9b77a976-0f57-4a5e-b3e9-86183c8ec23a",
   "metadata": {},
   "outputs": [],
   "source": [
    "from datetime import datetime\n",
    "from pathlib import Path\n",
    "\n",
    "import pandas as pd\n",
    "import pyworms\n",
    "\n",
    "from data_preprocess import read_and_parse_sourcedata"
   ]
  },
  {
   "cell_type": "code",
   "execution_count": 2,
   "id": "7d705db8-333b-4462-8683-5bd29b4f9217",
   "metadata": {},
   "outputs": [],
   "source": [
    "data_pth = Path(\".\")"
   ]
  },
  {
   "cell_type": "markdown",
   "id": "edfe4a58-3365-43e6-9bc9-2aa92f3afd9a",
   "metadata": {},
   "source": [
    "Set to `True` when debugging. `csv` ﬁles will not be exported when `debug_no_csvexport = True`"
   ]
  },
  {
   "cell_type": "code",
   "execution_count": 3,
   "id": "331ff934-de31-43ee-954a-85b94c0a64dd",
   "metadata": {},
   "outputs": [],
   "source": [
    "debug_no_csvexport = False"
   ]
  },
  {
   "cell_type": "markdown",
   "id": "1ae1a50d-a1d9-42c3-92ca-5d5eb71eaa04",
   "metadata": {},
   "source": [
    "## Pre-process data for taxonomy table"
   ]
  },
  {
   "cell_type": "markdown",
   "id": "5368a2d3",
   "metadata": {},
   "source": [
    "### Read and pre-processe the source data from Excel file"
   ]
  },
  {
   "cell_type": "markdown",
   "id": "c0a251f8-1a64-44c7-8e26-6a6e6ce6dfc0",
   "metadata": {},
   "source": [
    "`usecols` defines the columns that will be kept and the order in which they'll be organized"
   ]
  },
  {
   "cell_type": "code",
   "execution_count": 4,
   "id": "23e87eb5-03f9-45ef-aa0a-34e413b9f2c7",
   "metadata": {},
   "outputs": [],
   "source": [
    "# NOTE: Not sure 'Sample Code' is actually used in this notebook\n",
    "usecols = ['Sample Code', 'Genus species', 'Genus species_lc']\n",
    "\n",
    "# taxonsource_df = read_and_parse_sourcedata(test_n_rows=1000)[usecols]\n",
    "taxonsource_df = read_and_parse_sourcedata()[usecols]\n",
    "\n",
    "# Map column names to simpler, more manageable ones\n",
    "taxonsource_df.rename(\n",
    "    columns={\n",
    "        'Sample Code':'sample_code',\n",
    "        'Genus species_lc':'species',\n",
    "    },\n",
    "    inplace=True\n",
    ")"
   ]
  },
  {
   "cell_type": "code",
   "execution_count": 5,
   "id": "c6e7a9a7-0838-4d17-8b6b-a371f71bca8c",
   "metadata": {},
   "outputs": [
    {
     "data": {
      "text/plain": [
       "185729"
      ]
     },
     "execution_count": 5,
     "metadata": {},
     "output_type": "execute_result"
    }
   ],
   "source": [
    "len(taxonsource_df)"
   ]
  },
  {
   "cell_type": "code",
   "execution_count": 6,
   "id": "c92fd729-9a28-4454-a67b-faa3ae1484ac",
   "metadata": {},
   "outputs": [
    {
     "data": {
      "text/html": [
       "<div>\n",
       "<style scoped>\n",
       "    .dataframe tbody tr th:only-of-type {\n",
       "        vertical-align: middle;\n",
       "    }\n",
       "\n",
       "    .dataframe tbody tr th {\n",
       "        vertical-align: top;\n",
       "    }\n",
       "\n",
       "    .dataframe thead th {\n",
       "        text-align: right;\n",
       "    }\n",
       "</style>\n",
       "<table border=\"1\" class=\"dataframe\">\n",
       "  <thead>\n",
       "    <tr style=\"text-align: right;\">\n",
       "      <th></th>\n",
       "      <th>sample_code</th>\n",
       "      <th>Genus species</th>\n",
       "      <th>species</th>\n",
       "    </tr>\n",
       "  </thead>\n",
       "  <tbody>\n",
       "    <tr>\n",
       "      <th>0</th>\n",
       "      <td>032514DANAD1147</td>\n",
       "      <td>ALPHEIDAE</td>\n",
       "      <td>alpheidae</td>\n",
       "    </tr>\n",
       "    <tr>\n",
       "      <th>1</th>\n",
       "      <td>032514DANAD1147</td>\n",
       "      <td>BARNACLES</td>\n",
       "      <td>cirripedia</td>\n",
       "    </tr>\n",
       "    <tr>\n",
       "      <th>2</th>\n",
       "      <td>032514DANAD1147</td>\n",
       "      <td>BARNACLES</td>\n",
       "      <td>cirripedia</td>\n",
       "    </tr>\n",
       "    <tr>\n",
       "      <th>3</th>\n",
       "      <td>032514DANAD1147</td>\n",
       "      <td>CALANUS</td>\n",
       "      <td>calanus</td>\n",
       "    </tr>\n",
       "    <tr>\n",
       "      <th>4</th>\n",
       "      <td>032514DANAD1147</td>\n",
       "      <td>CANCRIDAE</td>\n",
       "      <td>cancridae</td>\n",
       "    </tr>\n",
       "  </tbody>\n",
       "</table>\n",
       "</div>"
      ],
      "text/plain": [
       "       sample_code Genus species     species\n",
       "0  032514DANAD1147     ALPHEIDAE   alpheidae\n",
       "1  032514DANAD1147     BARNACLES  cirripedia\n",
       "2  032514DANAD1147     BARNACLES  cirripedia\n",
       "3  032514DANAD1147       CALANUS     calanus\n",
       "4  032514DANAD1147     CANCRIDAE   cancridae"
      ]
     },
     "execution_count": 6,
     "metadata": {},
     "output_type": "execute_result"
    }
   ],
   "source": [
    "taxonsource_df.head()"
   ]
  },
  {
   "cell_type": "markdown",
   "id": "81d8f505-35f7-4a9e-bad8-6812e666f6fb",
   "metadata": {},
   "source": [
    "## Perform taxon matching with pyworms"
   ]
  },
  {
   "cell_type": "markdown",
   "id": "1b0ea49e-1871-4263-a7e5-88e87458caa2",
   "metadata": {},
   "source": [
    "Next, we perform a taxonomic lookup using the library [pyworms](https://pyworms.readthedocs.io/en/latest/) using the function `pyworms.aphiaRecordsByMatchNames()` to collect the information and populate the look-up table."
   ]
  },
  {
   "cell_type": "code",
   "execution_count": null,
   "id": "efb40156-c262-497d-a62d-733088929a77",
   "metadata": {},
   "outputs": [
    {
     "data": {
      "text/plain": [
       "chaetognatha              12117\n",
       "calanus pacificus          8815\n",
       "euphausia pacifica         7359\n",
       "metridia pacifica          5686\n",
       "cirripedia                 5372\n",
       "                          ...  \n",
       "eucalanus hyalinus            1\n",
       "farranula                     1\n",
       "paraphronima crassipes        1\n",
       "tiaropsis                     1\n",
       "zaus                          1\n",
       "Name: species, Length: 261, dtype: int64"
      ]
     },
     "execution_count": 7,
     "metadata": {},
     "output_type": "execute_result"
    }
   ],
   "source": [
    "species_valuecnt = taxonsource_df['species'].value_counts()\n",
    "species_valuecnt"
   ]
  },
  {
   "cell_type": "markdown",
   "id": "714904af-466b-429a-b7d3-447df8beb523",
   "metadata": {},
   "source": [
    "`species_list` will be a sorted list of unique `species` entries."
   ]
  },
  {
   "cell_type": "code",
   "execution_count": null,
   "id": "eef8f193-ff4e-4a79-8b12-0b0d232cfb76",
   "metadata": {},
   "outputs": [
    {
     "data": {
      "text/plain": [
       "261"
      ]
     },
     "execution_count": 8,
     "metadata": {},
     "output_type": "execute_result"
    }
   ],
   "source": [
    "species_list = sorted(list(taxonsource_df['species'].unique()))\n",
    "\n",
    "len(species_list)"
   ]
  },
  {
   "cell_type": "code",
   "execution_count": 9,
   "id": "e397bf17-3a46-4355-a4b9-971e05f8d935",
   "metadata": {},
   "outputs": [
    {
     "name": "stdout",
     "output_type": "stream",
     "text": [
      "CPU times: user 256 ms, sys: 7.27 ms, total: 263 ms\n",
      "Wall time: 47.5 s\n"
     ]
    }
   ],
   "source": [
    "%%time\n",
    "resp = pyworms.aphiaRecordsByMatchNames(\n",
    "    [s.replace('_', ' ') for s in species_list]\n",
    ")"
   ]
  },
  {
   "cell_type": "code",
   "execution_count": 10,
   "id": "326a8321-0755-42ce-93e4-906f8c23417d",
   "metadata": {},
   "outputs": [
    {
     "data": {
      "text/plain": [
       "261"
      ]
     },
     "execution_count": 10,
     "metadata": {},
     "output_type": "execute_result"
    }
   ],
   "source": [
    "len(resp)"
   ]
  },
  {
   "cell_type": "code",
   "execution_count": null,
   "id": "b08eec28-156a-4a4b-89b5-e4ce7c39c416",
   "metadata": {},
   "outputs": [
    {
     "data": {
      "text/plain": [
       "{'AphiaID': 157664,\n",
       " 'url': 'https://www.marinespecies.org/aphia.php?p=taxdetails&id=157664',\n",
       " 'scientificname': 'Acartia hudsonica',\n",
       " 'authority': 'Pinhey, 1926',\n",
       " 'status': 'alternative representation',\n",
       " 'unacceptreason': None,\n",
       " 'taxonRankID': 220,\n",
       " 'rank': 'Species',\n",
       " 'valid_AphiaID': 149751,\n",
       " 'valid_name': 'Acartia (Acartiura) hudsonica',\n",
       " 'valid_authority': 'Pinhey, 1926',\n",
       " 'parentNameUsageID': 104108,\n",
       " 'kingdom': 'Animalia',\n",
       " 'phylum': 'Arthropoda',\n",
       " 'class': 'Copepoda',\n",
       " 'order': 'Calanoida',\n",
       " 'family': 'Acartiidae',\n",
       " 'genus': 'Acartia',\n",
       " 'citation': 'Walter, T.C.; Boxshall, G. (2024). World of Copepods Database. Acartia hudsonica Pinhey, 1926. Accessed through: World Register of Marine Species at: https://www.marinespecies.org/aphia.php?p=taxdetails&id=157664 on 2024-12-12',\n",
       " 'lsid': 'urn:lsid:marinespecies.org:taxname:157664',\n",
       " 'isMarine': 1,\n",
       " 'isBrackish': 0,\n",
       " 'isFreshwater': 0,\n",
       " 'isTerrestrial': 0,\n",
       " 'isExtinct': None,\n",
       " 'match_type': 'exact',\n",
       " 'modified': '2023-12-09T12:47:42.820Z'}"
      ]
     },
     "execution_count": 11,
     "metadata": {},
     "output_type": "execute_result"
    }
   ],
   "source": [
    "resp[1][0]"
   ]
  },
  {
   "cell_type": "markdown",
   "id": "b32ed74b-f981-4479-ab51-4bcedfb7064b",
   "metadata": {},
   "source": [
    "Create dictionary of successfuly matches by `AphiaID`, to pull out information conveniently"
   ]
  },
  {
   "cell_type": "code",
   "execution_count": null,
   "id": "33f74272-24de-4270-8afd-af1005acaffa",
   "metadata": {},
   "outputs": [
    {
     "data": {
      "text/plain": [
       "261"
      ]
     },
     "execution_count": 12,
     "metadata": {},
     "output_type": "execute_result"
    }
   ],
   "source": [
    "resp_matched_byaphiaid = {r[0]['AphiaID']:r[0] for r in resp if len(r) > 0}\n",
    "\n",
    "len(resp_matched_byaphiaid)"
   ]
  },
  {
   "cell_type": "markdown",
   "id": "f4d5ab95",
   "metadata": {},
   "source": [
    "If this test is `True`, all `species` entries were successfully matched."
   ]
  },
  {
   "cell_type": "code",
   "execution_count": null,
   "id": "bc35c531",
   "metadata": {},
   "outputs": [
    {
     "data": {
      "text/plain": [
       "True"
      ]
     },
     "execution_count": 13,
     "metadata": {},
     "output_type": "execute_result"
    }
   ],
   "source": [
    "len(species_list) == len(resp_matched_byaphiaid)"
   ]
  },
  {
   "cell_type": "markdown",
   "id": "374237f4-02d9-4cfb-80aa-4d2431f1f6aa",
   "metadata": {},
   "source": [
    "Create simple dictionary of `species` (original dataset species name) vs `AphiaID`"
   ]
  },
  {
   "cell_type": "code",
   "execution_count": 14,
   "id": "96ef1161-cfef-497f-ad28-eaf861dc3a5c",
   "metadata": {},
   "outputs": [],
   "source": [
    "species_worms_all = {}\n",
    "for spec,r in zip(species_list, resp):\n",
    "    aphiaID = r[0]['AphiaID'] if len(r) > 0 else None\n",
    "    species_worms_all[spec] = aphiaID"
   ]
  },
  {
   "cell_type": "markdown",
   "id": "eadda705-6c44-4093-8aee-342ad2e95ffd",
   "metadata": {},
   "source": [
    "Print a few of the *successful* matches, with corresponding `AphiaID`, followed by an example of the use of `resp_matched_byaphiaid` to bring in all the taxonomic information returned by `pyworms` (eg, for species name, 'CANCER_GRACILIS' > 'Metacarcinus gracilis')"
   ]
  },
  {
   "cell_type": "code",
   "execution_count": 15,
   "id": "ebae63c9-210f-4df0-9daf-bc8f30d43ef7",
   "metadata": {},
   "outputs": [
    {
     "name": "stdout",
     "output_type": "stream",
     "text": [
      "acartia: 104108\n",
      "acartia hudsonica: 157664\n",
      "acartia longiremis: 104257\n",
      "acartia tonsa: 104262\n",
      "aegina citrea: 117263\n",
      "aequorea victoria: 283998\n",
      "aetideidae: 104075\n",
      "aetideus: 104112\n",
      "aglantha digitale: 117849\n",
      "alienacanthomysis macropsis: 226662\n"
     ]
    }
   ],
   "source": [
    "for k,v in list(species_worms_all.items())[:10]:\n",
    "    print(f\"{k}: {v}\")"
   ]
  },
  {
   "cell_type": "code",
   "execution_count": 16,
   "id": "1edb1123-b34f-414e-b439-d0152743fe04",
   "metadata": {},
   "outputs": [
    {
     "data": {
      "text/plain": [
       "{'AphiaID': 104257,\n",
       " 'url': 'https://www.marinespecies.org/aphia.php?p=taxdetails&id=104257',\n",
       " 'scientificname': 'Acartia longiremis',\n",
       " 'authority': '(Lilljeborg, 1853)',\n",
       " 'status': 'alternative representation',\n",
       " 'unacceptreason': None,\n",
       " 'taxonRankID': 220,\n",
       " 'rank': 'Species',\n",
       " 'valid_AphiaID': 346037,\n",
       " 'valid_name': 'Acartia (Acartiura) longiremis',\n",
       " 'valid_authority': '(Lilljeborg, 1853)',\n",
       " 'parentNameUsageID': 104108,\n",
       " 'kingdom': 'Animalia',\n",
       " 'phylum': 'Arthropoda',\n",
       " 'class': 'Copepoda',\n",
       " 'order': 'Calanoida',\n",
       " 'family': 'Acartiidae',\n",
       " 'genus': 'Acartia',\n",
       " 'citation': 'Walter, T.C.; Boxshall, G. (2024). World of Copepods Database. Acartia longiremis (Lilljeborg, 1853). Accessed through: World Register of Marine Species at: https://www.marinespecies.org/aphia.php?p=taxdetails&id=104257 on 2024-12-12',\n",
       " 'lsid': 'urn:lsid:marinespecies.org:taxname:104257',\n",
       " 'isMarine': 1,\n",
       " 'isBrackish': 0,\n",
       " 'isFreshwater': 0,\n",
       " 'isTerrestrial': 0,\n",
       " 'isExtinct': None,\n",
       " 'match_type': 'exact',\n",
       " 'modified': '2008-06-27T08:45:14.087Z'}"
      ]
     },
     "execution_count": 16,
     "metadata": {},
     "output_type": "execute_result"
    }
   ],
   "source": [
    "resp_matched_byaphiaid[species_worms_all['acartia longiremis']]"
   ]
  },
  {
   "cell_type": "markdown",
   "id": "2aedb629-1a19-419e-950e-c0efad1a4f05",
   "metadata": {},
   "source": [
    "## Confirm there are no unmatched species"
   ]
  },
  {
   "cell_type": "code",
   "execution_count": 17,
   "id": "796c4960-c216-4986-871e-19466b4b283f",
   "metadata": {},
   "outputs": [
    {
     "data": {
      "text/plain": [
       "[]"
      ]
     },
     "execution_count": 17,
     "metadata": {},
     "output_type": "execute_result"
    }
   ],
   "source": [
    "species_worms_no_match = [\n",
    "    (k,species_valuecnt[k]) for k,v in species_worms_all.items()\n",
    "    if v is None\n",
    "]\n",
    "\n",
    "# Entries not matched by `pyworms`, followed by their occurrence count\n",
    "species_worms_no_match"
   ]
  },
  {
   "cell_type": "markdown",
   "id": "605dbe45-686c-4cd1-b946-37dc92f80b73",
   "metadata": {},
   "source": [
    "For code to apply here (instead of or in addition to in `data_preprocess.py`) a manual substitution of taxa that were not matched by WoRMS, see the corresponding code in the Hood Canal zooplankton dataset notebook, [Keister-dwcTaxonomy.ipynb](https://github.com/nanoos-pnw/obis-keisterhczoop/blob/main/Keister-dwcTaxonomy.ipynb)."
   ]
  },
  {
   "cell_type": "markdown",
   "id": "e1bcc050-a097-4ac1-a197-aebeffc815b3",
   "metadata": {},
   "source": [
    "## Final taxon look-up table\n",
    "\n",
    "`aphiaid` will be `None` if there was no match."
   ]
  },
  {
   "cell_type": "code",
   "execution_count": null,
   "id": "4984215b-ec41-4748-b887-7e33b33bf65f",
   "metadata": {},
   "outputs": [
    {
     "data": {
      "text/plain": [
       "261"
      ]
     },
     "execution_count": 18,
     "metadata": {},
     "output_type": "execute_result"
    }
   ],
   "source": [
    "species_worms_lut_df = pd.DataFrame.from_dict(species_worms_all, orient='index', columns=['aphiaid'])\n",
    "species_worms_lut_df['species'] = species_worms_lut_df.index\n",
    "\n",
    "len(species_worms_lut_df)"
   ]
  },
  {
   "cell_type": "code",
   "execution_count": 19,
   "id": "a93d1d04-7d00-48b2-b0d8-92eb32dfef17",
   "metadata": {},
   "outputs": [
    {
     "data": {
      "text/html": [
       "<div>\n",
       "<style scoped>\n",
       "    .dataframe tbody tr th:only-of-type {\n",
       "        vertical-align: middle;\n",
       "    }\n",
       "\n",
       "    .dataframe tbody tr th {\n",
       "        vertical-align: top;\n",
       "    }\n",
       "\n",
       "    .dataframe thead th {\n",
       "        text-align: right;\n",
       "    }\n",
       "</style>\n",
       "<table border=\"1\" class=\"dataframe\">\n",
       "  <thead>\n",
       "    <tr style=\"text-align: right;\">\n",
       "      <th></th>\n",
       "      <th>aphiaid</th>\n",
       "      <th>species</th>\n",
       "    </tr>\n",
       "  </thead>\n",
       "  <tbody>\n",
       "    <tr>\n",
       "      <th>acartia</th>\n",
       "      <td>104108</td>\n",
       "      <td>acartia</td>\n",
       "    </tr>\n",
       "    <tr>\n",
       "      <th>acartia hudsonica</th>\n",
       "      <td>157664</td>\n",
       "      <td>acartia hudsonica</td>\n",
       "    </tr>\n",
       "    <tr>\n",
       "      <th>acartia longiremis</th>\n",
       "      <td>104257</td>\n",
       "      <td>acartia longiremis</td>\n",
       "    </tr>\n",
       "    <tr>\n",
       "      <th>acartia tonsa</th>\n",
       "      <td>104262</td>\n",
       "      <td>acartia tonsa</td>\n",
       "    </tr>\n",
       "    <tr>\n",
       "      <th>aegina citrea</th>\n",
       "      <td>117263</td>\n",
       "      <td>aegina citrea</td>\n",
       "    </tr>\n",
       "  </tbody>\n",
       "</table>\n",
       "</div>"
      ],
      "text/plain": [
       "                    aphiaid             species\n",
       "acartia              104108             acartia\n",
       "acartia hudsonica    157664   acartia hudsonica\n",
       "acartia longiremis   104257  acartia longiremis\n",
       "acartia tonsa        104262       acartia tonsa\n",
       "aegina citrea        117263       aegina citrea"
      ]
     },
     "execution_count": 19,
     "metadata": {},
     "output_type": "execute_result"
    }
   ],
   "source": [
    "species_worms_lut_df.head()"
   ]
  },
  {
   "cell_type": "markdown",
   "id": "7d29f5d4-b89e-4712-923c-8065f3c73bd8",
   "metadata": {},
   "source": [
    "If `aphiaid` contains some nulls, it was cast to `float` (because of the creation of `NaN` values). Remove those rows, if any, then cast `aphiaid` to `int`."
   ]
  },
  {
   "cell_type": "code",
   "execution_count": 20,
   "id": "bc889958-458f-498b-a423-f834954d888c",
   "metadata": {},
   "outputs": [
    {
     "data": {
      "text/plain": [
       "261"
      ]
     },
     "execution_count": 20,
     "metadata": {},
     "output_type": "execute_result"
    }
   ],
   "source": [
    "species_worms_lut_df.dropna(axis='rows', inplace=True)\n",
    "species_worms_lut_df['aphiaid'] = species_worms_lut_df['aphiaid'].astype(int)\n",
    "\n",
    "len(species_worms_lut_df)"
   ]
  },
  {
   "cell_type": "code",
   "execution_count": 21,
   "id": "cea943a9-580d-45dd-bc00-48c67cbfab97",
   "metadata": {},
   "outputs": [],
   "source": [
    "col_mapping = [\n",
    "    ('scientificName', 'scientificname'),\n",
    "    ('scientificNameID', 'lsid'),\n",
    "    ('taxonRank', 'rank'),\n",
    "    ('kingdom', 'kingdom'),\n",
    "    ('phylum', 'phylum'),\n",
    "    ('class', 'class'),\n",
    "    ('order', 'order'),\n",
    "    ('family', 'family'),\n",
    "    ('genus', 'genus'),\n",
    "    ('scientificNameAuthorship', 'authority')\n",
    "]\n",
    "\n",
    "for cm in col_mapping:\n",
    "    species_worms_lut_df[cm[0]] = species_worms_lut_df['aphiaid'].apply(\n",
    "        lambda aid: resp_matched_byaphiaid[aid][cm[1]]\n",
    "    )"
   ]
  },
  {
   "cell_type": "code",
   "execution_count": 22,
   "id": "eef82e4b",
   "metadata": {},
   "outputs": [
    {
     "data": {
      "text/plain": [
       "set()"
      ]
     },
     "execution_count": 22,
     "metadata": {},
     "output_type": "execute_result"
    }
   ],
   "source": [
    "set(species_list).difference(set(species_worms_lut_df['species'].unique()))"
   ]
  },
  {
   "cell_type": "code",
   "execution_count": null,
   "id": "72fabb47-860c-4de0-8ce5-0a9457d176ce",
   "metadata": {},
   "outputs": [
    {
     "data": {
      "text/html": [
       "<div>\n",
       "<style scoped>\n",
       "    .dataframe tbody tr th:only-of-type {\n",
       "        vertical-align: middle;\n",
       "    }\n",
       "\n",
       "    .dataframe tbody tr th {\n",
       "        vertical-align: top;\n",
       "    }\n",
       "\n",
       "    .dataframe thead th {\n",
       "        text-align: right;\n",
       "    }\n",
       "</style>\n",
       "<table border=\"1\" class=\"dataframe\">\n",
       "  <thead>\n",
       "    <tr style=\"text-align: right;\">\n",
       "      <th></th>\n",
       "      <th>aphiaid</th>\n",
       "      <th>species</th>\n",
       "      <th>scientificName</th>\n",
       "      <th>scientificNameID</th>\n",
       "      <th>taxonRank</th>\n",
       "      <th>kingdom</th>\n",
       "      <th>phylum</th>\n",
       "      <th>class</th>\n",
       "      <th>order</th>\n",
       "      <th>family</th>\n",
       "      <th>genus</th>\n",
       "      <th>scientificNameAuthorship</th>\n",
       "    </tr>\n",
       "  </thead>\n",
       "  <tbody>\n",
       "    <tr>\n",
       "      <th>acartia</th>\n",
       "      <td>104108</td>\n",
       "      <td>acartia</td>\n",
       "      <td>Acartia</td>\n",
       "      <td>urn:lsid:marinespecies.org:taxname:104108</td>\n",
       "      <td>Genus</td>\n",
       "      <td>Animalia</td>\n",
       "      <td>Arthropoda</td>\n",
       "      <td>Copepoda</td>\n",
       "      <td>Calanoida</td>\n",
       "      <td>Acartiidae</td>\n",
       "      <td>Acartia</td>\n",
       "      <td>Dana, 1846</td>\n",
       "    </tr>\n",
       "    <tr>\n",
       "      <th>acartia hudsonica</th>\n",
       "      <td>157664</td>\n",
       "      <td>acartia hudsonica</td>\n",
       "      <td>Acartia hudsonica</td>\n",
       "      <td>urn:lsid:marinespecies.org:taxname:157664</td>\n",
       "      <td>Species</td>\n",
       "      <td>Animalia</td>\n",
       "      <td>Arthropoda</td>\n",
       "      <td>Copepoda</td>\n",
       "      <td>Calanoida</td>\n",
       "      <td>Acartiidae</td>\n",
       "      <td>Acartia</td>\n",
       "      <td>Pinhey, 1926</td>\n",
       "    </tr>\n",
       "    <tr>\n",
       "      <th>acartia longiremis</th>\n",
       "      <td>104257</td>\n",
       "      <td>acartia longiremis</td>\n",
       "      <td>Acartia longiremis</td>\n",
       "      <td>urn:lsid:marinespecies.org:taxname:104257</td>\n",
       "      <td>Species</td>\n",
       "      <td>Animalia</td>\n",
       "      <td>Arthropoda</td>\n",
       "      <td>Copepoda</td>\n",
       "      <td>Calanoida</td>\n",
       "      <td>Acartiidae</td>\n",
       "      <td>Acartia</td>\n",
       "      <td>(Lilljeborg, 1853)</td>\n",
       "    </tr>\n",
       "    <tr>\n",
       "      <th>acartia tonsa</th>\n",
       "      <td>104262</td>\n",
       "      <td>acartia tonsa</td>\n",
       "      <td>Acartia tonsa</td>\n",
       "      <td>urn:lsid:marinespecies.org:taxname:104262</td>\n",
       "      <td>Species</td>\n",
       "      <td>Animalia</td>\n",
       "      <td>Arthropoda</td>\n",
       "      <td>Copepoda</td>\n",
       "      <td>Calanoida</td>\n",
       "      <td>Acartiidae</td>\n",
       "      <td>Acartia</td>\n",
       "      <td>Dana, 1849-1852</td>\n",
       "    </tr>\n",
       "    <tr>\n",
       "      <th>aegina citrea</th>\n",
       "      <td>117263</td>\n",
       "      <td>aegina citrea</td>\n",
       "      <td>Aegina citrea</td>\n",
       "      <td>urn:lsid:marinespecies.org:taxname:117263</td>\n",
       "      <td>Species</td>\n",
       "      <td>Animalia</td>\n",
       "      <td>Cnidaria</td>\n",
       "      <td>Hydrozoa</td>\n",
       "      <td>Narcomedusae</td>\n",
       "      <td>Aeginidae</td>\n",
       "      <td>Aegina</td>\n",
       "      <td>Eschscholtz, 1829</td>\n",
       "    </tr>\n",
       "    <tr>\n",
       "      <th>aequorea victoria</th>\n",
       "      <td>283998</td>\n",
       "      <td>aequorea victoria</td>\n",
       "      <td>Aequorea victoria</td>\n",
       "      <td>urn:lsid:marinespecies.org:taxname:283998</td>\n",
       "      <td>Species</td>\n",
       "      <td>Animalia</td>\n",
       "      <td>Cnidaria</td>\n",
       "      <td>Hydrozoa</td>\n",
       "      <td>Leptothecata</td>\n",
       "      <td>Aequoreidae</td>\n",
       "      <td>Aequorea</td>\n",
       "      <td>(Murbach &amp; Shearer, 1902)</td>\n",
       "    </tr>\n",
       "    <tr>\n",
       "      <th>aetideidae</th>\n",
       "      <td>104075</td>\n",
       "      <td>aetideidae</td>\n",
       "      <td>Aetideidae</td>\n",
       "      <td>urn:lsid:marinespecies.org:taxname:104075</td>\n",
       "      <td>Family</td>\n",
       "      <td>Animalia</td>\n",
       "      <td>Arthropoda</td>\n",
       "      <td>Copepoda</td>\n",
       "      <td>Calanoida</td>\n",
       "      <td>Aetideidae</td>\n",
       "      <td>None</td>\n",
       "      <td>Giesbrecht, 1892-1893</td>\n",
       "    </tr>\n",
       "    <tr>\n",
       "      <th>aetideus</th>\n",
       "      <td>104112</td>\n",
       "      <td>aetideus</td>\n",
       "      <td>Aetideus</td>\n",
       "      <td>urn:lsid:marinespecies.org:taxname:104112</td>\n",
       "      <td>Genus</td>\n",
       "      <td>Animalia</td>\n",
       "      <td>Arthropoda</td>\n",
       "      <td>Copepoda</td>\n",
       "      <td>Calanoida</td>\n",
       "      <td>Aetideidae</td>\n",
       "      <td>Aetideus</td>\n",
       "      <td>Brady, 1883</td>\n",
       "    </tr>\n",
       "    <tr>\n",
       "      <th>aglantha digitale</th>\n",
       "      <td>117849</td>\n",
       "      <td>aglantha digitale</td>\n",
       "      <td>Aglantha digitale</td>\n",
       "      <td>urn:lsid:marinespecies.org:taxname:117849</td>\n",
       "      <td>Species</td>\n",
       "      <td>Animalia</td>\n",
       "      <td>Cnidaria</td>\n",
       "      <td>Hydrozoa</td>\n",
       "      <td>Trachymedusae</td>\n",
       "      <td>Rhopalonematidae</td>\n",
       "      <td>Aglantha</td>\n",
       "      <td>(O. F. Müller, 1776)</td>\n",
       "    </tr>\n",
       "    <tr>\n",
       "      <th>alienacanthomysis macropsis</th>\n",
       "      <td>226662</td>\n",
       "      <td>alienacanthomysis macropsis</td>\n",
       "      <td>Alienacanthomysis macropsis</td>\n",
       "      <td>urn:lsid:marinespecies.org:taxname:226662</td>\n",
       "      <td>Species</td>\n",
       "      <td>Animalia</td>\n",
       "      <td>Arthropoda</td>\n",
       "      <td>Malacostraca</td>\n",
       "      <td>Mysida</td>\n",
       "      <td>Mysidae</td>\n",
       "      <td>Alienacanthomysis</td>\n",
       "      <td>(W. Tattersall, 1932)</td>\n",
       "    </tr>\n",
       "    <tr>\n",
       "      <th>alpheidae</th>\n",
       "      <td>106776</td>\n",
       "      <td>alpheidae</td>\n",
       "      <td>Alpheidae</td>\n",
       "      <td>urn:lsid:marinespecies.org:taxname:106776</td>\n",
       "      <td>Family</td>\n",
       "      <td>Animalia</td>\n",
       "      <td>Arthropoda</td>\n",
       "      <td>Malacostraca</td>\n",
       "      <td>Decapoda</td>\n",
       "      <td>Alpheidae</td>\n",
       "      <td>None</td>\n",
       "      <td>Rafinesque, 1815</td>\n",
       "    </tr>\n",
       "    <tr>\n",
       "      <th>amphinema</th>\n",
       "      <td>117178</td>\n",
       "      <td>amphinema</td>\n",
       "      <td>Amphinema</td>\n",
       "      <td>urn:lsid:marinespecies.org:taxname:117178</td>\n",
       "      <td>Genus</td>\n",
       "      <td>Animalia</td>\n",
       "      <td>Cnidaria</td>\n",
       "      <td>Hydrozoa</td>\n",
       "      <td>Anthoathecata</td>\n",
       "      <td>Pandeidae</td>\n",
       "      <td>Amphinema</td>\n",
       "      <td>Haeckel, 1879</td>\n",
       "    </tr>\n",
       "    <tr>\n",
       "      <th>amphipoda</th>\n",
       "      <td>1135</td>\n",
       "      <td>amphipoda</td>\n",
       "      <td>Amphipoda</td>\n",
       "      <td>urn:lsid:marinespecies.org:taxname:1135</td>\n",
       "      <td>Order</td>\n",
       "      <td>Animalia</td>\n",
       "      <td>Arthropoda</td>\n",
       "      <td>Malacostraca</td>\n",
       "      <td>Amphipoda</td>\n",
       "      <td>None</td>\n",
       "      <td>None</td>\n",
       "      <td>Latreille, 1816</td>\n",
       "    </tr>\n",
       "    <tr>\n",
       "      <th>animalia</th>\n",
       "      <td>2</td>\n",
       "      <td>animalia</td>\n",
       "      <td>Animalia</td>\n",
       "      <td>urn:lsid:marinespecies.org:taxname:2</td>\n",
       "      <td>Kingdom</td>\n",
       "      <td>Animalia</td>\n",
       "      <td>None</td>\n",
       "      <td>None</td>\n",
       "      <td>None</td>\n",
       "      <td>None</td>\n",
       "      <td>None</td>\n",
       "      <td>None</td>\n",
       "    </tr>\n",
       "    <tr>\n",
       "      <th>annelida</th>\n",
       "      <td>882</td>\n",
       "      <td>annelida</td>\n",
       "      <td>Annelida</td>\n",
       "      <td>urn:lsid:marinespecies.org:taxname:882</td>\n",
       "      <td>Phylum</td>\n",
       "      <td>Animalia</td>\n",
       "      <td>Annelida</td>\n",
       "      <td>None</td>\n",
       "      <td>None</td>\n",
       "      <td>None</td>\n",
       "      <td>None</td>\n",
       "      <td>Lamarck, 1802 [as Annelides]</td>\n",
       "    </tr>\n",
       "  </tbody>\n",
       "</table>\n",
       "</div>"
      ],
      "text/plain": [
       "                             aphiaid                      species  \\\n",
       "acartia                       104108                      acartia   \n",
       "acartia hudsonica             157664            acartia hudsonica   \n",
       "acartia longiremis            104257           acartia longiremis   \n",
       "acartia tonsa                 104262                acartia tonsa   \n",
       "aegina citrea                 117263                aegina citrea   \n",
       "aequorea victoria             283998            aequorea victoria   \n",
       "aetideidae                    104075                   aetideidae   \n",
       "aetideus                      104112                     aetideus   \n",
       "aglantha digitale             117849            aglantha digitale   \n",
       "alienacanthomysis macropsis   226662  alienacanthomysis macropsis   \n",
       "alpheidae                     106776                    alpheidae   \n",
       "amphinema                     117178                    amphinema   \n",
       "amphipoda                       1135                    amphipoda   \n",
       "animalia                           2                     animalia   \n",
       "annelida                         882                     annelida   \n",
       "\n",
       "                                          scientificName  \\\n",
       "acartia                                          Acartia   \n",
       "acartia hudsonica                      Acartia hudsonica   \n",
       "acartia longiremis                    Acartia longiremis   \n",
       "acartia tonsa                              Acartia tonsa   \n",
       "aegina citrea                              Aegina citrea   \n",
       "aequorea victoria                      Aequorea victoria   \n",
       "aetideidae                                    Aetideidae   \n",
       "aetideus                                        Aetideus   \n",
       "aglantha digitale                      Aglantha digitale   \n",
       "alienacanthomysis macropsis  Alienacanthomysis macropsis   \n",
       "alpheidae                                      Alpheidae   \n",
       "amphinema                                      Amphinema   \n",
       "amphipoda                                      Amphipoda   \n",
       "animalia                                        Animalia   \n",
       "annelida                                        Annelida   \n",
       "\n",
       "                                                      scientificNameID  \\\n",
       "acartia                      urn:lsid:marinespecies.org:taxname:104108   \n",
       "acartia hudsonica            urn:lsid:marinespecies.org:taxname:157664   \n",
       "acartia longiremis           urn:lsid:marinespecies.org:taxname:104257   \n",
       "acartia tonsa                urn:lsid:marinespecies.org:taxname:104262   \n",
       "aegina citrea                urn:lsid:marinespecies.org:taxname:117263   \n",
       "aequorea victoria            urn:lsid:marinespecies.org:taxname:283998   \n",
       "aetideidae                   urn:lsid:marinespecies.org:taxname:104075   \n",
       "aetideus                     urn:lsid:marinespecies.org:taxname:104112   \n",
       "aglantha digitale            urn:lsid:marinespecies.org:taxname:117849   \n",
       "alienacanthomysis macropsis  urn:lsid:marinespecies.org:taxname:226662   \n",
       "alpheidae                    urn:lsid:marinespecies.org:taxname:106776   \n",
       "amphinema                    urn:lsid:marinespecies.org:taxname:117178   \n",
       "amphipoda                      urn:lsid:marinespecies.org:taxname:1135   \n",
       "animalia                          urn:lsid:marinespecies.org:taxname:2   \n",
       "annelida                        urn:lsid:marinespecies.org:taxname:882   \n",
       "\n",
       "                            taxonRank   kingdom      phylum         class  \\\n",
       "acartia                         Genus  Animalia  Arthropoda      Copepoda   \n",
       "acartia hudsonica             Species  Animalia  Arthropoda      Copepoda   \n",
       "acartia longiremis            Species  Animalia  Arthropoda      Copepoda   \n",
       "acartia tonsa                 Species  Animalia  Arthropoda      Copepoda   \n",
       "aegina citrea                 Species  Animalia    Cnidaria      Hydrozoa   \n",
       "aequorea victoria             Species  Animalia    Cnidaria      Hydrozoa   \n",
       "aetideidae                     Family  Animalia  Arthropoda      Copepoda   \n",
       "aetideus                        Genus  Animalia  Arthropoda      Copepoda   \n",
       "aglantha digitale             Species  Animalia    Cnidaria      Hydrozoa   \n",
       "alienacanthomysis macropsis   Species  Animalia  Arthropoda  Malacostraca   \n",
       "alpheidae                      Family  Animalia  Arthropoda  Malacostraca   \n",
       "amphinema                       Genus  Animalia    Cnidaria      Hydrozoa   \n",
       "amphipoda                       Order  Animalia  Arthropoda  Malacostraca   \n",
       "animalia                      Kingdom  Animalia        None          None   \n",
       "annelida                       Phylum  Animalia    Annelida          None   \n",
       "\n",
       "                                     order            family  \\\n",
       "acartia                          Calanoida        Acartiidae   \n",
       "acartia hudsonica                Calanoida        Acartiidae   \n",
       "acartia longiremis               Calanoida        Acartiidae   \n",
       "acartia tonsa                    Calanoida        Acartiidae   \n",
       "aegina citrea                 Narcomedusae         Aeginidae   \n",
       "aequorea victoria             Leptothecata       Aequoreidae   \n",
       "aetideidae                       Calanoida        Aetideidae   \n",
       "aetideus                         Calanoida        Aetideidae   \n",
       "aglantha digitale            Trachymedusae  Rhopalonematidae   \n",
       "alienacanthomysis macropsis         Mysida           Mysidae   \n",
       "alpheidae                         Decapoda         Alpheidae   \n",
       "amphinema                    Anthoathecata         Pandeidae   \n",
       "amphipoda                        Amphipoda              None   \n",
       "animalia                              None              None   \n",
       "annelida                              None              None   \n",
       "\n",
       "                                         genus      scientificNameAuthorship  \n",
       "acartia                                Acartia                    Dana, 1846  \n",
       "acartia hudsonica                      Acartia                  Pinhey, 1926  \n",
       "acartia longiremis                     Acartia            (Lilljeborg, 1853)  \n",
       "acartia tonsa                          Acartia               Dana, 1849-1852  \n",
       "aegina citrea                           Aegina             Eschscholtz, 1829  \n",
       "aequorea victoria                     Aequorea     (Murbach & Shearer, 1902)  \n",
       "aetideidae                                None         Giesbrecht, 1892-1893  \n",
       "aetideus                              Aetideus                   Brady, 1883  \n",
       "aglantha digitale                     Aglantha          (O. F. Müller, 1776)  \n",
       "alienacanthomysis macropsis  Alienacanthomysis         (W. Tattersall, 1932)  \n",
       "alpheidae                                 None              Rafinesque, 1815  \n",
       "amphinema                            Amphinema                 Haeckel, 1879  \n",
       "amphipoda                                 None               Latreille, 1816  \n",
       "animalia                                  None                          None  \n",
       "annelida                                  None  Lamarck, 1802 [as Annelides]  "
      ]
     },
     "execution_count": 23,
     "metadata": {},
     "output_type": "execute_result"
    }
   ],
   "source": [
    "species_worms_lut_df.head(15)"
   ]
  },
  {
   "cell_type": "markdown",
   "id": "16c22a83",
   "metadata": {},
   "source": [
    "Some summaries:"
   ]
  },
  {
   "cell_type": "code",
   "execution_count": 24,
   "id": "0f8f744f",
   "metadata": {},
   "outputs": [
    {
     "data": {
      "text/plain": [
       "Species        103\n",
       "Genus           71\n",
       "Family          26\n",
       "Order           21\n",
       "Class           13\n",
       "Phylum          10\n",
       "Suborder         6\n",
       "Infraorder       3\n",
       "Subclass         3\n",
       "Superfamily      3\n",
       "Kingdom          1\n",
       "Subphylum        1\n",
       "Name: taxonRank, dtype: int64"
      ]
     },
     "execution_count": 24,
     "metadata": {},
     "output_type": "execute_result"
    }
   ],
   "source": [
    "species_worms_lut_df['taxonRank'].value_counts()"
   ]
  },
  {
   "cell_type": "code",
   "execution_count": 25,
   "id": "427d87f0",
   "metadata": {},
   "outputs": [
    {
     "data": {
      "text/plain": [
       "Annelida           1\n",
       "Bryozoa            1\n",
       "Chaetognatha       1\n",
       "Ctenophora         1\n",
       "Echinodermata      1\n",
       "Mollusca           1\n",
       "Nematoda           1\n",
       "Nemertea           1\n",
       "Phoronida          1\n",
       "Platyhelminthes    1\n",
       "Name: scientificName, dtype: int64"
      ]
     },
     "execution_count": 25,
     "metadata": {},
     "output_type": "execute_result"
    }
   ],
   "source": [
    "species_worms_lut_df[species_worms_lut_df['taxonRank'] == 'Phylum']['scientificName'].value_counts()"
   ]
  },
  {
   "cell_type": "code",
   "execution_count": null,
   "id": "3450e321",
   "metadata": {},
   "outputs": [
    {
     "data": {
      "text/plain": [
       "Ascidiacea       1\n",
       "Bivalvia         1\n",
       "Cirripedia       1\n",
       "Copepoda         1\n",
       "Facetotecta      1\n",
       "Gastropoda       1\n",
       "Holothuroidea    1\n",
       "Hydrozoa         1\n",
       "Insecta          1\n",
       "Larvacea         1\n",
       "Ophiuroidea      1\n",
       "Ostracoda        1\n",
       "Polychaeta       1\n",
       "Pycnogonida      1\n",
       "Scyphozoa        1\n",
       "Teleostei        1\n",
       "Name: scientificName, dtype: int64"
      ]
     },
     "execution_count": 26,
     "metadata": {},
     "output_type": "execute_result"
    }
   ],
   "source": [
    "species_worms_lut_df[species_worms_lut_df['taxonRank'].isin(['Class', 'Subclass'])]['scientificName'].value_counts()"
   ]
  },
  {
   "cell_type": "markdown",
   "id": "a2225eb9-ba2f-4d0b-b22a-40dd1c1d79d9",
   "metadata": {},
   "source": [
    "## Create and populate `taxonomy_df` dataframe"
   ]
  },
  {
   "cell_type": "code",
   "execution_count": null,
   "id": "f2981645-874f-42a0-aef5-055b730392ce",
   "metadata": {},
   "outputs": [
    {
     "data": {
      "text/plain": [
       "185729"
      ]
     },
     "execution_count": 27,
     "metadata": {},
     "output_type": "execute_result"
    }
   ],
   "source": [
    "taxonomy_df = taxonsource_df.merge(\n",
    "    species_worms_lut_df, \n",
    "    how='inner', \n",
    "    on='species'\n",
    ")\n",
    "\n",
    "taxonomy_df['verbatimIdentification'] = taxonomy_df['Genus species']\n",
    "\n",
    "len(taxonomy_df)"
   ]
  },
  {
   "cell_type": "markdown",
   "id": "29f537f1-db8f-4cea-8481-9cb42814765d",
   "metadata": {},
   "source": [
    "Some summaries, based on individual records:"
   ]
  },
  {
   "cell_type": "code",
   "execution_count": 28,
   "id": "f121e8e6-d84b-4144-af9f-1a4bd60c25a5",
   "metadata": {},
   "outputs": [
    {
     "data": {
      "text/plain": [
       "Species        83794\n",
       "Genus          34431\n",
       "Class          21025\n",
       "Family         18312\n",
       "Phylum         16309\n",
       "Subclass        5498\n",
       "Order           2937\n",
       "Kingdom         1084\n",
       "Suborder        1060\n",
       "Infraorder      1047\n",
       "Superfamily      131\n",
       "Subphylum        101\n",
       "Name: taxonRank, dtype: int64"
      ]
     },
     "execution_count": 28,
     "metadata": {},
     "output_type": "execute_result"
    }
   ],
   "source": [
    "taxonomy_df['taxonRank'].value_counts()"
   ]
  },
  {
   "cell_type": "code",
   "execution_count": 29,
   "id": "19ed5ffb-a2b0-4e66-94d5-f494cab5f3be",
   "metadata": {},
   "outputs": [
    {
     "data": {
      "text/plain": [
       "Chaetognatha       12117\n",
       "Bryozoa             2090\n",
       "Echinodermata       1328\n",
       "Phoronida            221\n",
       "Ctenophora           204\n",
       "Platyhelminthes      124\n",
       "Nemertea             115\n",
       "Nematoda              73\n",
       "Mollusca              31\n",
       "Annelida               6\n",
       "Name: scientificName, dtype: int64"
      ]
     },
     "execution_count": 29,
     "metadata": {},
     "output_type": "execute_result"
    }
   ],
   "source": [
    "taxonomy_df[taxonomy_df['taxonRank'] == 'Phylum']['scientificName'].value_counts()"
   ]
  },
  {
   "cell_type": "code",
   "execution_count": 30,
   "id": "fca8f0c5-8474-4e7b-96ff-38d68efaa6b1",
   "metadata": {},
   "outputs": [
    {
     "data": {
      "text/plain": [
       "Cirripedia       5372\n",
       "Copepoda         4787\n",
       "Polychaeta       3733\n",
       "Teleostei        3473\n",
       "Gastropoda       2816\n",
       "Bivalvia         1860\n",
       "Larvacea         1647\n",
       "Hydrozoa         1500\n",
       "Ostracoda         972\n",
       "Insecta           124\n",
       "Ascidiacea         92\n",
       "Scyphozoa          84\n",
       "Holothuroidea      37\n",
       "Ophiuroidea        19\n",
       "Pycnogonida         5\n",
       "Facetotecta         2\n",
       "Name: scientificName, dtype: int64"
      ]
     },
     "execution_count": 30,
     "metadata": {},
     "output_type": "execute_result"
    }
   ],
   "source": [
    "taxonomy_df[taxonomy_df['taxonRank'].isin(['Class', 'Subclass'])]['scientificName'].value_counts()"
   ]
  },
  {
   "cell_type": "markdown",
   "id": "254f00dc-5e7b-4b7f-bc27-4356efce7d9d",
   "metadata": {},
   "source": [
    "### Clean up and simplify into a taxonomy table without duplicates\n",
    "\n",
    "It'll still contain a few repeated taxa `scientificName` because of the variations in `Genus species`. The length of this final table will be larger than that of `species_worms_lut_df` because of the variations in `Genus species` (eg, \"PSEUDOCALANUS Lg\", \"PSEUDOCALANUS Sm\" and \"PSEUDOCALANUS\") that correspond to the same `species` (eg, \"pseudocalanus\") and `scientificName` (eg, \"Pseudocalanus\")."
   ]
  },
  {
   "cell_type": "code",
   "execution_count": 31,
   "id": "3eedbdab-6f4f-4d88-a4a8-f8d89cba90b3",
   "metadata": {},
   "outputs": [
    {
     "data": {
      "text/plain": [
       "288"
      ]
     },
     "execution_count": 31,
     "metadata": {},
     "output_type": "execute_result"
    }
   ],
   "source": [
    "taxonomy_df = (\n",
    "    taxonomy_df\n",
    "    .drop(columns=['sample_code', 'Genus species', 'species', 'aphiaid'])\n",
    "    .drop_duplicates()\n",
    "    .sort_values(by='verbatimIdentification')\n",
    "    .reset_index(drop=True)\n",
    ")\n",
    "\n",
    "len(taxonomy_df)"
   ]
  },
  {
   "cell_type": "code",
   "execution_count": 32,
   "id": "641dcac6-b425-44da-8f59-d7144a92ade1",
   "metadata": {},
   "outputs": [
    {
     "data": {
      "text/html": [
       "<div>\n",
       "<style scoped>\n",
       "    .dataframe tbody tr th:only-of-type {\n",
       "        vertical-align: middle;\n",
       "    }\n",
       "\n",
       "    .dataframe tbody tr th {\n",
       "        vertical-align: top;\n",
       "    }\n",
       "\n",
       "    .dataframe thead th {\n",
       "        text-align: right;\n",
       "    }\n",
       "</style>\n",
       "<table border=\"1\" class=\"dataframe\">\n",
       "  <thead>\n",
       "    <tr style=\"text-align: right;\">\n",
       "      <th></th>\n",
       "      <th>scientificName</th>\n",
       "      <th>scientificNameID</th>\n",
       "      <th>taxonRank</th>\n",
       "      <th>kingdom</th>\n",
       "      <th>phylum</th>\n",
       "      <th>class</th>\n",
       "      <th>order</th>\n",
       "      <th>family</th>\n",
       "      <th>genus</th>\n",
       "      <th>scientificNameAuthorship</th>\n",
       "      <th>verbatimIdentification</th>\n",
       "    </tr>\n",
       "  </thead>\n",
       "  <tbody>\n",
       "    <tr>\n",
       "      <th>0</th>\n",
       "      <td>Acartia</td>\n",
       "      <td>urn:lsid:marinespecies.org:taxname:104108</td>\n",
       "      <td>Genus</td>\n",
       "      <td>Animalia</td>\n",
       "      <td>Arthropoda</td>\n",
       "      <td>Copepoda</td>\n",
       "      <td>Calanoida</td>\n",
       "      <td>Acartiidae</td>\n",
       "      <td>Acartia</td>\n",
       "      <td>Dana, 1846</td>\n",
       "      <td>ACARTIA</td>\n",
       "    </tr>\n",
       "    <tr>\n",
       "      <th>1</th>\n",
       "      <td>Acartia hudsonica</td>\n",
       "      <td>urn:lsid:marinespecies.org:taxname:157664</td>\n",
       "      <td>Species</td>\n",
       "      <td>Animalia</td>\n",
       "      <td>Arthropoda</td>\n",
       "      <td>Copepoda</td>\n",
       "      <td>Calanoida</td>\n",
       "      <td>Acartiidae</td>\n",
       "      <td>Acartia</td>\n",
       "      <td>Pinhey, 1926</td>\n",
       "      <td>ACARTIA HUDSONICA</td>\n",
       "    </tr>\n",
       "    <tr>\n",
       "      <th>2</th>\n",
       "      <td>Acartia longiremis</td>\n",
       "      <td>urn:lsid:marinespecies.org:taxname:104257</td>\n",
       "      <td>Species</td>\n",
       "      <td>Animalia</td>\n",
       "      <td>Arthropoda</td>\n",
       "      <td>Copepoda</td>\n",
       "      <td>Calanoida</td>\n",
       "      <td>Acartiidae</td>\n",
       "      <td>Acartia</td>\n",
       "      <td>(Lilljeborg, 1853)</td>\n",
       "      <td>ACARTIA LONGIREMIS</td>\n",
       "    </tr>\n",
       "    <tr>\n",
       "      <th>3</th>\n",
       "      <td>Acartia tonsa</td>\n",
       "      <td>urn:lsid:marinespecies.org:taxname:104262</td>\n",
       "      <td>Species</td>\n",
       "      <td>Animalia</td>\n",
       "      <td>Arthropoda</td>\n",
       "      <td>Copepoda</td>\n",
       "      <td>Calanoida</td>\n",
       "      <td>Acartiidae</td>\n",
       "      <td>Acartia</td>\n",
       "      <td>Dana, 1849-1852</td>\n",
       "      <td>ACARTIA TONSA</td>\n",
       "    </tr>\n",
       "    <tr>\n",
       "      <th>4</th>\n",
       "      <td>Aegina citrea</td>\n",
       "      <td>urn:lsid:marinespecies.org:taxname:117263</td>\n",
       "      <td>Species</td>\n",
       "      <td>Animalia</td>\n",
       "      <td>Cnidaria</td>\n",
       "      <td>Hydrozoa</td>\n",
       "      <td>Narcomedusae</td>\n",
       "      <td>Aeginidae</td>\n",
       "      <td>Aegina</td>\n",
       "      <td>Eschscholtz, 1829</td>\n",
       "      <td>AEGINA CITREA</td>\n",
       "    </tr>\n",
       "  </tbody>\n",
       "</table>\n",
       "</div>"
      ],
      "text/plain": [
       "       scientificName                           scientificNameID taxonRank  \\\n",
       "0             Acartia  urn:lsid:marinespecies.org:taxname:104108     Genus   \n",
       "1   Acartia hudsonica  urn:lsid:marinespecies.org:taxname:157664   Species   \n",
       "2  Acartia longiremis  urn:lsid:marinespecies.org:taxname:104257   Species   \n",
       "3       Acartia tonsa  urn:lsid:marinespecies.org:taxname:104262   Species   \n",
       "4       Aegina citrea  urn:lsid:marinespecies.org:taxname:117263   Species   \n",
       "\n",
       "    kingdom      phylum     class         order      family    genus  \\\n",
       "0  Animalia  Arthropoda  Copepoda     Calanoida  Acartiidae  Acartia   \n",
       "1  Animalia  Arthropoda  Copepoda     Calanoida  Acartiidae  Acartia   \n",
       "2  Animalia  Arthropoda  Copepoda     Calanoida  Acartiidae  Acartia   \n",
       "3  Animalia  Arthropoda  Copepoda     Calanoida  Acartiidae  Acartia   \n",
       "4  Animalia    Cnidaria  Hydrozoa  Narcomedusae   Aeginidae   Aegina   \n",
       "\n",
       "  scientificNameAuthorship verbatimIdentification  \n",
       "0               Dana, 1846                ACARTIA  \n",
       "1             Pinhey, 1926      ACARTIA HUDSONICA  \n",
       "2       (Lilljeborg, 1853)     ACARTIA LONGIREMIS  \n",
       "3          Dana, 1849-1852          ACARTIA TONSA  \n",
       "4        Eschscholtz, 1829          AEGINA CITREA  "
      ]
     },
     "execution_count": 32,
     "metadata": {},
     "output_type": "execute_result"
    }
   ],
   "source": [
    "taxonomy_df.head()"
   ]
  },
  {
   "cell_type": "markdown",
   "id": "9e197e48-2c90-4179-93a0-82448a2f83be",
   "metadata": {},
   "source": [
    "## Export `taxonomy_df` to csv"
   ]
  },
  {
   "cell_type": "code",
   "execution_count": 33,
   "id": "44427f62-752c-4ea3-8b6c-c4e86601cbb7",
   "metadata": {},
   "outputs": [],
   "source": [
    "if not debug_no_csvexport:\n",
    "    taxonomy_df.to_csv(data_pth / 'intermediate_DwC_taxonomy.csv', index=False)"
   ]
  },
  {
   "cell_type": "markdown",
   "id": "0e6ad4af-ab4c-45a9-a059-d1c60c6203ea",
   "metadata": {},
   "source": [
    "## Package versions"
   ]
  },
  {
   "cell_type": "code",
   "execution_count": 34,
   "id": "3c2e6dd2-f8f2-435c-86dd-1def87372517",
   "metadata": {},
   "outputs": [
    {
     "name": "stdout",
     "output_type": "stream",
     "text": [
      "2024-12-12 21:50:04.255372 +00:00\n",
      "pandas: 1.5.3\n"
     ]
    }
   ],
   "source": [
    "print(\n",
    "    f\"{datetime.utcnow()} +00:00\\n\"\n",
    "    f\"pandas: {pd.__version__}\"\n",
    ")"
   ]
  },
  {
   "cell_type": "markdown",
   "id": "1b3d9436-9cb3-4063-b71d-b4143a99eb96",
   "metadata": {},
   "source": [
    "The version of the `pyworms` package used here doesn't have a version attribute. From https://github.com/iobis/pyworms/blob/master/setup.py, the latest version is 0.2.0, as of February 2021. The latest [tagged release](https://github.com/iobis/pyworms/releases/tag/0.2.0) is 0.2.0, from October 2020."
   ]
  },
  {
   "cell_type": "code",
   "execution_count": null,
   "id": "6cebe7a9-9128-418b-8c42-bd1f6bf4c2af",
   "metadata": {},
   "outputs": [],
   "source": []
  }
 ],
 "metadata": {
  "kernelspec": {
   "display_name": "nanoos_bio",
   "language": "python",
   "name": "python3"
  },
  "language_info": {
   "codemirror_mode": {
    "name": "ipython",
    "version": 3
   },
   "file_extension": ".py",
   "mimetype": "text/x-python",
   "name": "python",
   "nbconvert_exporter": "python",
   "pygments_lexer": "ipython3",
   "version": "3.9.16"
  }
 },
 "nbformat": 4,
 "nbformat_minor": 5
}
