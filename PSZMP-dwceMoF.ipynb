{
 "cells": [
  {
   "cell_type": "markdown",
   "id": "4b5d2990",
   "metadata": {},
   "source": [
    "# Darwin Core (DwC) **eMoFs** (extended Measurements or Facts), Puget Sound Zooplankton Monitoring Program (PSZMP) dataset\n",
    "\n",
    "Alignment of zooplankton dataset to the [Darwin Core (DwC) data standard](https://dwc.tdwg.or/), carried out by **NANOOS**, https://www.nanoos.org. This data alignment work, including this Jupyter notebook, is described in the NANOOS GitHub repository https://github.com/nanoos-pnw/obis-pszmp. See [README.md](https://github.com/nanoos-pnw/obis-pszmp/blob/main/README.md) for further background on the dataset, DwC and data transformations.\n",
    "\n",
    "Emilio Mayorga, https://github.com/emiliom"
   ]
  },
  {
   "cell_type": "markdown",
   "id": "68537864-0dc5-45a4-aea3-4d4275d79a64",
   "metadata": {},
   "source": [
    "## Goals and scope of this notebook\n",
    "\n",
    "Parse the source data and combine it with [common_mappings.json](common_mappings.json), the previously generated DwC event and occurrence csv files, and the `intermediate_DwC_occurrence_life_history_stage.csv` file created in the notebook `PSZMP-dwcOccurrence.ipynb` to create the DwC \"Extended Measurement or Fact\" (eMoF) file `DwC_emof.csv`. This file contains five types of eMoF information, referenced to standard vocabularies:\n",
    "- eMoF's associated with an Event\n",
    "    1. Description of the net sampling platform\n",
    "    2. Assignment of the water column sampling scheme\n",
    "    3. Assignment of the sample mesh size\n",
    "- eMoF's associated with an Occurrence\n",
    "    1. Sample density (abundance per unit volume)\n",
    "    2. Biomass carbon (mg of C per unit volume)\n",
    "\n",
    "The DwC eMoF table is populated sequentially for each of these eMoF types, in that order. Columns are populated differently depending on the eMoF type."
   ]
  },
  {
   "cell_type": "markdown",
   "id": "02559765-c141-40f0-a6b3-1eb0d2ea2a2a",
   "metadata": {},
   "source": [
    "## Settings"
   ]
  },
  {
   "cell_type": "code",
   "execution_count": 1,
   "id": "17bb67ab-2ea0-4ccd-a770-f7646434350f",
   "metadata": {},
   "outputs": [],
   "source": [
    "from datetime import datetime\n",
    "import json\n",
    "from pathlib import Path\n",
    "\n",
    "import numpy as np\n",
    "import pandas as pd\n",
    "\n",
    "from data_preprocess import create_csv_zip, read_and_parse_sourcedata"
   ]
  },
  {
   "cell_type": "code",
   "execution_count": 2,
   "id": "e4450c4d-f57a-436f-b2a0-aa697c562bb1",
   "metadata": {},
   "outputs": [],
   "source": [
    "data_pth = Path(\".\")"
   ]
  },
  {
   "cell_type": "markdown",
   "id": "bf4c34ac-ab2d-4c5a-825a-14958cd004fd",
   "metadata": {},
   "source": [
    "Set to `True` when debugging. `csv` ﬁles will not be exported when `debug_no_csvexport = True`"
   ]
  },
  {
   "cell_type": "code",
   "execution_count": 3,
   "id": "ac24f23b-44e8-4a19-b396-b331b668d15c",
   "metadata": {},
   "outputs": [],
   "source": [
    "debug_no_csvexport = False"
   ]
  },
  {
   "cell_type": "markdown",
   "id": "9803c80f-c40b-466e-8803-40bd3b014060",
   "metadata": {
    "tags": []
   },
   "source": [
    "## Process JSON file containing common mappings and strings"
   ]
  },
  {
   "cell_type": "code",
   "execution_count": 4,
   "id": "b26c0ebd-adec-438b-be4d-02d29a50ecfa",
   "metadata": {},
   "outputs": [],
   "source": [
    "with open(data_pth / 'common_mappings.json') as f:\n",
    "    mappings = json.load(f)"
   ]
  },
  {
   "cell_type": "code",
   "execution_count": 5,
   "id": "8f1e3d67-0afd-4aad-8726-c96cfca29ff7",
   "metadata": {},
   "outputs": [],
   "source": [
    "DatasetCode = mappings['datasetcode']\n",
    "net_tow = mappings['net_tow']\n",
    "\n",
    "iso8601_format = mappings['iso8601_format']"
   ]
  },
  {
   "cell_type": "markdown",
   "id": "9db6c7a8",
   "metadata": {},
   "source": [
    "## Pre-process data for eMOF table"
   ]
  },
  {
   "cell_type": "markdown",
   "id": "426c56e4",
   "metadata": {},
   "source": [
    "### Read and pre-processe the source data from Excel file"
   ]
  },
  {
   "cell_type": "markdown",
   "id": "f3a79d80-345d-4920-a964-cccd64517731",
   "metadata": {},
   "source": [
    "`usecols` defines the columns that will be kept and the order in which they'll be organized"
   ]
  },
  {
   "cell_type": "code",
   "execution_count": 6,
   "id": "b35069bd-3a64-4ca8-a65a-b09c12cd5666",
   "metadata": {},
   "outputs": [],
   "source": [
    "usecols = [\n",
    "    'Sample Code', 'Station', \n",
    "    'Mesh Size', 'Tow Type', \n",
    "    'Genus species', 'Life History Stage_lc', \n",
    "    'Density (#/m3)', 'Final Carbon (mg/m3)'\n",
    "]\n",
    "\n",
    "emofsource_df = read_and_parse_sourcedata()[usecols]\n",
    "\n",
    "emofsource_df.rename(\n",
    "    columns={\n",
    "        'Sample Code': 'sample_code',\n",
    "        'Station': 'station',\n",
    "        'Mesh Size': 'mesh_size',\n",
    "        'Life History Stage_lc': 'life_history_stage',\n",
    "        'Density (#/m3)': 'density',\n",
    "        'Final Carbon (mg/m3)': 'carbon_biomass',\n",
    "    },\n",
    "    inplace=True\n",
    ")"
   ]
  },
  {
   "cell_type": "code",
   "execution_count": 7,
   "id": "6dcc6d95-6c55-49ad-bbdd-6ae50ee78324",
   "metadata": {},
   "outputs": [
    {
     "data": {
      "text/plain": [
       "185729"
      ]
     },
     "execution_count": 7,
     "metadata": {},
     "output_type": "execute_result"
    }
   ],
   "source": [
    "len(emofsource_df)"
   ]
  },
  {
   "cell_type": "markdown",
   "id": "525d588c",
   "metadata": {},
   "source": [
    "### Compose the sample `eventID` for linkage to event table"
   ]
  },
  {
   "cell_type": "code",
   "execution_count": 8,
   "id": "10455ece",
   "metadata": {},
   "outputs": [],
   "source": [
    "emofsource_df['sample_eventID'] = (\n",
    "    DatasetCode + \"-SMP-\" + emofsource_df['sample_code']\n",
    ")"
   ]
  },
  {
   "cell_type": "code",
   "execution_count": 9,
   "id": "41cfa16c-b46b-4843-adbb-afffb60a1fb2",
   "metadata": {},
   "outputs": [
    {
     "data": {
      "text/html": [
       "<div>\n",
       "<style scoped>\n",
       "    .dataframe tbody tr th:only-of-type {\n",
       "        vertical-align: middle;\n",
       "    }\n",
       "\n",
       "    .dataframe tbody tr th {\n",
       "        vertical-align: top;\n",
       "    }\n",
       "\n",
       "    .dataframe thead th {\n",
       "        text-align: right;\n",
       "    }\n",
       "</style>\n",
       "<table border=\"1\" class=\"dataframe\">\n",
       "  <thead>\n",
       "    <tr style=\"text-align: right;\">\n",
       "      <th></th>\n",
       "      <th>sample_code</th>\n",
       "      <th>station</th>\n",
       "      <th>mesh_size</th>\n",
       "      <th>Tow Type</th>\n",
       "      <th>Genus species</th>\n",
       "      <th>life_history_stage</th>\n",
       "      <th>density</th>\n",
       "      <th>carbon_biomass</th>\n",
       "      <th>sample_eventID</th>\n",
       "    </tr>\n",
       "  </thead>\n",
       "  <tbody>\n",
       "    <tr>\n",
       "      <th>0</th>\n",
       "      <td>032514DANAD1147</td>\n",
       "      <td>DANAD</td>\n",
       "      <td>335</td>\n",
       "      <td>Oblique</td>\n",
       "      <td>ALPHEIDAE</td>\n",
       "      <td>unknown</td>\n",
       "      <td>4.784479</td>\n",
       "      <td>0.047259</td>\n",
       "      <td>PSZMP-SMP-032514DANAD1147</td>\n",
       "    </tr>\n",
       "    <tr>\n",
       "      <th>1</th>\n",
       "      <td>032514DANAD1147</td>\n",
       "      <td>DANAD</td>\n",
       "      <td>335</td>\n",
       "      <td>Oblique</td>\n",
       "      <td>BARNACLES</td>\n",
       "      <td>cyprid larva</td>\n",
       "      <td>4.784479</td>\n",
       "      <td>0.004759</td>\n",
       "      <td>PSZMP-SMP-032514DANAD1147</td>\n",
       "    </tr>\n",
       "    <tr>\n",
       "      <th>2</th>\n",
       "      <td>032514DANAD1147</td>\n",
       "      <td>DANAD</td>\n",
       "      <td>335</td>\n",
       "      <td>Oblique</td>\n",
       "      <td>BARNACLES</td>\n",
       "      <td>nauplius</td>\n",
       "      <td>105.258527</td>\n",
       "      <td>0.031641</td>\n",
       "      <td>PSZMP-SMP-032514DANAD1147</td>\n",
       "    </tr>\n",
       "    <tr>\n",
       "      <th>3</th>\n",
       "      <td>032514DANAD1147</td>\n",
       "      <td>DANAD</td>\n",
       "      <td>335</td>\n",
       "      <td>Oblique</td>\n",
       "      <td>CALANUS</td>\n",
       "      <td>c5-adult</td>\n",
       "      <td>3.169717</td>\n",
       "      <td>0.075896</td>\n",
       "      <td>PSZMP-SMP-032514DANAD1147</td>\n",
       "    </tr>\n",
       "    <tr>\n",
       "      <th>4</th>\n",
       "      <td>032514DANAD1147</td>\n",
       "      <td>DANAD</td>\n",
       "      <td>335</td>\n",
       "      <td>Oblique</td>\n",
       "      <td>CANCRIDAE</td>\n",
       "      <td>z1, zoea i</td>\n",
       "      <td>197.000903</td>\n",
       "      <td>1.169720</td>\n",
       "      <td>PSZMP-SMP-032514DANAD1147</td>\n",
       "    </tr>\n",
       "  </tbody>\n",
       "</table>\n",
       "</div>"
      ],
      "text/plain": [
       "       sample_code station  mesh_size Tow Type Genus species  \\\n",
       "0  032514DANAD1147   DANAD        335  Oblique     ALPHEIDAE   \n",
       "1  032514DANAD1147   DANAD        335  Oblique     BARNACLES   \n",
       "2  032514DANAD1147   DANAD        335  Oblique     BARNACLES   \n",
       "3  032514DANAD1147   DANAD        335  Oblique       CALANUS   \n",
       "4  032514DANAD1147   DANAD        335  Oblique     CANCRIDAE   \n",
       "\n",
       "  life_history_stage     density  carbon_biomass             sample_eventID  \n",
       "0            unknown    4.784479        0.047259  PSZMP-SMP-032514DANAD1147  \n",
       "1       cyprid larva    4.784479        0.004759  PSZMP-SMP-032514DANAD1147  \n",
       "2           nauplius  105.258527        0.031641  PSZMP-SMP-032514DANAD1147  \n",
       "3           c5-adult    3.169717        0.075896  PSZMP-SMP-032514DANAD1147  \n",
       "4         z1, zoea i  197.000903        1.169720  PSZMP-SMP-032514DANAD1147  "
      ]
     },
     "execution_count": 9,
     "metadata": {},
     "output_type": "execute_result"
    }
   ],
   "source": [
    "emofsource_df.head()"
   ]
  },
  {
   "cell_type": "markdown",
   "id": "dde6e90d-b424-4802-9f9d-13389f8eae30",
   "metadata": {},
   "source": [
    "## Read dwcEvent and dwcOccurrence csv's"
   ]
  },
  {
   "cell_type": "code",
   "execution_count": 10,
   "id": "9e258123-8c6c-4351-a0dd-55ff6e8c846f",
   "metadata": {},
   "outputs": [],
   "source": [
    "dwcevent_df = pd.read_csv(\n",
    "    data_pth / \"aligned_csvs\" / \"DwC_event.csv\",\n",
    "    parse_dates=['eventDate'],\n",
    "    usecols=['eventID', 'parentEventID', 'eventDate']\n",
    ")\n",
    "\n",
    "dwcoccurrence_df = pd.read_csv(\n",
    "    data_pth / \"aligned_csvs\" / \"DwC_occurrence.csv\",\n",
    "    usecols=['occurrenceID', 'eventID', 'verbatimIdentification']\n",
    ")"
   ]
  },
  {
   "cell_type": "markdown",
   "id": "7decf3c6-b8ac-4997-a0fe-a4e4306a4bed",
   "metadata": {},
   "source": [
    "## Read `life_history_stage` csv and add it to the occurrence dataframe\n",
    "\n",
    "This enables the eMoF data processing steps used here."
   ]
  },
  {
   "cell_type": "code",
   "execution_count": 11,
   "id": "33a01c90-4f66-48d8-bcca-bff2b2ef4f30",
   "metadata": {},
   "outputs": [],
   "source": [
    "occurrence_vs_life_history_stage = pd.read_csv(\n",
    "    data_pth / \"intermediate_DwC_occurrence_life_history_stage.csv\"\n",
    ")\n",
    "\n",
    "dwcoccurrence_df = dwcoccurrence_df.merge(\n",
    "    occurrence_vs_life_history_stage, on='occurrenceID'\n",
    ")"
   ]
  },
  {
   "cell_type": "markdown",
   "id": "695013e2-da23-4bfd-9e09-41ac06b07b65",
   "metadata": {},
   "source": [
    "## Create empty eMoF dataframe"
   ]
  },
  {
   "cell_type": "code",
   "execution_count": 12,
   "id": "48a89608-e2b4-4284-b238-4fd5e10bbc8e",
   "metadata": {},
   "outputs": [],
   "source": [
    "# Won't use measurementID, per Abby's explanation on Slack\n",
    "emof_cols_dtypes = np.dtype(\n",
    "    [\n",
    "        ('eventID', str),\n",
    "        ('occurrenceID', str), \n",
    "        # --- temporary, for validation\n",
    "        # ('life_history_stage', str),\n",
    "        # ('verbatimIdentification', str),\n",
    "        # ---- below, commented out columns not used\n",
    "        ('measurementType', str),\n",
    "        ('measurementTypeID', str), \n",
    "        ('measurementValue', str),\n",
    "        # ('measurementValueID', str),\n",
    "        ('measurementAccuracy', str),\n",
    "        ('measurementUnit', str),\n",
    "        ('measurementUnitID', str),\n",
    "        # ('measurementDeterminedDate', str),\n",
    "        # ('measurementDeterminedBy', str), \n",
    "        # ('measurementMethod', str),\n",
    "        # ('measurementRemarks', str)\n",
    "    ]\n",
    ")"
   ]
  },
  {
   "cell_type": "code",
   "execution_count": 13,
   "id": "54768e1d-08e2-47a8-9030-e170c4a3d9fc",
   "metadata": {},
   "outputs": [],
   "source": [
    "emof_df = pd.DataFrame(np.empty(0, dtype=emof_cols_dtypes))"
   ]
  },
  {
   "cell_type": "markdown",
   "id": "b05ba8e3",
   "metadata": {},
   "source": [
    "## Functions for eMoF processing"
   ]
  },
  {
   "cell_type": "code",
   "execution_count": 14,
   "id": "dc24dd2a",
   "metadata": {},
   "outputs": [],
   "source": [
    "def populate_emof_columns(\n",
    "        source_df, \n",
    "        meas_type, \n",
    "        meas_type_id,\n",
    "        meas_value_ser,\n",
    "        meas_value_format=None,\n",
    "        meas_accuracy=None,\n",
    "        meas_unit=None,\n",
    "        meas_unit_id=None\n",
    "    ):\n",
    "    \"\"\"\n",
    "    Populate the emof columns.\n",
    "    \"\"\"\n",
    "\n",
    "    df = source_df.copy()\n",
    "\n",
    "    df['measurementType'] = meas_type\n",
    "    df['measurementTypeID'] = mappings['vocab_server_base_url'] + meas_type_id\n",
    "    if meas_value_format is None:\n",
    "        df['measurementValue'] = meas_value_ser\n",
    "    else:\n",
    "        format_str = f\"{{:{meas_value_format}}}\"  # eg, \"{:.03f}\"\n",
    "        df['measurementValue'] = meas_value_ser.apply(lambda x: format_str.format(x))\n",
    "    \n",
    "    if meas_accuracy:\n",
    "        df['measurementAccuracy'] = meas_accuracy\n",
    "    if meas_unit:\n",
    "        df['measurementUnit'] = meas_unit\n",
    "    if meas_unit_id:\n",
    "        df['measurementUnitID'] = mappings['vocab_server_base_url'] + meas_unit_id\n",
    "\n",
    "    return df"
   ]
  },
  {
   "cell_type": "code",
   "execution_count": 15,
   "id": "db9eb90d",
   "metadata": {},
   "outputs": [],
   "source": [
    "def concat_to_emof_df(df, emof_df, is_occurrence_emof=False):\n",
    "    \"\"\"\n",
    "    Append the new emof records to the cumulative emof_df dataframe.\n",
    "    \"\"\"\n",
    "\n",
    "    emof_cols = ['eventID']\n",
    "    if is_occurrence_emof:\n",
    "        emof_cols += ['occurrenceID']\n",
    "    emof_cols += ['measurementType', 'measurementTypeID', 'measurementValue']\n",
    "    if 'measurementAccuracy' in df.columns:\n",
    "        emof_cols += ['measurementAccuracy']\n",
    "    if 'measurementUnit' in df.columns:\n",
    "        emof_cols += ['measurementUnit', 'measurementUnitID']\n",
    "    \n",
    "    return pd.concat([emof_df, df[emof_cols]], ignore_index=True)"
   ]
  },
  {
   "cell_type": "markdown",
   "id": "d1bd676e-c2ae-4f4f-baa6-2721aa7cd545",
   "metadata": {},
   "source": [
    "## MoF's associated with an event rather than an occurrence\n",
    "\n",
    "These will have no `occcurrenceID` entry"
   ]
  },
  {
   "cell_type": "markdown",
   "id": "963b7aed-65aa-4e42-be8c-c1a5981dc62c",
   "metadata": {},
   "source": [
    "### Associated with sample events"
   ]
  },
  {
   "cell_type": "code",
   "execution_count": 16,
   "id": "cb2b6e12-80fd-4c23-b60a-ce7419095c4a",
   "metadata": {},
   "outputs": [],
   "source": [
    "emofsource_samples_df = dwcevent_df.merge(\n",
    "    emofsource_df[['sample_eventID', 'mesh_size', 'Tow Type']], \n",
    "    how='inner',\n",
    "    left_on='eventID',\n",
    "    right_on='sample_eventID'\n",
    ")\n",
    "\n",
    "emofsource_samples_df = (\n",
    "    emofsource_samples_df\n",
    "    .drop_duplicates()\n",
    "    .drop(columns='sample_eventID')\n",
    "    .sort_values(by='eventID')\n",
    "    .reset_index(drop=True)\n",
    ")"
   ]
  },
  {
   "cell_type": "code",
   "execution_count": 17,
   "id": "79fc6bf2-9c29-4c93-9557-625c75726d82",
   "metadata": {},
   "outputs": [
    {
     "data": {
      "text/plain": [
       "3569"
      ]
     },
     "execution_count": 17,
     "metadata": {},
     "output_type": "execute_result"
    }
   ],
   "source": [
    "len(emofsource_samples_df)"
   ]
  },
  {
   "cell_type": "code",
   "execution_count": null,
   "id": "81a521ee-6267-4333-b619-14460dd8511c",
   "metadata": {},
   "outputs": [
    {
     "data": {
      "text/html": [
       "<div>\n",
       "<style scoped>\n",
       "    .dataframe tbody tr th:only-of-type {\n",
       "        vertical-align: middle;\n",
       "    }\n",
       "\n",
       "    .dataframe tbody tr th {\n",
       "        vertical-align: top;\n",
       "    }\n",
       "\n",
       "    .dataframe thead th {\n",
       "        text-align: right;\n",
       "    }\n",
       "</style>\n",
       "<table border=\"1\" class=\"dataframe\">\n",
       "  <thead>\n",
       "    <tr style=\"text-align: right;\">\n",
       "      <th></th>\n",
       "      <th>eventID</th>\n",
       "      <th>parentEventID</th>\n",
       "      <th>eventDate</th>\n",
       "      <th>mesh_size</th>\n",
       "      <th>Tow Type</th>\n",
       "    </tr>\n",
       "  </thead>\n",
       "  <tbody>\n",
       "    <tr>\n",
       "      <th>0</th>\n",
       "      <td>PSZMP-SMP-010218ELIV1151</td>\n",
       "      <td>PSZMP-STA-20180102D_ELIV</td>\n",
       "      <td>2018-01-02 11:51:00-08:00</td>\n",
       "      <td>200</td>\n",
       "      <td>Vertical</td>\n",
       "    </tr>\n",
       "    <tr>\n",
       "      <th>1</th>\n",
       "      <td>PSZMP-SMP-010322KSBP01D0815</td>\n",
       "      <td>PSZMP-STA-20220103D_KSBP01D</td>\n",
       "      <td>2022-01-03 08:15:00-08:00</td>\n",
       "      <td>335</td>\n",
       "      <td>Oblique</td>\n",
       "    </tr>\n",
       "    <tr>\n",
       "      <th>2</th>\n",
       "      <td>PSZMP-SMP-010422LSNT01D1323</td>\n",
       "      <td>PSZMP-STA-20220104D_LSNT01D</td>\n",
       "      <td>2022-01-04 13:23:00-08:00</td>\n",
       "      <td>335</td>\n",
       "      <td>Oblique</td>\n",
       "    </tr>\n",
       "    <tr>\n",
       "      <th>3</th>\n",
       "      <td>PSZMP-SMP-010422LSNT01V1305</td>\n",
       "      <td>PSZMP-STA-20220104D_LSNT01V</td>\n",
       "      <td>2022-01-04 13:05:00-08:00</td>\n",
       "      <td>200</td>\n",
       "      <td>Vertical</td>\n",
       "    </tr>\n",
       "    <tr>\n",
       "      <th>4</th>\n",
       "      <td>PSZMP-SMP-010422NSEX01V1049</td>\n",
       "      <td>PSZMP-STA-20220104D_NSEX01V</td>\n",
       "      <td>2022-01-04 10:49:00-08:00</td>\n",
       "      <td>200</td>\n",
       "      <td>Vertical</td>\n",
       "    </tr>\n",
       "  </tbody>\n",
       "</table>\n",
       "</div>"
      ],
      "text/plain": [
       "                       eventID                parentEventID  \\\n",
       "0     PSZMP-SMP-010218ELIV1151     PSZMP-STA-20180102D_ELIV   \n",
       "1  PSZMP-SMP-010322KSBP01D0815  PSZMP-STA-20220103D_KSBP01D   \n",
       "2  PSZMP-SMP-010422LSNT01D1323  PSZMP-STA-20220104D_LSNT01D   \n",
       "3  PSZMP-SMP-010422LSNT01V1305  PSZMP-STA-20220104D_LSNT01V   \n",
       "4  PSZMP-SMP-010422NSEX01V1049  PSZMP-STA-20220104D_NSEX01V   \n",
       "\n",
       "                   eventDate  mesh_size  Tow Type  \n",
       "0  2018-01-02 11:51:00-08:00        200  Vertical  \n",
       "1  2022-01-03 08:15:00-08:00        335   Oblique  \n",
       "2  2022-01-04 13:23:00-08:00        335   Oblique  \n",
       "3  2022-01-04 13:05:00-08:00        200  Vertical  \n",
       "4  2022-01-04 10:49:00-08:00        200  Vertical  "
      ]
     },
     "execution_count": 18,
     "metadata": {},
     "output_type": "execute_result"
    }
   ],
   "source": [
    "emofsource_samples_df.head()"
   ]
  },
  {
   "cell_type": "markdown",
   "id": "81872b5f-d6ac-434b-bbf5-8324e45c9d92",
   "metadata": {},
   "source": [
    "#### net tow sampling"
   ]
  },
  {
   "cell_type": "code",
   "execution_count": 19,
   "id": "f61dde51",
   "metadata": {},
   "outputs": [],
   "source": [
    "net_type = dict(Vertical=\"ring net\", Oblique=\"bongo net\")\n",
    "\n",
    "net_emof_df = populate_emof_columns(\n",
    "    emofsource_samples_df, \n",
    "    meas_type=\"plankton net\", \n",
    "    meas_type_id=\"L05/current/68\",\n",
    "    meas_value_ser=emofsource_samples_df['Tow Type'].apply(lambda tt: net_type[tt])\n",
    ")"
   ]
  },
  {
   "cell_type": "code",
   "execution_count": null,
   "id": "33629d26",
   "metadata": {},
   "outputs": [
    {
     "data": {
      "text/plain": [
       "3569"
      ]
     },
     "execution_count": 20,
     "metadata": {},
     "output_type": "execute_result"
    }
   ],
   "source": [
    "emof_df = concat_to_emof_df(net_emof_df, emof_df)\n",
    "\n",
    "len(emof_df)"
   ]
  },
  {
   "cell_type": "code",
   "execution_count": null,
   "id": "3af3aef0",
   "metadata": {},
   "outputs": [
    {
     "data": {
      "text/html": [
       "<div>\n",
       "<style scoped>\n",
       "    .dataframe tbody tr th:only-of-type {\n",
       "        vertical-align: middle;\n",
       "    }\n",
       "\n",
       "    .dataframe tbody tr th {\n",
       "        vertical-align: top;\n",
       "    }\n",
       "\n",
       "    .dataframe thead th {\n",
       "        text-align: right;\n",
       "    }\n",
       "</style>\n",
       "<table border=\"1\" class=\"dataframe\">\n",
       "  <thead>\n",
       "    <tr style=\"text-align: right;\">\n",
       "      <th></th>\n",
       "      <th>eventID</th>\n",
       "      <th>occurrenceID</th>\n",
       "      <th>measurementType</th>\n",
       "      <th>measurementTypeID</th>\n",
       "      <th>measurementValue</th>\n",
       "      <th>measurementAccuracy</th>\n",
       "      <th>measurementUnit</th>\n",
       "      <th>measurementUnitID</th>\n",
       "    </tr>\n",
       "  </thead>\n",
       "  <tbody>\n",
       "    <tr>\n",
       "      <th>3564</th>\n",
       "      <td>PSZMP-SMP-122121HCB004V1332</td>\n",
       "      <td>NaN</td>\n",
       "      <td>plankton net</td>\n",
       "      <td>https://vocab.nerc.ac.uk/collection/L05/curren...</td>\n",
       "      <td>ring net</td>\n",
       "      <td>NaN</td>\n",
       "      <td>NaN</td>\n",
       "      <td>NaN</td>\n",
       "    </tr>\n",
       "    <tr>\n",
       "      <th>3565</th>\n",
       "      <td>PSZMP-SMP-122220CAMV1044</td>\n",
       "      <td>NaN</td>\n",
       "      <td>plankton net</td>\n",
       "      <td>https://vocab.nerc.ac.uk/collection/L05/curren...</td>\n",
       "      <td>ring net</td>\n",
       "      <td>NaN</td>\n",
       "      <td>NaN</td>\n",
       "      <td>NaN</td>\n",
       "    </tr>\n",
       "    <tr>\n",
       "      <th>3566</th>\n",
       "      <td>PSZMP-SMP-122220Cow3V21046</td>\n",
       "      <td>NaN</td>\n",
       "      <td>plankton net</td>\n",
       "      <td>https://vocab.nerc.ac.uk/collection/L05/curren...</td>\n",
       "      <td>ring net</td>\n",
       "      <td>NaN</td>\n",
       "      <td>NaN</td>\n",
       "      <td>NaN</td>\n",
       "    </tr>\n",
       "    <tr>\n",
       "      <th>3567</th>\n",
       "      <td>PSZMP-SMP-122220WAT1S1303</td>\n",
       "      <td>NaN</td>\n",
       "      <td>plankton net</td>\n",
       "      <td>https://vocab.nerc.ac.uk/collection/L05/curren...</td>\n",
       "      <td>bongo net</td>\n",
       "      <td>NaN</td>\n",
       "      <td>NaN</td>\n",
       "      <td>NaN</td>\n",
       "    </tr>\n",
       "    <tr>\n",
       "      <th>3568</th>\n",
       "      <td>PSZMP-SMP-122320ELID1047</td>\n",
       "      <td>NaN</td>\n",
       "      <td>plankton net</td>\n",
       "      <td>https://vocab.nerc.ac.uk/collection/L05/curren...</td>\n",
       "      <td>bongo net</td>\n",
       "      <td>NaN</td>\n",
       "      <td>NaN</td>\n",
       "      <td>NaN</td>\n",
       "    </tr>\n",
       "  </tbody>\n",
       "</table>\n",
       "</div>"
      ],
      "text/plain": [
       "                          eventID occurrenceID measurementType  \\\n",
       "3564  PSZMP-SMP-122121HCB004V1332          NaN    plankton net   \n",
       "3565     PSZMP-SMP-122220CAMV1044          NaN    plankton net   \n",
       "3566   PSZMP-SMP-122220Cow3V21046          NaN    plankton net   \n",
       "3567    PSZMP-SMP-122220WAT1S1303          NaN    plankton net   \n",
       "3568     PSZMP-SMP-122320ELID1047          NaN    plankton net   \n",
       "\n",
       "                                      measurementTypeID measurementValue  \\\n",
       "3564  https://vocab.nerc.ac.uk/collection/L05/curren...         ring net   \n",
       "3565  https://vocab.nerc.ac.uk/collection/L05/curren...         ring net   \n",
       "3566  https://vocab.nerc.ac.uk/collection/L05/curren...         ring net   \n",
       "3567  https://vocab.nerc.ac.uk/collection/L05/curren...        bongo net   \n",
       "3568  https://vocab.nerc.ac.uk/collection/L05/curren...        bongo net   \n",
       "\n",
       "     measurementAccuracy measurementUnit measurementUnitID  \n",
       "3564                 NaN             NaN               NaN  \n",
       "3565                 NaN             NaN               NaN  \n",
       "3566                 NaN             NaN               NaN  \n",
       "3567                 NaN             NaN               NaN  \n",
       "3568                 NaN             NaN               NaN  "
      ]
     },
     "execution_count": 21,
     "metadata": {},
     "output_type": "execute_result"
    }
   ],
   "source": [
    "emof_df.tail()"
   ]
  },
  {
   "cell_type": "markdown",
   "id": "8764c877-3ebb-4acc-b85c-4ed5f16124af",
   "metadata": {},
   "source": [
    "#### oblique vs vertical (full water column) sampling"
   ]
  },
  {
   "cell_type": "code",
   "execution_count": 22,
   "id": "278d575a",
   "metadata": {},
   "outputs": [],
   "source": [
    "towtype_emof_df = populate_emof_columns(\n",
    "    emofsource_samples_df, \n",
    "    meas_type=\"Sampling method\", \n",
    "    meas_type_id=\"Q01/current/Q0100003\",\n",
    "    meas_value_ser=emofsource_samples_df['Tow Type'].apply(\n",
    "        lambda tt: net_tow[tt] + \"net tow\"\n",
    "    )\n",
    ")"
   ]
  },
  {
   "cell_type": "code",
   "execution_count": null,
   "id": "24c09f59",
   "metadata": {},
   "outputs": [
    {
     "data": {
      "text/plain": [
       "7138"
      ]
     },
     "execution_count": 23,
     "metadata": {},
     "output_type": "execute_result"
    }
   ],
   "source": [
    "emof_df = concat_to_emof_df(towtype_emof_df, emof_df)\n",
    "\n",
    "len(emof_df)"
   ]
  },
  {
   "cell_type": "code",
   "execution_count": null,
   "id": "af9675d2-b876-4b3d-9abd-a865f286559b",
   "metadata": {},
   "outputs": [
    {
     "data": {
      "text/html": [
       "<div>\n",
       "<style scoped>\n",
       "    .dataframe tbody tr th:only-of-type {\n",
       "        vertical-align: middle;\n",
       "    }\n",
       "\n",
       "    .dataframe tbody tr th {\n",
       "        vertical-align: top;\n",
       "    }\n",
       "\n",
       "    .dataframe thead th {\n",
       "        text-align: right;\n",
       "    }\n",
       "</style>\n",
       "<table border=\"1\" class=\"dataframe\">\n",
       "  <thead>\n",
       "    <tr style=\"text-align: right;\">\n",
       "      <th></th>\n",
       "      <th>eventID</th>\n",
       "      <th>occurrenceID</th>\n",
       "      <th>measurementType</th>\n",
       "      <th>measurementTypeID</th>\n",
       "      <th>measurementValue</th>\n",
       "      <th>measurementAccuracy</th>\n",
       "      <th>measurementUnit</th>\n",
       "      <th>measurementUnitID</th>\n",
       "    </tr>\n",
       "  </thead>\n",
       "  <tbody>\n",
       "    <tr>\n",
       "      <th>7133</th>\n",
       "      <td>PSZMP-SMP-122121HCB004V1332</td>\n",
       "      <td>NaN</td>\n",
       "      <td>Sampling method</td>\n",
       "      <td>https://vocab.nerc.ac.uk/collection/Q01/curren...</td>\n",
       "      <td>verticalnet tow</td>\n",
       "      <td>NaN</td>\n",
       "      <td>NaN</td>\n",
       "      <td>NaN</td>\n",
       "    </tr>\n",
       "    <tr>\n",
       "      <th>7134</th>\n",
       "      <td>PSZMP-SMP-122220CAMV1044</td>\n",
       "      <td>NaN</td>\n",
       "      <td>Sampling method</td>\n",
       "      <td>https://vocab.nerc.ac.uk/collection/Q01/curren...</td>\n",
       "      <td>verticalnet tow</td>\n",
       "      <td>NaN</td>\n",
       "      <td>NaN</td>\n",
       "      <td>NaN</td>\n",
       "    </tr>\n",
       "    <tr>\n",
       "      <th>7135</th>\n",
       "      <td>PSZMP-SMP-122220Cow3V21046</td>\n",
       "      <td>NaN</td>\n",
       "      <td>Sampling method</td>\n",
       "      <td>https://vocab.nerc.ac.uk/collection/Q01/curren...</td>\n",
       "      <td>verticalnet tow</td>\n",
       "      <td>NaN</td>\n",
       "      <td>NaN</td>\n",
       "      <td>NaN</td>\n",
       "    </tr>\n",
       "    <tr>\n",
       "      <th>7136</th>\n",
       "      <td>PSZMP-SMP-122220WAT1S1303</td>\n",
       "      <td>NaN</td>\n",
       "      <td>Sampling method</td>\n",
       "      <td>https://vocab.nerc.ac.uk/collection/Q01/curren...</td>\n",
       "      <td>obliquenet tow</td>\n",
       "      <td>NaN</td>\n",
       "      <td>NaN</td>\n",
       "      <td>NaN</td>\n",
       "    </tr>\n",
       "    <tr>\n",
       "      <th>7137</th>\n",
       "      <td>PSZMP-SMP-122320ELID1047</td>\n",
       "      <td>NaN</td>\n",
       "      <td>Sampling method</td>\n",
       "      <td>https://vocab.nerc.ac.uk/collection/Q01/curren...</td>\n",
       "      <td>obliquenet tow</td>\n",
       "      <td>NaN</td>\n",
       "      <td>NaN</td>\n",
       "      <td>NaN</td>\n",
       "    </tr>\n",
       "  </tbody>\n",
       "</table>\n",
       "</div>"
      ],
      "text/plain": [
       "                          eventID occurrenceID  measurementType  \\\n",
       "7133  PSZMP-SMP-122121HCB004V1332          NaN  Sampling method   \n",
       "7134     PSZMP-SMP-122220CAMV1044          NaN  Sampling method   \n",
       "7135   PSZMP-SMP-122220Cow3V21046          NaN  Sampling method   \n",
       "7136    PSZMP-SMP-122220WAT1S1303          NaN  Sampling method   \n",
       "7137     PSZMP-SMP-122320ELID1047          NaN  Sampling method   \n",
       "\n",
       "                                      measurementTypeID measurementValue  \\\n",
       "7133  https://vocab.nerc.ac.uk/collection/Q01/curren...  verticalnet tow   \n",
       "7134  https://vocab.nerc.ac.uk/collection/Q01/curren...  verticalnet tow   \n",
       "7135  https://vocab.nerc.ac.uk/collection/Q01/curren...  verticalnet tow   \n",
       "7136  https://vocab.nerc.ac.uk/collection/Q01/curren...   obliquenet tow   \n",
       "7137  https://vocab.nerc.ac.uk/collection/Q01/curren...   obliquenet tow   \n",
       "\n",
       "     measurementAccuracy measurementUnit measurementUnitID  \n",
       "7133                 NaN             NaN               NaN  \n",
       "7134                 NaN             NaN               NaN  \n",
       "7135                 NaN             NaN               NaN  \n",
       "7136                 NaN             NaN               NaN  \n",
       "7137                 NaN             NaN               NaN  "
      ]
     },
     "execution_count": 24,
     "metadata": {},
     "output_type": "execute_result"
    }
   ],
   "source": [
    "emof_df.tail()"
   ]
  },
  {
   "cell_type": "markdown",
   "id": "07415627-c903-4463-85aa-476385fadde3",
   "metadata": {},
   "source": [
    "#### mesh size"
   ]
  },
  {
   "cell_type": "code",
   "execution_count": 25,
   "id": "22c535ff",
   "metadata": {},
   "outputs": [],
   "source": [
    "mesh_emof_df = populate_emof_columns(\n",
    "    emofsource_samples_df, \n",
    "    meas_type=\"Sampling net mesh size\", \n",
    "    meas_type_id=\"Q01/current/Q0100015\",\n",
    "    meas_value_ser=emofsource_samples_df['mesh_size'],\n",
    "    meas_unit=\"Micrometres (microns)\",\n",
    "    meas_unit_id=\"P06/current/UMIC\"\n",
    ")"
   ]
  },
  {
   "cell_type": "code",
   "execution_count": null,
   "id": "1ed4d568",
   "metadata": {},
   "outputs": [
    {
     "data": {
      "text/html": [
       "<div>\n",
       "<style scoped>\n",
       "    .dataframe tbody tr th:only-of-type {\n",
       "        vertical-align: middle;\n",
       "    }\n",
       "\n",
       "    .dataframe tbody tr th {\n",
       "        vertical-align: top;\n",
       "    }\n",
       "\n",
       "    .dataframe thead th {\n",
       "        text-align: right;\n",
       "    }\n",
       "</style>\n",
       "<table border=\"1\" class=\"dataframe\">\n",
       "  <thead>\n",
       "    <tr style=\"text-align: right;\">\n",
       "      <th></th>\n",
       "      <th>eventID</th>\n",
       "      <th>parentEventID</th>\n",
       "      <th>eventDate</th>\n",
       "      <th>mesh_size</th>\n",
       "      <th>Tow Type</th>\n",
       "      <th>measurementType</th>\n",
       "      <th>measurementTypeID</th>\n",
       "      <th>measurementValue</th>\n",
       "      <th>measurementUnit</th>\n",
       "      <th>measurementUnitID</th>\n",
       "    </tr>\n",
       "  </thead>\n",
       "  <tbody>\n",
       "    <tr>\n",
       "      <th>0</th>\n",
       "      <td>PSZMP-SMP-010218ELIV1151</td>\n",
       "      <td>PSZMP-STA-20180102D_ELIV</td>\n",
       "      <td>2018-01-02 11:51:00-08:00</td>\n",
       "      <td>200</td>\n",
       "      <td>Vertical</td>\n",
       "      <td>Sampling net mesh size</td>\n",
       "      <td>https://vocab.nerc.ac.uk/collection/Q01/curren...</td>\n",
       "      <td>200</td>\n",
       "      <td>Micrometres (microns)</td>\n",
       "      <td>https://vocab.nerc.ac.uk/collection/P06/curren...</td>\n",
       "    </tr>\n",
       "    <tr>\n",
       "      <th>1</th>\n",
       "      <td>PSZMP-SMP-010322KSBP01D0815</td>\n",
       "      <td>PSZMP-STA-20220103D_KSBP01D</td>\n",
       "      <td>2022-01-03 08:15:00-08:00</td>\n",
       "      <td>335</td>\n",
       "      <td>Oblique</td>\n",
       "      <td>Sampling net mesh size</td>\n",
       "      <td>https://vocab.nerc.ac.uk/collection/Q01/curren...</td>\n",
       "      <td>335</td>\n",
       "      <td>Micrometres (microns)</td>\n",
       "      <td>https://vocab.nerc.ac.uk/collection/P06/curren...</td>\n",
       "    </tr>\n",
       "    <tr>\n",
       "      <th>2</th>\n",
       "      <td>PSZMP-SMP-010422LSNT01D1323</td>\n",
       "      <td>PSZMP-STA-20220104D_LSNT01D</td>\n",
       "      <td>2022-01-04 13:23:00-08:00</td>\n",
       "      <td>335</td>\n",
       "      <td>Oblique</td>\n",
       "      <td>Sampling net mesh size</td>\n",
       "      <td>https://vocab.nerc.ac.uk/collection/Q01/curren...</td>\n",
       "      <td>335</td>\n",
       "      <td>Micrometres (microns)</td>\n",
       "      <td>https://vocab.nerc.ac.uk/collection/P06/curren...</td>\n",
       "    </tr>\n",
       "    <tr>\n",
       "      <th>3</th>\n",
       "      <td>PSZMP-SMP-010422LSNT01V1305</td>\n",
       "      <td>PSZMP-STA-20220104D_LSNT01V</td>\n",
       "      <td>2022-01-04 13:05:00-08:00</td>\n",
       "      <td>200</td>\n",
       "      <td>Vertical</td>\n",
       "      <td>Sampling net mesh size</td>\n",
       "      <td>https://vocab.nerc.ac.uk/collection/Q01/curren...</td>\n",
       "      <td>200</td>\n",
       "      <td>Micrometres (microns)</td>\n",
       "      <td>https://vocab.nerc.ac.uk/collection/P06/curren...</td>\n",
       "    </tr>\n",
       "    <tr>\n",
       "      <th>4</th>\n",
       "      <td>PSZMP-SMP-010422NSEX01V1049</td>\n",
       "      <td>PSZMP-STA-20220104D_NSEX01V</td>\n",
       "      <td>2022-01-04 10:49:00-08:00</td>\n",
       "      <td>200</td>\n",
       "      <td>Vertical</td>\n",
       "      <td>Sampling net mesh size</td>\n",
       "      <td>https://vocab.nerc.ac.uk/collection/Q01/curren...</td>\n",
       "      <td>200</td>\n",
       "      <td>Micrometres (microns)</td>\n",
       "      <td>https://vocab.nerc.ac.uk/collection/P06/curren...</td>\n",
       "    </tr>\n",
       "    <tr>\n",
       "      <th>...</th>\n",
       "      <td>...</td>\n",
       "      <td>...</td>\n",
       "      <td>...</td>\n",
       "      <td>...</td>\n",
       "      <td>...</td>\n",
       "      <td>...</td>\n",
       "      <td>...</td>\n",
       "      <td>...</td>\n",
       "      <td>...</td>\n",
       "      <td>...</td>\n",
       "    </tr>\n",
       "    <tr>\n",
       "      <th>3564</th>\n",
       "      <td>PSZMP-SMP-122121HCB004V1332</td>\n",
       "      <td>PSZMP-STA-20211221D_HCB004V</td>\n",
       "      <td>2021-12-21 13:32:00-08:00</td>\n",
       "      <td>200</td>\n",
       "      <td>Vertical</td>\n",
       "      <td>Sampling net mesh size</td>\n",
       "      <td>https://vocab.nerc.ac.uk/collection/Q01/curren...</td>\n",
       "      <td>200</td>\n",
       "      <td>Micrometres (microns)</td>\n",
       "      <td>https://vocab.nerc.ac.uk/collection/P06/curren...</td>\n",
       "    </tr>\n",
       "    <tr>\n",
       "      <th>3565</th>\n",
       "      <td>PSZMP-SMP-122220CAMV1044</td>\n",
       "      <td>PSZMP-STA-20201222D_CAMV</td>\n",
       "      <td>2020-12-22 10:44:00-08:00</td>\n",
       "      <td>200</td>\n",
       "      <td>Vertical</td>\n",
       "      <td>Sampling net mesh size</td>\n",
       "      <td>https://vocab.nerc.ac.uk/collection/Q01/curren...</td>\n",
       "      <td>200</td>\n",
       "      <td>Micrometres (microns)</td>\n",
       "      <td>https://vocab.nerc.ac.uk/collection/P06/curren...</td>\n",
       "    </tr>\n",
       "    <tr>\n",
       "      <th>3566</th>\n",
       "      <td>PSZMP-SMP-122220Cow3V21046</td>\n",
       "      <td>PSZMP-STA-20201222D_COW3V2</td>\n",
       "      <td>2020-12-22 10:46:00-08:00</td>\n",
       "      <td>200</td>\n",
       "      <td>Vertical</td>\n",
       "      <td>Sampling net mesh size</td>\n",
       "      <td>https://vocab.nerc.ac.uk/collection/Q01/curren...</td>\n",
       "      <td>200</td>\n",
       "      <td>Micrometres (microns)</td>\n",
       "      <td>https://vocab.nerc.ac.uk/collection/P06/curren...</td>\n",
       "    </tr>\n",
       "    <tr>\n",
       "      <th>3567</th>\n",
       "      <td>PSZMP-SMP-122220WAT1S1303</td>\n",
       "      <td>PSZMP-STA-20201222D_WAT1S</td>\n",
       "      <td>2020-12-22 13:03:00-08:00</td>\n",
       "      <td>335</td>\n",
       "      <td>Oblique</td>\n",
       "      <td>Sampling net mesh size</td>\n",
       "      <td>https://vocab.nerc.ac.uk/collection/Q01/curren...</td>\n",
       "      <td>335</td>\n",
       "      <td>Micrometres (microns)</td>\n",
       "      <td>https://vocab.nerc.ac.uk/collection/P06/curren...</td>\n",
       "    </tr>\n",
       "    <tr>\n",
       "      <th>3568</th>\n",
       "      <td>PSZMP-SMP-122320ELID1047</td>\n",
       "      <td>PSZMP-STA-20201223D_ELID</td>\n",
       "      <td>2020-12-23 10:47:00-08:00</td>\n",
       "      <td>335</td>\n",
       "      <td>Oblique</td>\n",
       "      <td>Sampling net mesh size</td>\n",
       "      <td>https://vocab.nerc.ac.uk/collection/Q01/curren...</td>\n",
       "      <td>335</td>\n",
       "      <td>Micrometres (microns)</td>\n",
       "      <td>https://vocab.nerc.ac.uk/collection/P06/curren...</td>\n",
       "    </tr>\n",
       "  </tbody>\n",
       "</table>\n",
       "<p>3569 rows × 10 columns</p>\n",
       "</div>"
      ],
      "text/plain": [
       "                          eventID                parentEventID  \\\n",
       "0        PSZMP-SMP-010218ELIV1151     PSZMP-STA-20180102D_ELIV   \n",
       "1     PSZMP-SMP-010322KSBP01D0815  PSZMP-STA-20220103D_KSBP01D   \n",
       "2     PSZMP-SMP-010422LSNT01D1323  PSZMP-STA-20220104D_LSNT01D   \n",
       "3     PSZMP-SMP-010422LSNT01V1305  PSZMP-STA-20220104D_LSNT01V   \n",
       "4     PSZMP-SMP-010422NSEX01V1049  PSZMP-STA-20220104D_NSEX01V   \n",
       "...                           ...                          ...   \n",
       "3564  PSZMP-SMP-122121HCB004V1332  PSZMP-STA-20211221D_HCB004V   \n",
       "3565     PSZMP-SMP-122220CAMV1044     PSZMP-STA-20201222D_CAMV   \n",
       "3566   PSZMP-SMP-122220Cow3V21046   PSZMP-STA-20201222D_COW3V2   \n",
       "3567    PSZMP-SMP-122220WAT1S1303    PSZMP-STA-20201222D_WAT1S   \n",
       "3568     PSZMP-SMP-122320ELID1047     PSZMP-STA-20201223D_ELID   \n",
       "\n",
       "                      eventDate  mesh_size  Tow Type         measurementType  \\\n",
       "0     2018-01-02 11:51:00-08:00        200  Vertical  Sampling net mesh size   \n",
       "1     2022-01-03 08:15:00-08:00        335   Oblique  Sampling net mesh size   \n",
       "2     2022-01-04 13:23:00-08:00        335   Oblique  Sampling net mesh size   \n",
       "3     2022-01-04 13:05:00-08:00        200  Vertical  Sampling net mesh size   \n",
       "4     2022-01-04 10:49:00-08:00        200  Vertical  Sampling net mesh size   \n",
       "...                         ...        ...       ...                     ...   \n",
       "3564  2021-12-21 13:32:00-08:00        200  Vertical  Sampling net mesh size   \n",
       "3565  2020-12-22 10:44:00-08:00        200  Vertical  Sampling net mesh size   \n",
       "3566  2020-12-22 10:46:00-08:00        200  Vertical  Sampling net mesh size   \n",
       "3567  2020-12-22 13:03:00-08:00        335   Oblique  Sampling net mesh size   \n",
       "3568  2020-12-23 10:47:00-08:00        335   Oblique  Sampling net mesh size   \n",
       "\n",
       "                                      measurementTypeID  measurementValue  \\\n",
       "0     https://vocab.nerc.ac.uk/collection/Q01/curren...               200   \n",
       "1     https://vocab.nerc.ac.uk/collection/Q01/curren...               335   \n",
       "2     https://vocab.nerc.ac.uk/collection/Q01/curren...               335   \n",
       "3     https://vocab.nerc.ac.uk/collection/Q01/curren...               200   \n",
       "4     https://vocab.nerc.ac.uk/collection/Q01/curren...               200   \n",
       "...                                                 ...               ...   \n",
       "3564  https://vocab.nerc.ac.uk/collection/Q01/curren...               200   \n",
       "3565  https://vocab.nerc.ac.uk/collection/Q01/curren...               200   \n",
       "3566  https://vocab.nerc.ac.uk/collection/Q01/curren...               200   \n",
       "3567  https://vocab.nerc.ac.uk/collection/Q01/curren...               335   \n",
       "3568  https://vocab.nerc.ac.uk/collection/Q01/curren...               335   \n",
       "\n",
       "            measurementUnit                                  measurementUnitID  \n",
       "0     Micrometres (microns)  https://vocab.nerc.ac.uk/collection/P06/curren...  \n",
       "1     Micrometres (microns)  https://vocab.nerc.ac.uk/collection/P06/curren...  \n",
       "2     Micrometres (microns)  https://vocab.nerc.ac.uk/collection/P06/curren...  \n",
       "3     Micrometres (microns)  https://vocab.nerc.ac.uk/collection/P06/curren...  \n",
       "4     Micrometres (microns)  https://vocab.nerc.ac.uk/collection/P06/curren...  \n",
       "...                     ...                                                ...  \n",
       "3564  Micrometres (microns)  https://vocab.nerc.ac.uk/collection/P06/curren...  \n",
       "3565  Micrometres (microns)  https://vocab.nerc.ac.uk/collection/P06/curren...  \n",
       "3566  Micrometres (microns)  https://vocab.nerc.ac.uk/collection/P06/curren...  \n",
       "3567  Micrometres (microns)  https://vocab.nerc.ac.uk/collection/P06/curren...  \n",
       "3568  Micrometres (microns)  https://vocab.nerc.ac.uk/collection/P06/curren...  \n",
       "\n",
       "[3569 rows x 10 columns]"
      ]
     },
     "execution_count": 26,
     "metadata": {},
     "output_type": "execute_result"
    }
   ],
   "source": [
    "mesh_emof_df"
   ]
  },
  {
   "cell_type": "code",
   "execution_count": null,
   "id": "de3abded",
   "metadata": {},
   "outputs": [
    {
     "data": {
      "text/plain": [
       "10707"
      ]
     },
     "execution_count": 27,
     "metadata": {},
     "output_type": "execute_result"
    }
   ],
   "source": [
    "emof_df = concat_to_emof_df(mesh_emof_df, emof_df)\n",
    "\n",
    "len(emof_df)"
   ]
  },
  {
   "cell_type": "code",
   "execution_count": 28,
   "id": "f3efdb1d-4ba5-4feb-a712-f5eb38d95151",
   "metadata": {},
   "outputs": [
    {
     "data": {
      "text/html": [
       "<div>\n",
       "<style scoped>\n",
       "    .dataframe tbody tr th:only-of-type {\n",
       "        vertical-align: middle;\n",
       "    }\n",
       "\n",
       "    .dataframe tbody tr th {\n",
       "        vertical-align: top;\n",
       "    }\n",
       "\n",
       "    .dataframe thead th {\n",
       "        text-align: right;\n",
       "    }\n",
       "</style>\n",
       "<table border=\"1\" class=\"dataframe\">\n",
       "  <thead>\n",
       "    <tr style=\"text-align: right;\">\n",
       "      <th></th>\n",
       "      <th>eventID</th>\n",
       "      <th>occurrenceID</th>\n",
       "      <th>measurementType</th>\n",
       "      <th>measurementTypeID</th>\n",
       "      <th>measurementValue</th>\n",
       "      <th>measurementAccuracy</th>\n",
       "      <th>measurementUnit</th>\n",
       "      <th>measurementUnitID</th>\n",
       "    </tr>\n",
       "  </thead>\n",
       "  <tbody>\n",
       "    <tr>\n",
       "      <th>10702</th>\n",
       "      <td>PSZMP-SMP-122121HCB004V1332</td>\n",
       "      <td>NaN</td>\n",
       "      <td>Sampling net mesh size</td>\n",
       "      <td>https://vocab.nerc.ac.uk/collection/Q01/curren...</td>\n",
       "      <td>200</td>\n",
       "      <td>NaN</td>\n",
       "      <td>Micrometres (microns)</td>\n",
       "      <td>https://vocab.nerc.ac.uk/collection/P06/curren...</td>\n",
       "    </tr>\n",
       "    <tr>\n",
       "      <th>10703</th>\n",
       "      <td>PSZMP-SMP-122220CAMV1044</td>\n",
       "      <td>NaN</td>\n",
       "      <td>Sampling net mesh size</td>\n",
       "      <td>https://vocab.nerc.ac.uk/collection/Q01/curren...</td>\n",
       "      <td>200</td>\n",
       "      <td>NaN</td>\n",
       "      <td>Micrometres (microns)</td>\n",
       "      <td>https://vocab.nerc.ac.uk/collection/P06/curren...</td>\n",
       "    </tr>\n",
       "    <tr>\n",
       "      <th>10704</th>\n",
       "      <td>PSZMP-SMP-122220Cow3V21046</td>\n",
       "      <td>NaN</td>\n",
       "      <td>Sampling net mesh size</td>\n",
       "      <td>https://vocab.nerc.ac.uk/collection/Q01/curren...</td>\n",
       "      <td>200</td>\n",
       "      <td>NaN</td>\n",
       "      <td>Micrometres (microns)</td>\n",
       "      <td>https://vocab.nerc.ac.uk/collection/P06/curren...</td>\n",
       "    </tr>\n",
       "    <tr>\n",
       "      <th>10705</th>\n",
       "      <td>PSZMP-SMP-122220WAT1S1303</td>\n",
       "      <td>NaN</td>\n",
       "      <td>Sampling net mesh size</td>\n",
       "      <td>https://vocab.nerc.ac.uk/collection/Q01/curren...</td>\n",
       "      <td>335</td>\n",
       "      <td>NaN</td>\n",
       "      <td>Micrometres (microns)</td>\n",
       "      <td>https://vocab.nerc.ac.uk/collection/P06/curren...</td>\n",
       "    </tr>\n",
       "    <tr>\n",
       "      <th>10706</th>\n",
       "      <td>PSZMP-SMP-122320ELID1047</td>\n",
       "      <td>NaN</td>\n",
       "      <td>Sampling net mesh size</td>\n",
       "      <td>https://vocab.nerc.ac.uk/collection/Q01/curren...</td>\n",
       "      <td>335</td>\n",
       "      <td>NaN</td>\n",
       "      <td>Micrometres (microns)</td>\n",
       "      <td>https://vocab.nerc.ac.uk/collection/P06/curren...</td>\n",
       "    </tr>\n",
       "  </tbody>\n",
       "</table>\n",
       "</div>"
      ],
      "text/plain": [
       "                           eventID occurrenceID         measurementType  \\\n",
       "10702  PSZMP-SMP-122121HCB004V1332          NaN  Sampling net mesh size   \n",
       "10703     PSZMP-SMP-122220CAMV1044          NaN  Sampling net mesh size   \n",
       "10704   PSZMP-SMP-122220Cow3V21046          NaN  Sampling net mesh size   \n",
       "10705    PSZMP-SMP-122220WAT1S1303          NaN  Sampling net mesh size   \n",
       "10706     PSZMP-SMP-122320ELID1047          NaN  Sampling net mesh size   \n",
       "\n",
       "                                       measurementTypeID measurementValue  \\\n",
       "10702  https://vocab.nerc.ac.uk/collection/Q01/curren...              200   \n",
       "10703  https://vocab.nerc.ac.uk/collection/Q01/curren...              200   \n",
       "10704  https://vocab.nerc.ac.uk/collection/Q01/curren...              200   \n",
       "10705  https://vocab.nerc.ac.uk/collection/Q01/curren...              335   \n",
       "10706  https://vocab.nerc.ac.uk/collection/Q01/curren...              335   \n",
       "\n",
       "      measurementAccuracy        measurementUnit  \\\n",
       "10702                 NaN  Micrometres (microns)   \n",
       "10703                 NaN  Micrometres (microns)   \n",
       "10704                 NaN  Micrometres (microns)   \n",
       "10705                 NaN  Micrometres (microns)   \n",
       "10706                 NaN  Micrometres (microns)   \n",
       "\n",
       "                                       measurementUnitID  \n",
       "10702  https://vocab.nerc.ac.uk/collection/P06/curren...  \n",
       "10703  https://vocab.nerc.ac.uk/collection/P06/curren...  \n",
       "10704  https://vocab.nerc.ac.uk/collection/P06/curren...  \n",
       "10705  https://vocab.nerc.ac.uk/collection/P06/curren...  \n",
       "10706  https://vocab.nerc.ac.uk/collection/P06/curren...  "
      ]
     },
     "execution_count": 28,
     "metadata": {},
     "output_type": "execute_result"
    }
   ],
   "source": [
    "emof_df.tail()"
   ]
  },
  {
   "cell_type": "markdown",
   "id": "418c84bc-c41d-478e-bd35-070e15183897",
   "metadata": {},
   "source": [
    "## MoF's associated with exactly one occurrence\n",
    "\n",
    "These will have an `occcurrenceID` entry.\n",
    "\n",
    "Preserve the original `life_history_stage` strings in the occurrence csv table, in order to be able to properly merge the occurrence table with `emofsource_df`. The `life_history_stage` column will be dropped in a later step."
   ]
  },
  {
   "cell_type": "code",
   "execution_count": 29,
   "id": "8294799e-273b-438e-b403-f03a6697ef90",
   "metadata": {},
   "outputs": [],
   "source": [
    "emofsource_samplesoccur_all_df = (\n",
    "    dwcevent_df\n",
    "    .merge(\n",
    "        emofsource_df[\n",
    "            ['sample_eventID', 'Genus species', 'life_history_stage', \n",
    "             'density', 'carbon_biomass']\n",
    "        ], \n",
    "        how='inner',\n",
    "        left_on='eventID',\n",
    "        right_on='sample_eventID'\n",
    "    )\n",
    "    .merge(\n",
    "        dwcoccurrence_df,\n",
    "        how='inner',\n",
    "        left_on=['eventID', 'Genus species', 'life_history_stage'],\n",
    "        right_on=['eventID', 'verbatimIdentification', 'life_history_stage']\n",
    "    )\n",
    ")"
   ]
  },
  {
   "cell_type": "code",
   "execution_count": 30,
   "id": "f20f6bcb",
   "metadata": {},
   "outputs": [
    {
     "data": {
      "text/plain": [
       "185729"
      ]
     },
     "execution_count": 30,
     "metadata": {},
     "output_type": "execute_result"
    }
   ],
   "source": [
    "len(emofsource_samplesoccur_all_df)"
   ]
  },
  {
   "cell_type": "code",
   "execution_count": null,
   "id": "d82f7375-3d0e-450d-8dcf-c8b4dda37eb3",
   "metadata": {},
   "outputs": [
    {
     "data": {
      "text/html": [
       "<div>\n",
       "<style scoped>\n",
       "    .dataframe tbody tr th:only-of-type {\n",
       "        vertical-align: middle;\n",
       "    }\n",
       "\n",
       "    .dataframe tbody tr th {\n",
       "        vertical-align: top;\n",
       "    }\n",
       "\n",
       "    .dataframe thead th {\n",
       "        text-align: right;\n",
       "    }\n",
       "</style>\n",
       "<table border=\"1\" class=\"dataframe\">\n",
       "  <thead>\n",
       "    <tr style=\"text-align: right;\">\n",
       "      <th></th>\n",
       "      <th>eventID</th>\n",
       "      <th>parentEventID</th>\n",
       "      <th>eventDate</th>\n",
       "      <th>sample_eventID</th>\n",
       "      <th>Genus species</th>\n",
       "      <th>life_history_stage</th>\n",
       "      <th>density</th>\n",
       "      <th>carbon_biomass</th>\n",
       "      <th>occurrenceID</th>\n",
       "      <th>verbatimIdentification</th>\n",
       "    </tr>\n",
       "  </thead>\n",
       "  <tbody>\n",
       "    <tr>\n",
       "      <th>185724</th>\n",
       "      <td>PSZMP-SMP-121922TDBV1158</td>\n",
       "      <td>PSZMP-STA-20221219D_TDBV</td>\n",
       "      <td>2022-12-19 11:58:00-08:00</td>\n",
       "      <td>PSZMP-SMP-121922TDBV1158</td>\n",
       "      <td>HIPPOLYTIDAE</td>\n",
       "      <td>unknown</td>\n",
       "      <td>0.348311</td>\n",
       "      <td>0.001235</td>\n",
       "      <td>PSZMP-OCC-121922TDBV1158-201843-HIPPOLYTIDAE-I...</td>\n",
       "      <td>HIPPOLYTIDAE</td>\n",
       "    </tr>\n",
       "    <tr>\n",
       "      <th>185725</th>\n",
       "      <td>PSZMP-SMP-121922TDBV1158</td>\n",
       "      <td>PSZMP-STA-20221219D_TDBV</td>\n",
       "      <td>2022-12-19 11:58:00-08:00</td>\n",
       "      <td>PSZMP-SMP-121922TDBV1158</td>\n",
       "      <td>TORTANUS DISCAUDATUS</td>\n",
       "      <td>copepodite</td>\n",
       "      <td>0.174155</td>\n",
       "      <td>0.000298</td>\n",
       "      <td>PSZMP-OCC-121922TDBV1158-201844-TORTANUS_DISCA...</td>\n",
       "      <td>TORTANUS DISCAUDATUS</td>\n",
       "    </tr>\n",
       "    <tr>\n",
       "      <th>185726</th>\n",
       "      <td>PSZMP-SMP-121922TDBV1158</td>\n",
       "      <td>PSZMP-STA-20221219D_TDBV</td>\n",
       "      <td>2022-12-19 11:58:00-08:00</td>\n",
       "      <td>PSZMP-SMP-121922TDBV1158</td>\n",
       "      <td>METACARCINUS GRACILIS</td>\n",
       "      <td>z3, zoea iii</td>\n",
       "      <td>0.174155</td>\n",
       "      <td>0.002495</td>\n",
       "      <td>PSZMP-OCC-121922TDBV1158-201845-METACARCINUS_G...</td>\n",
       "      <td>METACARCINUS GRACILIS</td>\n",
       "    </tr>\n",
       "    <tr>\n",
       "      <th>185727</th>\n",
       "      <td>PSZMP-SMP-121922TDBV1158</td>\n",
       "      <td>PSZMP-STA-20221219D_TDBV</td>\n",
       "      <td>2022-12-19 11:58:00-08:00</td>\n",
       "      <td>PSZMP-SMP-121922TDBV1158</td>\n",
       "      <td>CANCER PRODUCTUS</td>\n",
       "      <td>z1, zoea i</td>\n",
       "      <td>0.174155</td>\n",
       "      <td>0.000983</td>\n",
       "      <td>PSZMP-OCC-121922TDBV1158-201846-CANCER_PRODUCT...</td>\n",
       "      <td>CANCER PRODUCTUS</td>\n",
       "    </tr>\n",
       "    <tr>\n",
       "      <th>185728</th>\n",
       "      <td>PSZMP-SMP-121922TDBV1158</td>\n",
       "      <td>PSZMP-STA-20221219D_TDBV</td>\n",
       "      <td>2022-12-19 11:58:00-08:00</td>\n",
       "      <td>PSZMP-SMP-121922TDBV1158</td>\n",
       "      <td>CANCER PRODUCTUS</td>\n",
       "      <td>z4, zoea iv</td>\n",
       "      <td>0.174155</td>\n",
       "      <td>0.005140</td>\n",
       "      <td>PSZMP-OCC-121922TDBV1158-201847-CANCER_PRODUCT...</td>\n",
       "      <td>CANCER PRODUCTUS</td>\n",
       "    </tr>\n",
       "  </tbody>\n",
       "</table>\n",
       "</div>"
      ],
      "text/plain": [
       "                         eventID             parentEventID  \\\n",
       "185724  PSZMP-SMP-121922TDBV1158  PSZMP-STA-20221219D_TDBV   \n",
       "185725  PSZMP-SMP-121922TDBV1158  PSZMP-STA-20221219D_TDBV   \n",
       "185726  PSZMP-SMP-121922TDBV1158  PSZMP-STA-20221219D_TDBV   \n",
       "185727  PSZMP-SMP-121922TDBV1158  PSZMP-STA-20221219D_TDBV   \n",
       "185728  PSZMP-SMP-121922TDBV1158  PSZMP-STA-20221219D_TDBV   \n",
       "\n",
       "                        eventDate            sample_eventID  \\\n",
       "185724  2022-12-19 11:58:00-08:00  PSZMP-SMP-121922TDBV1158   \n",
       "185725  2022-12-19 11:58:00-08:00  PSZMP-SMP-121922TDBV1158   \n",
       "185726  2022-12-19 11:58:00-08:00  PSZMP-SMP-121922TDBV1158   \n",
       "185727  2022-12-19 11:58:00-08:00  PSZMP-SMP-121922TDBV1158   \n",
       "185728  2022-12-19 11:58:00-08:00  PSZMP-SMP-121922TDBV1158   \n",
       "\n",
       "                Genus species life_history_stage   density  carbon_biomass  \\\n",
       "185724           HIPPOLYTIDAE            unknown  0.348311        0.001235   \n",
       "185725   TORTANUS DISCAUDATUS         copepodite  0.174155        0.000298   \n",
       "185726  METACARCINUS GRACILIS       z3, zoea iii  0.174155        0.002495   \n",
       "185727       CANCER PRODUCTUS         z1, zoea i  0.174155        0.000983   \n",
       "185728       CANCER PRODUCTUS        z4, zoea iv  0.174155        0.005140   \n",
       "\n",
       "                                             occurrenceID  \\\n",
       "185724  PSZMP-OCC-121922TDBV1158-201843-HIPPOLYTIDAE-I...   \n",
       "185725  PSZMP-OCC-121922TDBV1158-201844-TORTANUS_DISCA...   \n",
       "185726  PSZMP-OCC-121922TDBV1158-201845-METACARCINUS_G...   \n",
       "185727  PSZMP-OCC-121922TDBV1158-201846-CANCER_PRODUCT...   \n",
       "185728  PSZMP-OCC-121922TDBV1158-201847-CANCER_PRODUCT...   \n",
       "\n",
       "       verbatimIdentification  \n",
       "185724           HIPPOLYTIDAE  \n",
       "185725   TORTANUS DISCAUDATUS  \n",
       "185726  METACARCINUS GRACILIS  \n",
       "185727       CANCER PRODUCTUS  \n",
       "185728       CANCER PRODUCTUS  "
      ]
     },
     "execution_count": 31,
     "metadata": {},
     "output_type": "execute_result"
    }
   ],
   "source": [
    "emofsource_samplesoccur_all_df.tail()"
   ]
  },
  {
   "cell_type": "markdown",
   "id": "d962a6a7",
   "metadata": {},
   "source": [
    "`common_cols` will be used in the two occurrence-associated eMoF's"
   ]
  },
  {
   "cell_type": "code",
   "execution_count": 32,
   "id": "1d6ba57e",
   "metadata": {},
   "outputs": [],
   "source": [
    "common_cols = ['eventID', 'occurrenceID']"
   ]
  },
  {
   "cell_type": "markdown",
   "id": "fcf2f771-6bc3-4631-914c-dd217426e3a0",
   "metadata": {},
   "source": [
    "### density / abundance"
   ]
  },
  {
   "cell_type": "code",
   "execution_count": 33,
   "id": "66b49327",
   "metadata": {},
   "outputs": [
    {
     "data": {
      "text/plain": [
       "185729"
      ]
     },
     "execution_count": 33,
     "metadata": {},
     "output_type": "execute_result"
    }
   ],
   "source": [
    "emofsource_samplesoccur_df = (\n",
    "    emofsource_samplesoccur_all_df[common_cols + ['density']]\n",
    "    .drop_duplicates()\n",
    "    .sort_values(by='eventID')\n",
    "    .reset_index(drop=True)\n",
    ")\n",
    "\n",
    "len(emofsource_samplesoccur_df)"
   ]
  },
  {
   "cell_type": "markdown",
   "id": "494678b7",
   "metadata": {},
   "source": [
    "Count the number of records having empty (null) density values."
   ]
  },
  {
   "cell_type": "code",
   "execution_count": 34,
   "id": "7ee2fefa",
   "metadata": {},
   "outputs": [
    {
     "data": {
      "text/plain": [
       "1703"
      ]
     },
     "execution_count": 34,
     "metadata": {},
     "output_type": "execute_result"
    }
   ],
   "source": [
    "len(emofsource_samplesoccur_df[emofsource_samplesoccur_df['density'].isna()])"
   ]
  },
  {
   "cell_type": "markdown",
   "id": "8a8474ab",
   "metadata": {},
   "source": [
    "Filter out records with empty density values."
   ]
  },
  {
   "cell_type": "code",
   "execution_count": 35,
   "id": "91f99cdf",
   "metadata": {},
   "outputs": [],
   "source": [
    "emofsource_samplesoccur_nonulls_df = emofsource_samplesoccur_df[\n",
    "    ~emofsource_samplesoccur_df['density'].isna()\n",
    "]"
   ]
  },
  {
   "cell_type": "markdown",
   "id": "024e6cd2",
   "metadata": {},
   "source": [
    "Verify that there are no duplicate occurrences (duplicate `occurrenceID` entries)"
   ]
  },
  {
   "cell_type": "code",
   "execution_count": 36,
   "id": "868bb9e2",
   "metadata": {},
   "outputs": [
    {
     "data": {
      "text/plain": [
       "True"
      ]
     },
     "execution_count": 36,
     "metadata": {},
     "output_type": "execute_result"
    }
   ],
   "source": [
    "len(emofsource_samplesoccur_nonulls_df.occurrenceID.unique()) == len(emofsource_samplesoccur_nonulls_df)"
   ]
  },
  {
   "cell_type": "code",
   "execution_count": 37,
   "id": "1adab8bb",
   "metadata": {},
   "outputs": [],
   "source": [
    "abundance_emof_df = populate_emof_columns(\n",
    "    emofsource_samplesoccur_nonulls_df, \n",
    "    meas_type=\"Abundance of biological entity specified elsewhere per unit volume of the water body\",\n",
    "    meas_type_id=\"P01/current/SDBIOL01\",\n",
    "    meas_value_ser=emofsource_samplesoccur_nonulls_df['density'],\n",
    "    # meas_value_format=\".03f\",\n",
    "    meas_accuracy=\"0.01\",\n",
    "    meas_unit=\"Number per cubic metre\",\n",
    "    meas_unit_id=\"P06/current/UPMM\"\n",
    ")"
   ]
  },
  {
   "cell_type": "code",
   "execution_count": 38,
   "id": "51dfcd81-b30b-41a5-8e73-ef1d4baa14bb",
   "metadata": {},
   "outputs": [
    {
     "data": {
      "text/plain": [
       "194733"
      ]
     },
     "execution_count": 38,
     "metadata": {},
     "output_type": "execute_result"
    }
   ],
   "source": [
    "# For validation, add 'life_history_stage', 'verbatimIdentification' to the emof columns\n",
    "\n",
    "emof_df = concat_to_emof_df(abundance_emof_df, emof_df, is_occurrence_emof=True)\n",
    "\n",
    "len(emof_df)"
   ]
  },
  {
   "cell_type": "code",
   "execution_count": 39,
   "id": "a78cd501-fe5a-43fa-b762-ce4c2f68857e",
   "metadata": {},
   "outputs": [
    {
     "data": {
      "text/html": [
       "<div>\n",
       "<style scoped>\n",
       "    .dataframe tbody tr th:only-of-type {\n",
       "        vertical-align: middle;\n",
       "    }\n",
       "\n",
       "    .dataframe tbody tr th {\n",
       "        vertical-align: top;\n",
       "    }\n",
       "\n",
       "    .dataframe thead th {\n",
       "        text-align: right;\n",
       "    }\n",
       "</style>\n",
       "<table border=\"1\" class=\"dataframe\">\n",
       "  <thead>\n",
       "    <tr style=\"text-align: right;\">\n",
       "      <th></th>\n",
       "      <th>eventID</th>\n",
       "      <th>occurrenceID</th>\n",
       "      <th>measurementType</th>\n",
       "      <th>measurementTypeID</th>\n",
       "      <th>measurementValue</th>\n",
       "      <th>measurementAccuracy</th>\n",
       "      <th>measurementUnit</th>\n",
       "      <th>measurementUnitID</th>\n",
       "    </tr>\n",
       "  </thead>\n",
       "  <tbody>\n",
       "    <tr>\n",
       "      <th>194728</th>\n",
       "      <td>PSZMP-SMP-122320ELID1047</td>\n",
       "      <td>PSZMP-OCC-122320ELID1047-147216-CHAETOGNATHA-C...</td>\n",
       "      <td>Abundance of biological entity specified elsew...</td>\n",
       "      <td>https://vocab.nerc.ac.uk/collection/P01/curren...</td>\n",
       "      <td>0.24102</td>\n",
       "      <td>0.01</td>\n",
       "      <td>Number per cubic metre</td>\n",
       "      <td>https://vocab.nerc.ac.uk/collection/P06/curren...</td>\n",
       "    </tr>\n",
       "    <tr>\n",
       "      <th>194729</th>\n",
       "      <td>PSZMP-SMP-122320ELID1047</td>\n",
       "      <td>PSZMP-OCC-122320ELID1047-147215-CHAETOGNATHA-C...</td>\n",
       "      <td>Abundance of biological entity specified elsew...</td>\n",
       "      <td>https://vocab.nerc.ac.uk/collection/P01/curren...</td>\n",
       "      <td>0.060255</td>\n",
       "      <td>0.01</td>\n",
       "      <td>Number per cubic metre</td>\n",
       "      <td>https://vocab.nerc.ac.uk/collection/P06/curren...</td>\n",
       "    </tr>\n",
       "    <tr>\n",
       "      <th>194730</th>\n",
       "      <td>PSZMP-SMP-122320ELID1047</td>\n",
       "      <td>PSZMP-OCC-122320ELID1047-147214-CANCRIDAE-ZOEA...</td>\n",
       "      <td>Abundance of biological entity specified elsew...</td>\n",
       "      <td>https://vocab.nerc.ac.uk/collection/P01/curren...</td>\n",
       "      <td>1.205102</td>\n",
       "      <td>0.01</td>\n",
       "      <td>Number per cubic metre</td>\n",
       "      <td>https://vocab.nerc.ac.uk/collection/P06/curren...</td>\n",
       "    </tr>\n",
       "    <tr>\n",
       "      <th>194731</th>\n",
       "      <td>PSZMP-SMP-122320ELID1047</td>\n",
       "      <td>PSZMP-OCC-122320ELID1047-147220-HYDROZOA-MEDUS...</td>\n",
       "      <td>Abundance of biological entity specified elsew...</td>\n",
       "      <td>https://vocab.nerc.ac.uk/collection/P01/curren...</td>\n",
       "      <td>0.060255</td>\n",
       "      <td>0.01</td>\n",
       "      <td>Number per cubic metre</td>\n",
       "      <td>https://vocab.nerc.ac.uk/collection/P06/curren...</td>\n",
       "    </tr>\n",
       "    <tr>\n",
       "      <th>194732</th>\n",
       "      <td>PSZMP-SMP-122320ELID1047</td>\n",
       "      <td>PSZMP-OCC-122320ELID1047-147226-OSTRACODA-INDE...</td>\n",
       "      <td>Abundance of biological entity specified elsew...</td>\n",
       "      <td>https://vocab.nerc.ac.uk/collection/P01/curren...</td>\n",
       "      <td>1.205102</td>\n",
       "      <td>0.01</td>\n",
       "      <td>Number per cubic metre</td>\n",
       "      <td>https://vocab.nerc.ac.uk/collection/P06/curren...</td>\n",
       "    </tr>\n",
       "  </tbody>\n",
       "</table>\n",
       "</div>"
      ],
      "text/plain": [
       "                         eventID  \\\n",
       "194728  PSZMP-SMP-122320ELID1047   \n",
       "194729  PSZMP-SMP-122320ELID1047   \n",
       "194730  PSZMP-SMP-122320ELID1047   \n",
       "194731  PSZMP-SMP-122320ELID1047   \n",
       "194732  PSZMP-SMP-122320ELID1047   \n",
       "\n",
       "                                             occurrenceID  \\\n",
       "194728  PSZMP-OCC-122320ELID1047-147216-CHAETOGNATHA-C...   \n",
       "194729  PSZMP-OCC-122320ELID1047-147215-CHAETOGNATHA-C...   \n",
       "194730  PSZMP-OCC-122320ELID1047-147214-CANCRIDAE-ZOEA...   \n",
       "194731  PSZMP-OCC-122320ELID1047-147220-HYDROZOA-MEDUS...   \n",
       "194732  PSZMP-OCC-122320ELID1047-147226-OSTRACODA-INDE...   \n",
       "\n",
       "                                          measurementType  \\\n",
       "194728  Abundance of biological entity specified elsew...   \n",
       "194729  Abundance of biological entity specified elsew...   \n",
       "194730  Abundance of biological entity specified elsew...   \n",
       "194731  Abundance of biological entity specified elsew...   \n",
       "194732  Abundance of biological entity specified elsew...   \n",
       "\n",
       "                                        measurementTypeID measurementValue  \\\n",
       "194728  https://vocab.nerc.ac.uk/collection/P01/curren...          0.24102   \n",
       "194729  https://vocab.nerc.ac.uk/collection/P01/curren...         0.060255   \n",
       "194730  https://vocab.nerc.ac.uk/collection/P01/curren...         1.205102   \n",
       "194731  https://vocab.nerc.ac.uk/collection/P01/curren...         0.060255   \n",
       "194732  https://vocab.nerc.ac.uk/collection/P01/curren...         1.205102   \n",
       "\n",
       "       measurementAccuracy         measurementUnit  \\\n",
       "194728                0.01  Number per cubic metre   \n",
       "194729                0.01  Number per cubic metre   \n",
       "194730                0.01  Number per cubic metre   \n",
       "194731                0.01  Number per cubic metre   \n",
       "194732                0.01  Number per cubic metre   \n",
       "\n",
       "                                        measurementUnitID  \n",
       "194728  https://vocab.nerc.ac.uk/collection/P06/curren...  \n",
       "194729  https://vocab.nerc.ac.uk/collection/P06/curren...  \n",
       "194730  https://vocab.nerc.ac.uk/collection/P06/curren...  \n",
       "194731  https://vocab.nerc.ac.uk/collection/P06/curren...  \n",
       "194732  https://vocab.nerc.ac.uk/collection/P06/curren...  "
      ]
     },
     "execution_count": 39,
     "metadata": {},
     "output_type": "execute_result"
    }
   ],
   "source": [
    "emof_df.tail()"
   ]
  },
  {
   "cell_type": "markdown",
   "id": "e2e6d69f",
   "metadata": {},
   "source": [
    "### biomass carbon"
   ]
  },
  {
   "cell_type": "code",
   "execution_count": 40,
   "id": "23c64f3e",
   "metadata": {},
   "outputs": [
    {
     "data": {
      "text/plain": [
       "185729"
      ]
     },
     "execution_count": 40,
     "metadata": {},
     "output_type": "execute_result"
    }
   ],
   "source": [
    "emofsource_samplesoccur_df = (\n",
    "    emofsource_samplesoccur_all_df[common_cols + ['carbon_biomass']]\n",
    "    .drop_duplicates()\n",
    "    .sort_values(by='eventID')\n",
    "    .reset_index(drop=True)\n",
    ")\n",
    "\n",
    "len(emofsource_samplesoccur_df)"
   ]
  },
  {
   "cell_type": "markdown",
   "id": "3b3b763f",
   "metadata": {},
   "source": [
    "Count the number of records having empty (null) carbon biomass values."
   ]
  },
  {
   "cell_type": "code",
   "execution_count": 41,
   "id": "57e7b245",
   "metadata": {},
   "outputs": [
    {
     "data": {
      "text/plain": [
       "0"
      ]
     },
     "execution_count": 41,
     "metadata": {},
     "output_type": "execute_result"
    }
   ],
   "source": [
    "len(emofsource_samplesoccur_df[emofsource_samplesoccur_df['carbon_biomass'].isna()])"
   ]
  },
  {
   "cell_type": "markdown",
   "id": "0b28f7bf",
   "metadata": {},
   "source": [
    " Amanda & BethElLee (Julie's team): *Our zooplankton carbon values come from the literature, most of which are derived from CHN analyzers where the remaining Carbon and Nitrogen are correlated to lengths of the analyzed specimens. The result is a Carbon regression applied to the actual length of a particular specimen within our sample or an average length multiplier. The Carbon value is then multiplied to the density (individuals per cubic meter of water sampled) of corresponding taxa, resulting in milligrams of Carbon per cubic meter of water sampled: mg/m3.*\n",
    "\n",
    "Filter out records with empty carbon biomass values."
   ]
  },
  {
   "cell_type": "code",
   "execution_count": 42,
   "id": "0efd8bc0",
   "metadata": {},
   "outputs": [],
   "source": [
    "emofsource_samplesoccur_nonulls_df = emofsource_samplesoccur_df[\n",
    "    ~emofsource_samplesoccur_df['carbon_biomass'].isna()\n",
    "]"
   ]
  },
  {
   "cell_type": "markdown",
   "id": "be149a82",
   "metadata": {},
   "source": [
    "Verify that there are no duplicate occurrences (duplicate `occurrenceID` entries)"
   ]
  },
  {
   "cell_type": "code",
   "execution_count": 43,
   "id": "88cefea9",
   "metadata": {},
   "outputs": [
    {
     "data": {
      "text/plain": [
       "True"
      ]
     },
     "execution_count": 43,
     "metadata": {},
     "output_type": "execute_result"
    }
   ],
   "source": [
    "len(emofsource_samplesoccur_nonulls_df.occurrenceID.unique()) == len(emofsource_samplesoccur_nonulls_df)"
   ]
  },
  {
   "cell_type": "code",
   "execution_count": 44,
   "id": "4e368325",
   "metadata": {},
   "outputs": [],
   "source": [
    "# Full definition on NVS:\n",
    "#   Biomass as carbon of mesozooplankton per unit volume of the water body \n",
    "#   by optical microscopy and computation of carbon biomass from abundance\n",
    "\n",
    "carbon_emof_df = populate_emof_columns(\n",
    "    emofsource_samplesoccur_nonulls_df, \n",
    "    # Abbreviated measurement type definition\n",
    "    meas_type=\"Biomass as carbon of mesozooplankton per unit volume of the water body\",\n",
    "    meas_type_id=\"P01/current/MSBCMITX\",\n",
    "    meas_value_ser=emofsource_samplesoccur_nonulls_df['carbon_biomass'],\n",
    "    # Round off to 5 significant digits after the decimal point\n",
    "    # meas_value_format=\".05f\",\n",
    "    meas_accuracy=\"0.01\",\n",
    "    meas_unit=\"Milligrams per cubic metre\",\n",
    "    meas_unit_id=\"P06/current/UMMC\"\n",
    ")"
   ]
  },
  {
   "cell_type": "code",
   "execution_count": 45,
   "id": "f41675ff",
   "metadata": {},
   "outputs": [
    {
     "data": {
      "text/plain": [
       "380462"
      ]
     },
     "execution_count": 45,
     "metadata": {},
     "output_type": "execute_result"
    }
   ],
   "source": [
    "# For validation, add 'life_history_stage', 'verbatimIdentification' to the emof columns\n",
    "\n",
    "emof_df = concat_to_emof_df(carbon_emof_df, emof_df, is_occurrence_emof=True)\n",
    "\n",
    "len(emof_df)"
   ]
  },
  {
   "cell_type": "code",
   "execution_count": 46,
   "id": "e5e879cc",
   "metadata": {},
   "outputs": [
    {
     "data": {
      "text/html": [
       "<div>\n",
       "<style scoped>\n",
       "    .dataframe tbody tr th:only-of-type {\n",
       "        vertical-align: middle;\n",
       "    }\n",
       "\n",
       "    .dataframe tbody tr th {\n",
       "        vertical-align: top;\n",
       "    }\n",
       "\n",
       "    .dataframe thead th {\n",
       "        text-align: right;\n",
       "    }\n",
       "</style>\n",
       "<table border=\"1\" class=\"dataframe\">\n",
       "  <thead>\n",
       "    <tr style=\"text-align: right;\">\n",
       "      <th></th>\n",
       "      <th>eventID</th>\n",
       "      <th>occurrenceID</th>\n",
       "      <th>measurementType</th>\n",
       "      <th>measurementTypeID</th>\n",
       "      <th>measurementValue</th>\n",
       "      <th>measurementAccuracy</th>\n",
       "      <th>measurementUnit</th>\n",
       "      <th>measurementUnitID</th>\n",
       "    </tr>\n",
       "  </thead>\n",
       "  <tbody>\n",
       "    <tr>\n",
       "      <th>380457</th>\n",
       "      <td>PSZMP-SMP-122320ELID1047</td>\n",
       "      <td>PSZMP-OCC-122320ELID1047-147216-CHAETOGNATHA-C...</td>\n",
       "      <td>Biomass as carbon of mesozooplankton per unit ...</td>\n",
       "      <td>https://vocab.nerc.ac.uk/collection/P01/curren...</td>\n",
       "      <td>0.039178</td>\n",
       "      <td>0.01</td>\n",
       "      <td>Milligrams per cubic metre</td>\n",
       "      <td>https://vocab.nerc.ac.uk/collection/P06/curren...</td>\n",
       "    </tr>\n",
       "    <tr>\n",
       "      <th>380458</th>\n",
       "      <td>PSZMP-SMP-122320ELID1047</td>\n",
       "      <td>PSZMP-OCC-122320ELID1047-147215-CHAETOGNATHA-C...</td>\n",
       "      <td>Biomass as carbon of mesozooplankton per unit ...</td>\n",
       "      <td>https://vocab.nerc.ac.uk/collection/P01/curren...</td>\n",
       "      <td>0.002642</td>\n",
       "      <td>0.01</td>\n",
       "      <td>Milligrams per cubic metre</td>\n",
       "      <td>https://vocab.nerc.ac.uk/collection/P06/curren...</td>\n",
       "    </tr>\n",
       "    <tr>\n",
       "      <th>380459</th>\n",
       "      <td>PSZMP-SMP-122320ELID1047</td>\n",
       "      <td>PSZMP-OCC-122320ELID1047-147214-CANCRIDAE-ZOEA...</td>\n",
       "      <td>Biomass as carbon of mesozooplankton per unit ...</td>\n",
       "      <td>https://vocab.nerc.ac.uk/collection/P01/curren...</td>\n",
       "      <td>0.007155</td>\n",
       "      <td>0.01</td>\n",
       "      <td>Milligrams per cubic metre</td>\n",
       "      <td>https://vocab.nerc.ac.uk/collection/P06/curren...</td>\n",
       "    </tr>\n",
       "    <tr>\n",
       "      <th>380460</th>\n",
       "      <td>PSZMP-SMP-122320ELID1047</td>\n",
       "      <td>PSZMP-OCC-122320ELID1047-147220-HYDROZOA-MEDUS...</td>\n",
       "      <td>Biomass as carbon of mesozooplankton per unit ...</td>\n",
       "      <td>https://vocab.nerc.ac.uk/collection/P01/curren...</td>\n",
       "      <td>0.000131</td>\n",
       "      <td>0.01</td>\n",
       "      <td>Milligrams per cubic metre</td>\n",
       "      <td>https://vocab.nerc.ac.uk/collection/P06/curren...</td>\n",
       "    </tr>\n",
       "    <tr>\n",
       "      <th>380461</th>\n",
       "      <td>PSZMP-SMP-122320ELID1047</td>\n",
       "      <td>PSZMP-OCC-122320ELID1047-147226-OSTRACODA-INDE...</td>\n",
       "      <td>Biomass as carbon of mesozooplankton per unit ...</td>\n",
       "      <td>https://vocab.nerc.ac.uk/collection/P01/curren...</td>\n",
       "      <td>0.021152</td>\n",
       "      <td>0.01</td>\n",
       "      <td>Milligrams per cubic metre</td>\n",
       "      <td>https://vocab.nerc.ac.uk/collection/P06/curren...</td>\n",
       "    </tr>\n",
       "  </tbody>\n",
       "</table>\n",
       "</div>"
      ],
      "text/plain": [
       "                         eventID  \\\n",
       "380457  PSZMP-SMP-122320ELID1047   \n",
       "380458  PSZMP-SMP-122320ELID1047   \n",
       "380459  PSZMP-SMP-122320ELID1047   \n",
       "380460  PSZMP-SMP-122320ELID1047   \n",
       "380461  PSZMP-SMP-122320ELID1047   \n",
       "\n",
       "                                             occurrenceID  \\\n",
       "380457  PSZMP-OCC-122320ELID1047-147216-CHAETOGNATHA-C...   \n",
       "380458  PSZMP-OCC-122320ELID1047-147215-CHAETOGNATHA-C...   \n",
       "380459  PSZMP-OCC-122320ELID1047-147214-CANCRIDAE-ZOEA...   \n",
       "380460  PSZMP-OCC-122320ELID1047-147220-HYDROZOA-MEDUS...   \n",
       "380461  PSZMP-OCC-122320ELID1047-147226-OSTRACODA-INDE...   \n",
       "\n",
       "                                          measurementType  \\\n",
       "380457  Biomass as carbon of mesozooplankton per unit ...   \n",
       "380458  Biomass as carbon of mesozooplankton per unit ...   \n",
       "380459  Biomass as carbon of mesozooplankton per unit ...   \n",
       "380460  Biomass as carbon of mesozooplankton per unit ...   \n",
       "380461  Biomass as carbon of mesozooplankton per unit ...   \n",
       "\n",
       "                                        measurementTypeID measurementValue  \\\n",
       "380457  https://vocab.nerc.ac.uk/collection/P01/curren...         0.039178   \n",
       "380458  https://vocab.nerc.ac.uk/collection/P01/curren...         0.002642   \n",
       "380459  https://vocab.nerc.ac.uk/collection/P01/curren...         0.007155   \n",
       "380460  https://vocab.nerc.ac.uk/collection/P01/curren...         0.000131   \n",
       "380461  https://vocab.nerc.ac.uk/collection/P01/curren...         0.021152   \n",
       "\n",
       "       measurementAccuracy             measurementUnit  \\\n",
       "380457                0.01  Milligrams per cubic metre   \n",
       "380458                0.01  Milligrams per cubic metre   \n",
       "380459                0.01  Milligrams per cubic metre   \n",
       "380460                0.01  Milligrams per cubic metre   \n",
       "380461                0.01  Milligrams per cubic metre   \n",
       "\n",
       "                                        measurementUnitID  \n",
       "380457  https://vocab.nerc.ac.uk/collection/P06/curren...  \n",
       "380458  https://vocab.nerc.ac.uk/collection/P06/curren...  \n",
       "380459  https://vocab.nerc.ac.uk/collection/P06/curren...  \n",
       "380460  https://vocab.nerc.ac.uk/collection/P06/curren...  \n",
       "380461  https://vocab.nerc.ac.uk/collection/P06/curren...  "
      ]
     },
     "execution_count": 46,
     "metadata": {},
     "output_type": "execute_result"
    }
   ],
   "source": [
    "emof_df.tail()"
   ]
  },
  {
   "cell_type": "markdown",
   "id": "8b375f70-6590-4392-a786-73c06eeb60ce",
   "metadata": {},
   "source": [
    "## Export `emof_df` to csv"
   ]
  },
  {
   "cell_type": "code",
   "execution_count": 47,
   "id": "70674193-4e84-4b23-bd53-c80e926e2463",
   "metadata": {},
   "outputs": [
    {
     "data": {
      "text/plain": [
       "Biomass as carbon of mesozooplankton per unit volume of the water body                  185729\n",
       "Abundance of biological entity specified elsewhere per unit volume of the water body    184026\n",
       "plankton net                                                                              3569\n",
       "Sampling method                                                                           3569\n",
       "Sampling net mesh size                                                                    3569\n",
       "Name: measurementType, dtype: int64"
      ]
     },
     "execution_count": 47,
     "metadata": {},
     "output_type": "execute_result"
    }
   ],
   "source": [
    "emof_df.measurementType.value_counts()"
   ]
  },
  {
   "cell_type": "code",
   "execution_count": 48,
   "id": "7b678578",
   "metadata": {},
   "outputs": [],
   "source": [
    "csv_fpth = data_pth / \"aligned_csvs\" / \"DwC_emof.csv\""
   ]
  },
  {
   "cell_type": "code",
   "execution_count": 49,
   "id": "9633a9fd",
   "metadata": {},
   "outputs": [],
   "source": [
    "if not debug_no_csvexport:\n",
    "    emof_df.to_csv(csv_fpth, index=False)"
   ]
  },
  {
   "cell_type": "markdown",
   "id": "991322d9",
   "metadata": {},
   "source": [
    "### Create zip file with the csv"
   ]
  },
  {
   "cell_type": "code",
   "execution_count": 50,
   "id": "b0ddfb88",
   "metadata": {},
   "outputs": [],
   "source": [
    "if not debug_no_csvexport:\n",
    "    create_csv_zip(csv_fpth)"
   ]
  },
  {
   "cell_type": "markdown",
   "id": "2c309aac-9033-4aa9-8864-84b26ea530c6",
   "metadata": {},
   "source": [
    "## Package versions"
   ]
  },
  {
   "cell_type": "code",
   "execution_count": 51,
   "id": "a78b77d4-afa6-4103-b940-5ee73846b80b",
   "metadata": {},
   "outputs": [
    {
     "name": "stdout",
     "output_type": "stream",
     "text": [
      "2024-12-12 22:01:49.868259 +00:00\n",
      "pandas: 1.5.3\n"
     ]
    }
   ],
   "source": [
    "print(\n",
    "    f\"{datetime.utcnow()} +00:00\\n\"\n",
    "    f\"pandas: {pd.__version__}\"\n",
    ")"
   ]
  },
  {
   "cell_type": "code",
   "execution_count": null,
   "id": "61274710",
   "metadata": {},
   "outputs": [],
   "source": []
  }
 ],
 "metadata": {
  "kernelspec": {
   "display_name": "nanoos_bio",
   "language": "python",
   "name": "python3"
  },
  "language_info": {
   "codemirror_mode": {
    "name": "ipython",
    "version": 3
   },
   "file_extension": ".py",
   "mimetype": "text/x-python",
   "name": "python",
   "nbconvert_exporter": "python",
   "pygments_lexer": "ipython3",
   "version": "3.9.16"
  }
 },
 "nbformat": 4,
 "nbformat_minor": 5
}
