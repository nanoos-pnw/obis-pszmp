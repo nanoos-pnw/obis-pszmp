{
 "cells": [
  {
   "cell_type": "markdown",
   "id": "e08d49b0",
   "metadata": {},
   "source": [
    "# DwC eMoFs. PSZMP data\n",
    "\n",
    "**Puget Sound Zooplankton Monitoring Program dataset.** Alignment of dataset to Darwin Core (DwC) for NANOOS, https://www.nanoos.org. This data alignment work, including this Jupyter notebook, are described in the GitHub repository https://github.com/nanoos-pnw/obis-pszmp. See [README.md](https://github.com/nanoos-pnw/obis-pszmp/blob/main/README.md).   \n",
    "\n",
    "Emilio Mayorga, https://github.com/emiliom   \n",
    "\n",
    "2/15/2024"
   ]
  },
  {
   "cell_type": "markdown",
   "id": "a8857dc8",
   "metadata": {},
   "source": [
    "**TODO:**\n",
    "- The `eventID` for the non-Ocurrence `measurementType` entries don't look correct. They're not the `eventID` values created in the event notebookk. Could this issue (error?) be found in the Hood Canal notebook???"
   ]
  },
  {
   "cell_type": "markdown",
   "id": "68537864-0dc5-45a4-aea3-4d4275d79a64",
   "metadata": {},
   "source": [
    "## Goals and scope of this notebook\n",
    "\n",
    "Parse the source data and combine it with `common_mappings.json`, the previously generated DwC event and occurrence csv files, and the `intermediate_DwC_occurrence_life_history_stage.csv` file created in the notebook `PSZMP-dwcOccurrence.ipynb` to create the DwC \"Extended Measurement or Fact\" (eMoF) file `DwC_emof.csv`. This file contains four types of eMoF information, referenced to standard vocabularies:\n",
    "- Description of the multinet sampling platform\n",
    "- Assignment of the water column sampling scheme\n",
    "- Assignment of the sample mesh size\n",
    "- Matchup of the sample density (abundance per unit volume) to the `OccurrenceID` from the DwC occurrence table\n",
    "\n",
    "The DwC eMoF table is populated sequentially for each of these eMoF types, in that order. Columns are populated differently depending on the eMoF type."
   ]
  },
  {
   "cell_type": "markdown",
   "id": "02559765-c141-40f0-a6b3-1eb0d2ea2a2a",
   "metadata": {},
   "source": [
    "## Settings"
   ]
  },
  {
   "cell_type": "code",
   "execution_count": 1,
   "id": "17bb67ab-2ea0-4ccd-a770-f7646434350f",
   "metadata": {},
   "outputs": [],
   "source": [
    "from datetime import datetime\n",
    "import json\n",
    "from pathlib import Path\n",
    "\n",
    "import numpy as np\n",
    "import pandas as pd\n",
    "\n",
    "from data_preprocess import read_and_parse_sourcedata"
   ]
  },
  {
   "cell_type": "code",
   "execution_count": 2,
   "id": "e4450c4d-f57a-436f-b2a0-aa697c562bb1",
   "metadata": {},
   "outputs": [],
   "source": [
    "data_pth = Path(\".\")"
   ]
  },
  {
   "cell_type": "markdown",
   "id": "bf4c34ac-ab2d-4c5a-825a-14958cd004fd",
   "metadata": {},
   "source": [
    "Set to `True` when debugging. `csv` ﬁles will not be exported when `debug_no_csvexport = True`"
   ]
  },
  {
   "cell_type": "code",
   "execution_count": 3,
   "id": "ac24f23b-44e8-4a19-b396-b331b668d15c",
   "metadata": {},
   "outputs": [],
   "source": [
    "debug_no_csvexport = False"
   ]
  },
  {
   "cell_type": "markdown",
   "id": "9803c80f-c40b-466e-8803-40bd3b014060",
   "metadata": {
    "tags": []
   },
   "source": [
    "## Process JSON file containing common mappings and strings"
   ]
  },
  {
   "cell_type": "code",
   "execution_count": 4,
   "id": "b26c0ebd-adec-438b-be4d-02d29a50ecfa",
   "metadata": {},
   "outputs": [],
   "source": [
    "with open(data_pth / 'common_mappings.json') as f:\n",
    "    common_mappings = json.load(f)"
   ]
  },
  {
   "cell_type": "code",
   "execution_count": 5,
   "id": "8f1e3d67-0afd-4aad-8726-c96cfca29ff7",
   "metadata": {},
   "outputs": [],
   "source": [
    "DatasetCode = common_mappings['datasetcode']\n",
    "net_tow = common_mappings['net_tow']\n",
    "\n",
    "iso8601_format = common_mappings['iso8601_format']"
   ]
  },
  {
   "cell_type": "markdown",
   "id": "9db6c7a8",
   "metadata": {},
   "source": [
    "## Pre-process data for eMOF table"
   ]
  },
  {
   "cell_type": "markdown",
   "id": "426c56e4",
   "metadata": {},
   "source": [
    "### Read and pre-processe the source data from Excel file"
   ]
  },
  {
   "cell_type": "markdown",
   "id": "f3a79d80-345d-4920-a964-cccd64517731",
   "metadata": {},
   "source": [
    "`usecols` defines the columns that will be kept and the order in which they'll be organized"
   ]
  },
  {
   "cell_type": "code",
   "execution_count": 6,
   "id": "b35069bd-3a64-4ca8-a65a-b09c12cd5666",
   "metadata": {},
   "outputs": [],
   "source": [
    "# I doubt I'll need any of the datetime columns here\n",
    "# usecols = [\n",
    "#     'sample_code', 'station', \n",
    "#     # 'date', 'time_start', 'time', 'day_night', \n",
    "#     'mesh_size', 'Tow Type', \n",
    "#     'species', 'life_history_stage', 'density'\n",
    "# ]\n",
    "\n",
    "usecols = [\n",
    "    'Sample Code', 'Station', \n",
    "    'Mesh Size', 'Tow Type', \n",
    "    'Genus species_lc', 'Life History Stage_lc', 'Density (#/m3)'\n",
    "]\n",
    "\n",
    "emofsource_df = read_and_parse_sourcedata()[usecols]\n",
    "\n",
    "# TODO: Rename more columns, if needed\n",
    "emofsource_df.rename(\n",
    "    columns={\n",
    "        'Sample Code': 'sample_code',\n",
    "        'Station': 'station',\n",
    "        'Mesh Size': 'mesh_size',\n",
    "        'Genus species_lc': 'species',\n",
    "        'Life History Stage_lc': 'life_history_stage',\n",
    "        'Density (#/m3)': 'density',\n",
    "    },\n",
    "    inplace=True\n",
    ")"
   ]
  },
  {
   "cell_type": "code",
   "execution_count": 7,
   "id": "6dcc6d95-6c55-49ad-bbdd-6ae50ee78324",
   "metadata": {},
   "outputs": [
    {
     "data": {
      "text/plain": [
       "153825"
      ]
     },
     "execution_count": 7,
     "metadata": {},
     "output_type": "execute_result"
    }
   ],
   "source": [
    "len(emofsource_df)"
   ]
  },
  {
   "cell_type": "code",
   "execution_count": 8,
   "id": "41cfa16c-b46b-4843-adbb-afffb60a1fb2",
   "metadata": {},
   "outputs": [
    {
     "data": {
      "text/html": [
       "<div>\n",
       "<style scoped>\n",
       "    .dataframe tbody tr th:only-of-type {\n",
       "        vertical-align: middle;\n",
       "    }\n",
       "\n",
       "    .dataframe tbody tr th {\n",
       "        vertical-align: top;\n",
       "    }\n",
       "\n",
       "    .dataframe thead th {\n",
       "        text-align: right;\n",
       "    }\n",
       "</style>\n",
       "<table border=\"1\" class=\"dataframe\">\n",
       "  <thead>\n",
       "    <tr style=\"text-align: right;\">\n",
       "      <th></th>\n",
       "      <th>sample_code</th>\n",
       "      <th>station</th>\n",
       "      <th>mesh_size</th>\n",
       "      <th>Tow Type</th>\n",
       "      <th>species</th>\n",
       "      <th>life_history_stage</th>\n",
       "      <th>density</th>\n",
       "    </tr>\n",
       "  </thead>\n",
       "  <tbody>\n",
       "    <tr>\n",
       "      <th>0</th>\n",
       "      <td>010218ELIV1151</td>\n",
       "      <td>ELIV</td>\n",
       "      <td>200</td>\n",
       "      <td>Vertical</td>\n",
       "      <td>acartia hudsonica</td>\n",
       "      <td>male, adult</td>\n",
       "      <td>0.899394</td>\n",
       "    </tr>\n",
       "    <tr>\n",
       "      <th>1</th>\n",
       "      <td>010218ELIV1151</td>\n",
       "      <td>ELIV</td>\n",
       "      <td>200</td>\n",
       "      <td>Vertical</td>\n",
       "      <td>acartia longiremis</td>\n",
       "      <td>female, adult</td>\n",
       "      <td>6.295757</td>\n",
       "    </tr>\n",
       "    <tr>\n",
       "      <th>2</th>\n",
       "      <td>010218ELIV1151</td>\n",
       "      <td>ELIV</td>\n",
       "      <td>200</td>\n",
       "      <td>Vertical</td>\n",
       "      <td>acartia longiremis</td>\n",
       "      <td>male, adult</td>\n",
       "      <td>0.899394</td>\n",
       "    </tr>\n",
       "    <tr>\n",
       "      <th>3</th>\n",
       "      <td>010218ELIV1151</td>\n",
       "      <td>ELIV</td>\n",
       "      <td>200</td>\n",
       "      <td>Vertical</td>\n",
       "      <td>aetideus</td>\n",
       "      <td>female, adult</td>\n",
       "      <td>1.798788</td>\n",
       "    </tr>\n",
       "    <tr>\n",
       "      <th>4</th>\n",
       "      <td>010218ELIV1151</td>\n",
       "      <td>ELIV</td>\n",
       "      <td>200</td>\n",
       "      <td>Vertical</td>\n",
       "      <td>aglantha digitale</td>\n",
       "      <td>medusa</td>\n",
       "      <td>1.439030</td>\n",
       "    </tr>\n",
       "  </tbody>\n",
       "</table>\n",
       "</div>"
      ],
      "text/plain": [
       "      sample_code station  mesh_size  Tow Type             species  \\\n",
       "0  010218ELIV1151    ELIV        200  Vertical   acartia hudsonica   \n",
       "1  010218ELIV1151    ELIV        200  Vertical  acartia longiremis   \n",
       "2  010218ELIV1151    ELIV        200  Vertical  acartia longiremis   \n",
       "3  010218ELIV1151    ELIV        200  Vertical            aetideus   \n",
       "4  010218ELIV1151    ELIV        200  Vertical   aglantha digitale   \n",
       "\n",
       "  life_history_stage   density  \n",
       "0        male, adult  0.899394  \n",
       "1      female, adult  6.295757  \n",
       "2        male, adult  0.899394  \n",
       "3      female, adult  1.798788  \n",
       "4             medusa  1.439030  "
      ]
     },
     "execution_count": 8,
     "metadata": {},
     "output_type": "execute_result"
    }
   ],
   "source": [
    "emofsource_df.head()"
   ]
  },
  {
   "cell_type": "markdown",
   "id": "dde6e90d-b424-4802-9f9d-13389f8eae30",
   "metadata": {},
   "source": [
    "## Read dwcEvent and dwcOccurrence csv's"
   ]
  },
  {
   "cell_type": "code",
   "execution_count": 9,
   "id": "9e258123-8c6c-4351-a0dd-55ff6e8c846f",
   "metadata": {},
   "outputs": [],
   "source": [
    "dwcevent_df = pd.read_csv(\n",
    "    data_pth / \"aligned_csvs\" / \"DwC_event.csv\",\n",
    "    parse_dates=['eventDate'],\n",
    "    usecols=['eventID', 'parentEventID', 'eventDate']\n",
    ")\n",
    "\n",
    "dwcoccurrence_df = pd.read_csv(\n",
    "    data_pth / \"aligned_csvs\" / \"DwC_occurrence.csv\",\n",
    "    usecols=['occurrenceID', 'eventID', 'verbatimIdentification']\n",
    ")\n",
    "\n",
    "occurrence_vs_life_history_stage = pd.read_csv(\n",
    "    data_pth / \"intermediate_DwC_occurrence_life_history_stage.csv\"\n",
    ")"
   ]
  },
  {
   "cell_type": "markdown",
   "id": "7decf3c6-b8ac-4997-a0fe-a4e4306a4bed",
   "metadata": {},
   "source": [
    "Add `life_history_stage` to the occurrence dataframe, to enable the eMoF data processing steps used here."
   ]
  },
  {
   "cell_type": "code",
   "execution_count": 10,
   "id": "33a01c90-4f66-48d8-bcca-bff2b2ef4f30",
   "metadata": {},
   "outputs": [],
   "source": [
    "dwcoccurrence_df = dwcoccurrence_df.merge(occurrence_vs_life_history_stage, on='occurrenceID')"
   ]
  },
  {
   "cell_type": "markdown",
   "id": "695013e2-da23-4bfd-9e09-41ac06b07b65",
   "metadata": {},
   "source": [
    "## Create empty eMoF dataframe"
   ]
  },
  {
   "cell_type": "code",
   "execution_count": 11,
   "id": "48a89608-e2b4-4284-b238-4fd5e10bbc8e",
   "metadata": {},
   "outputs": [],
   "source": [
    "# Won't use measurementID, per Abby's explanation on Slack\n",
    "emof_cols_dtypes = np.dtype(\n",
    "    [\n",
    "        ('eventID', str),\n",
    "        ('occurrenceID', str), \n",
    "        # --- temporary, for validation\n",
    "        # ('life_history_stage', str),\n",
    "        # ('verbatimIdentification', str),\n",
    "        # ---- below, commented out columns not used\n",
    "        ('measurementType', str),\n",
    "        ('measurementTypeID', str), \n",
    "        ('measurementValue', str),\n",
    "        # ('measurementValueID', str),\n",
    "        # ('measurementAccuracy', str),\n",
    "        ('measurementUnit', str),\n",
    "        ('measurementUnitID', str),\n",
    "        # ('measurementDeterminedDate', str),\n",
    "        # ('measurementDeterminedBy', str), \n",
    "        # ('measurementMethod', str),\n",
    "        # ('measurementRemarks', str)\n",
    "    ]\n",
    ")"
   ]
  },
  {
   "cell_type": "code",
   "execution_count": 12,
   "id": "54768e1d-08e2-47a8-9030-e170c4a3d9fc",
   "metadata": {},
   "outputs": [],
   "source": [
    "emof_df = pd.DataFrame(np.empty(0, dtype=emof_cols_dtypes))"
   ]
  },
  {
   "cell_type": "markdown",
   "id": "d1bd676e-c2ae-4f4f-baa6-2721aa7cd545",
   "metadata": {},
   "source": [
    "## MoF's associated with an event rather than an occurrence\n",
    "\n",
    "These will have no `occcurrenceID` entry"
   ]
  },
  {
   "cell_type": "markdown",
   "id": "963b7aed-65aa-4e42-be8c-c1a5981dc62c",
   "metadata": {},
   "source": [
    "### Associated with sample events"
   ]
  },
  {
   "cell_type": "code",
   "execution_count": 13,
   "id": "cb2b6e12-80fd-4c23-b60a-ce7419095c4a",
   "metadata": {},
   "outputs": [],
   "source": [
    "emofsource_samples_df = dwcevent_df.merge(\n",
    "    emofsource_df[['sample_code', 'mesh_size', 'Tow Type']], \n",
    "    how='inner',\n",
    "    left_on='eventID',\n",
    "    right_on='sample_code'\n",
    ")\n",
    "\n",
    "emofsource_samples_df = (\n",
    "    emofsource_samples_df\n",
    "    .drop_duplicates()\n",
    "    .drop(columns='sample_code')\n",
    "    .sort_values(by='eventID')\n",
    "    .reset_index(drop=True)\n",
    ")"
   ]
  },
  {
   "cell_type": "code",
   "execution_count": 14,
   "id": "79fc6bf2-9c29-4c93-9557-625c75726d82",
   "metadata": {},
   "outputs": [
    {
     "data": {
      "text/plain": [
       "3567"
      ]
     },
     "execution_count": 14,
     "metadata": {},
     "output_type": "execute_result"
    }
   ],
   "source": [
    "len(emofsource_samples_df)"
   ]
  },
  {
   "cell_type": "code",
   "execution_count": 15,
   "id": "81a521ee-6267-4333-b619-14460dd8511c",
   "metadata": {},
   "outputs": [
    {
     "data": {
      "text/html": [
       "<div>\n",
       "<style scoped>\n",
       "    .dataframe tbody tr th:only-of-type {\n",
       "        vertical-align: middle;\n",
       "    }\n",
       "\n",
       "    .dataframe tbody tr th {\n",
       "        vertical-align: top;\n",
       "    }\n",
       "\n",
       "    .dataframe thead th {\n",
       "        text-align: right;\n",
       "    }\n",
       "</style>\n",
       "<table border=\"1\" class=\"dataframe\">\n",
       "  <thead>\n",
       "    <tr style=\"text-align: right;\">\n",
       "      <th></th>\n",
       "      <th>eventID</th>\n",
       "      <th>parentEventID</th>\n",
       "      <th>eventDate</th>\n",
       "      <th>mesh_size</th>\n",
       "      <th>Tow Type</th>\n",
       "    </tr>\n",
       "  </thead>\n",
       "  <tbody>\n",
       "    <tr>\n",
       "      <th>0</th>\n",
       "      <td>010218ELIV1151</td>\n",
       "      <td>PSZMP_20180102D_ELIV</td>\n",
       "      <td>2018-01-02 11:51:00-07:00</td>\n",
       "      <td>200</td>\n",
       "      <td>Vertical</td>\n",
       "    </tr>\n",
       "    <tr>\n",
       "      <th>1</th>\n",
       "      <td>010322KSBP01D0815</td>\n",
       "      <td>PSZMP_20220103D_KSBP01D</td>\n",
       "      <td>2022-01-03 08:15:00-07:00</td>\n",
       "      <td>335</td>\n",
       "      <td>Oblique</td>\n",
       "    </tr>\n",
       "    <tr>\n",
       "      <th>2</th>\n",
       "      <td>010422LSNT01D1323</td>\n",
       "      <td>PSZMP_20220104D_LSNT01D</td>\n",
       "      <td>2022-01-04 13:23:00-07:00</td>\n",
       "      <td>335</td>\n",
       "      <td>Oblique</td>\n",
       "    </tr>\n",
       "    <tr>\n",
       "      <th>3</th>\n",
       "      <td>010422LSNT01V1305</td>\n",
       "      <td>PSZMP_20220104D_LSNT01V</td>\n",
       "      <td>2022-01-04 13:05:00-07:00</td>\n",
       "      <td>200</td>\n",
       "      <td>Vertical</td>\n",
       "    </tr>\n",
       "    <tr>\n",
       "      <th>4</th>\n",
       "      <td>010422NSEX01V1049</td>\n",
       "      <td>PSZMP_20220104D_NSEX01V</td>\n",
       "      <td>2022-01-04 10:49:00-07:00</td>\n",
       "      <td>200</td>\n",
       "      <td>Vertical</td>\n",
       "    </tr>\n",
       "  </tbody>\n",
       "</table>\n",
       "</div>"
      ],
      "text/plain": [
       "             eventID            parentEventID                 eventDate  \\\n",
       "0     010218ELIV1151     PSZMP_20180102D_ELIV 2018-01-02 11:51:00-07:00   \n",
       "1  010322KSBP01D0815  PSZMP_20220103D_KSBP01D 2022-01-03 08:15:00-07:00   \n",
       "2  010422LSNT01D1323  PSZMP_20220104D_LSNT01D 2022-01-04 13:23:00-07:00   \n",
       "3  010422LSNT01V1305  PSZMP_20220104D_LSNT01V 2022-01-04 13:05:00-07:00   \n",
       "4  010422NSEX01V1049  PSZMP_20220104D_NSEX01V 2022-01-04 10:49:00-07:00   \n",
       "\n",
       "   mesh_size  Tow Type  \n",
       "0        200  Vertical  \n",
       "1        335   Oblique  \n",
       "2        335   Oblique  \n",
       "3        200  Vertical  \n",
       "4        200  Vertical  "
      ]
     },
     "execution_count": 15,
     "metadata": {},
     "output_type": "execute_result"
    }
   ],
   "source": [
    "emofsource_samples_df.head()"
   ]
  },
  {
   "cell_type": "markdown",
   "id": "81872b5f-d6ac-434b-bbf5-8324e45c9d92",
   "metadata": {},
   "source": [
    "#### multinet sampling"
   ]
  },
  {
   "cell_type": "code",
   "execution_count": 16,
   "id": "44598a79-1fb2-4c16-966a-9ef2a2975e6e",
   "metadata": {},
   "outputs": [],
   "source": [
    "multinet_emof_df = emofsource_samples_df.copy()"
   ]
  },
  {
   "cell_type": "code",
   "execution_count": 17,
   "id": "40762d03-56e0-471f-a555-191b6bd5cbfb",
   "metadata": {},
   "outputs": [],
   "source": [
    "multinet_emof_df['measurementType'] = \"multinet\"\n",
    "multinet_emof_df['measurementTypeID'] = \"http://vocab.nerc.ac.uk/collection/L05/current/68/\"\n",
    "multinet_emof_df['measurementValue'] = 'Hydro-bios 5-net'"
   ]
  },
  {
   "cell_type": "code",
   "execution_count": 18,
   "id": "2cdd533b-b9d0-4337-bc78-64030917e8b7",
   "metadata": {},
   "outputs": [
    {
     "data": {
      "text/plain": [
       "3567"
      ]
     },
     "execution_count": 18,
     "metadata": {},
     "output_type": "execute_result"
    }
   ],
   "source": [
    "len(multinet_emof_df)"
   ]
  },
  {
   "cell_type": "markdown",
   "id": "7d7e2afe-ebb0-4a7e-8f41-36d1e43f5967",
   "metadata": {},
   "source": [
    "Populate (append to) the `emof_df` table with the emof records."
   ]
  },
  {
   "cell_type": "code",
   "execution_count": 19,
   "id": "bf615525-9586-400c-8631-b4b66af6a4da",
   "metadata": {},
   "outputs": [],
   "source": [
    "emof_df = pd.concat(\n",
    "    [\n",
    "        emof_df,\n",
    "        multinet_emof_df[['eventID', 'measurementType', 'measurementTypeID', 'measurementValue']]\n",
    "    ],\n",
    "    ignore_index=True\n",
    ")"
   ]
  },
  {
   "cell_type": "code",
   "execution_count": 20,
   "id": "c0038833-5082-49e5-8cb1-3e4d218dabaa",
   "metadata": {},
   "outputs": [
    {
     "data": {
      "text/plain": [
       "3567"
      ]
     },
     "execution_count": 20,
     "metadata": {},
     "output_type": "execute_result"
    }
   ],
   "source": [
    "len(emof_df)"
   ]
  },
  {
   "cell_type": "code",
   "execution_count": null,
   "id": "3af3aef0",
   "metadata": {},
   "outputs": [
    {
     "data": {
      "text/html": [
       "<div>\n",
       "<style scoped>\n",
       "    .dataframe tbody tr th:only-of-type {\n",
       "        vertical-align: middle;\n",
       "    }\n",
       "\n",
       "    .dataframe tbody tr th {\n",
       "        vertical-align: top;\n",
       "    }\n",
       "\n",
       "    .dataframe thead th {\n",
       "        text-align: right;\n",
       "    }\n",
       "</style>\n",
       "<table border=\"1\" class=\"dataframe\">\n",
       "  <thead>\n",
       "    <tr style=\"text-align: right;\">\n",
       "      <th></th>\n",
       "      <th>eventID</th>\n",
       "      <th>occurrenceID</th>\n",
       "      <th>measurementType</th>\n",
       "      <th>measurementTypeID</th>\n",
       "      <th>measurementValue</th>\n",
       "      <th>measurementUnit</th>\n",
       "      <th>measurementUnitID</th>\n",
       "    </tr>\n",
       "  </thead>\n",
       "  <tbody>\n",
       "    <tr>\n",
       "      <th>0</th>\n",
       "      <td>010218ELIV1151</td>\n",
       "      <td>NaN</td>\n",
       "      <td>multinet</td>\n",
       "      <td>http://vocab.nerc.ac.uk/collection/L05/current...</td>\n",
       "      <td>Hydro-bios 5-net</td>\n",
       "      <td>NaN</td>\n",
       "      <td>NaN</td>\n",
       "    </tr>\n",
       "    <tr>\n",
       "      <th>1</th>\n",
       "      <td>010322KSBP01D0815</td>\n",
       "      <td>NaN</td>\n",
       "      <td>multinet</td>\n",
       "      <td>http://vocab.nerc.ac.uk/collection/L05/current...</td>\n",
       "      <td>Hydro-bios 5-net</td>\n",
       "      <td>NaN</td>\n",
       "      <td>NaN</td>\n",
       "    </tr>\n",
       "    <tr>\n",
       "      <th>2</th>\n",
       "      <td>010422LSNT01D1323</td>\n",
       "      <td>NaN</td>\n",
       "      <td>multinet</td>\n",
       "      <td>http://vocab.nerc.ac.uk/collection/L05/current...</td>\n",
       "      <td>Hydro-bios 5-net</td>\n",
       "      <td>NaN</td>\n",
       "      <td>NaN</td>\n",
       "    </tr>\n",
       "    <tr>\n",
       "      <th>3</th>\n",
       "      <td>010422LSNT01V1305</td>\n",
       "      <td>NaN</td>\n",
       "      <td>multinet</td>\n",
       "      <td>http://vocab.nerc.ac.uk/collection/L05/current...</td>\n",
       "      <td>Hydro-bios 5-net</td>\n",
       "      <td>NaN</td>\n",
       "      <td>NaN</td>\n",
       "    </tr>\n",
       "    <tr>\n",
       "      <th>4</th>\n",
       "      <td>010422NSEX01V1049</td>\n",
       "      <td>NaN</td>\n",
       "      <td>multinet</td>\n",
       "      <td>http://vocab.nerc.ac.uk/collection/L05/current...</td>\n",
       "      <td>Hydro-bios 5-net</td>\n",
       "      <td>NaN</td>\n",
       "      <td>NaN</td>\n",
       "    </tr>\n",
       "    <tr>\n",
       "      <th>5</th>\n",
       "      <td>010621SARAV1115</td>\n",
       "      <td>NaN</td>\n",
       "      <td>multinet</td>\n",
       "      <td>http://vocab.nerc.ac.uk/collection/L05/current...</td>\n",
       "      <td>Hydro-bios 5-net</td>\n",
       "      <td>NaN</td>\n",
       "      <td>NaN</td>\n",
       "    </tr>\n",
       "    <tr>\n",
       "      <th>6</th>\n",
       "      <td>010818SKETV1058</td>\n",
       "      <td>NaN</td>\n",
       "      <td>multinet</td>\n",
       "      <td>http://vocab.nerc.ac.uk/collection/L05/current...</td>\n",
       "      <td>Hydro-bios 5-net</td>\n",
       "      <td>NaN</td>\n",
       "      <td>NaN</td>\n",
       "    </tr>\n",
       "    <tr>\n",
       "      <th>7</th>\n",
       "      <td>010820KSBP01D1450</td>\n",
       "      <td>NaN</td>\n",
       "      <td>multinet</td>\n",
       "      <td>http://vocab.nerc.ac.uk/collection/L05/current...</td>\n",
       "      <td>Hydro-bios 5-net</td>\n",
       "      <td>NaN</td>\n",
       "      <td>NaN</td>\n",
       "    </tr>\n",
       "    <tr>\n",
       "      <th>8</th>\n",
       "      <td>010820KSBP01V1430</td>\n",
       "      <td>NaN</td>\n",
       "      <td>multinet</td>\n",
       "      <td>http://vocab.nerc.ac.uk/collection/L05/current...</td>\n",
       "      <td>Hydro-bios 5-net</td>\n",
       "      <td>NaN</td>\n",
       "      <td>NaN</td>\n",
       "    </tr>\n",
       "    <tr>\n",
       "      <th>9</th>\n",
       "      <td>010820LSNT01D1131</td>\n",
       "      <td>NaN</td>\n",
       "      <td>multinet</td>\n",
       "      <td>http://vocab.nerc.ac.uk/collection/L05/current...</td>\n",
       "      <td>Hydro-bios 5-net</td>\n",
       "      <td>NaN</td>\n",
       "      <td>NaN</td>\n",
       "    </tr>\n",
       "  </tbody>\n",
       "</table>\n",
       "</div>"
      ],
      "text/plain": [
       "             eventID occurrenceID measurementType  \\\n",
       "0     010218ELIV1151          NaN        multinet   \n",
       "1  010322KSBP01D0815          NaN        multinet   \n",
       "2  010422LSNT01D1323          NaN        multinet   \n",
       "3  010422LSNT01V1305          NaN        multinet   \n",
       "4  010422NSEX01V1049          NaN        multinet   \n",
       "5    010621SARAV1115          NaN        multinet   \n",
       "6    010818SKETV1058          NaN        multinet   \n",
       "7  010820KSBP01D1450          NaN        multinet   \n",
       "8  010820KSBP01V1430          NaN        multinet   \n",
       "9  010820LSNT01D1131          NaN        multinet   \n",
       "\n",
       "                                   measurementTypeID  measurementValue  \\\n",
       "0  http://vocab.nerc.ac.uk/collection/L05/current...  Hydro-bios 5-net   \n",
       "1  http://vocab.nerc.ac.uk/collection/L05/current...  Hydro-bios 5-net   \n",
       "2  http://vocab.nerc.ac.uk/collection/L05/current...  Hydro-bios 5-net   \n",
       "3  http://vocab.nerc.ac.uk/collection/L05/current...  Hydro-bios 5-net   \n",
       "4  http://vocab.nerc.ac.uk/collection/L05/current...  Hydro-bios 5-net   \n",
       "5  http://vocab.nerc.ac.uk/collection/L05/current...  Hydro-bios 5-net   \n",
       "6  http://vocab.nerc.ac.uk/collection/L05/current...  Hydro-bios 5-net   \n",
       "7  http://vocab.nerc.ac.uk/collection/L05/current...  Hydro-bios 5-net   \n",
       "8  http://vocab.nerc.ac.uk/collection/L05/current...  Hydro-bios 5-net   \n",
       "9  http://vocab.nerc.ac.uk/collection/L05/current...  Hydro-bios 5-net   \n",
       "\n",
       "  measurementUnit measurementUnitID  \n",
       "0             NaN               NaN  \n",
       "1             NaN               NaN  \n",
       "2             NaN               NaN  \n",
       "3             NaN               NaN  \n",
       "4             NaN               NaN  \n",
       "5             NaN               NaN  \n",
       "6             NaN               NaN  \n",
       "7             NaN               NaN  \n",
       "8             NaN               NaN  \n",
       "9             NaN               NaN  "
      ]
     },
     "metadata": {},
     "output_type": "display_data"
    }
   ],
   "source": [
    "emof_df.head()"
   ]
  },
  {
   "cell_type": "markdown",
   "id": "8764c877-3ebb-4acc-b85c-4ed5f16124af",
   "metadata": {},
   "source": [
    "#### depth stratified vs full water column sampling"
   ]
  },
  {
   "cell_type": "code",
   "execution_count": 21,
   "id": "d9432b5c-9110-441b-b470-71a2675518a3",
   "metadata": {},
   "outputs": [],
   "source": [
    "fwcds_emof_df = emofsource_samples_df.copy()"
   ]
  },
  {
   "cell_type": "code",
   "execution_count": 22,
   "id": "24af868c-a358-49bb-a3d9-401808b1cbfd",
   "metadata": {},
   "outputs": [],
   "source": [
    "fwcds_emof_df['measurementType'] = \"Sampling method\"\n",
    "fwcds_emof_df['measurementTypeID'] = \"http://vocab.nerc.ac.uk/collection/Q01/current/Q0100003/\"\n",
    "fwcds_emof_df['measurementValue'] = fwcds_emof_df['Tow Type'].apply(lambda fwc_ds: net_tow[fwc_ds])"
   ]
  },
  {
   "cell_type": "code",
   "execution_count": 23,
   "id": "6917aa21-9464-4f31-8455-eb028498ca65",
   "metadata": {},
   "outputs": [
    {
     "data": {
      "text/plain": [
       "3567"
      ]
     },
     "execution_count": 23,
     "metadata": {},
     "output_type": "execute_result"
    }
   ],
   "source": [
    "len(fwcds_emof_df)"
   ]
  },
  {
   "cell_type": "markdown",
   "id": "00ee8643-4970-4d75-9d02-7fc6d108ef25",
   "metadata": {},
   "source": [
    "Populate (append to) the `emof_df` table with the emof records."
   ]
  },
  {
   "cell_type": "code",
   "execution_count": 24,
   "id": "0c9ea01f-2d6c-4fac-a03f-b1addff4fecf",
   "metadata": {},
   "outputs": [],
   "source": [
    "emof_df = pd.concat(\n",
    "    [\n",
    "        emof_df,\n",
    "        fwcds_emof_df[['eventID', 'measurementType', 'measurementTypeID', 'measurementValue']], \n",
    "    ],\n",
    "    ignore_index=True\n",
    ")"
   ]
  },
  {
   "cell_type": "code",
   "execution_count": 25,
   "id": "5b8ef1c2-8ca0-4403-a6dd-a7a757217da7",
   "metadata": {},
   "outputs": [
    {
     "data": {
      "text/plain": [
       "7134"
      ]
     },
     "execution_count": 25,
     "metadata": {},
     "output_type": "execute_result"
    }
   ],
   "source": [
    "len(emof_df)"
   ]
  },
  {
   "cell_type": "code",
   "execution_count": 26,
   "id": "af9675d2-b876-4b3d-9abd-a865f286559b",
   "metadata": {},
   "outputs": [
    {
     "data": {
      "text/html": [
       "<div>\n",
       "<style scoped>\n",
       "    .dataframe tbody tr th:only-of-type {\n",
       "        vertical-align: middle;\n",
       "    }\n",
       "\n",
       "    .dataframe tbody tr th {\n",
       "        vertical-align: top;\n",
       "    }\n",
       "\n",
       "    .dataframe thead th {\n",
       "        text-align: right;\n",
       "    }\n",
       "</style>\n",
       "<table border=\"1\" class=\"dataframe\">\n",
       "  <thead>\n",
       "    <tr style=\"text-align: right;\">\n",
       "      <th></th>\n",
       "      <th>eventID</th>\n",
       "      <th>occurrenceID</th>\n",
       "      <th>measurementType</th>\n",
       "      <th>measurementTypeID</th>\n",
       "      <th>measurementValue</th>\n",
       "      <th>measurementUnit</th>\n",
       "      <th>measurementUnitID</th>\n",
       "    </tr>\n",
       "  </thead>\n",
       "  <tbody>\n",
       "    <tr>\n",
       "      <th>0</th>\n",
       "      <td>010218ELIV1151</td>\n",
       "      <td>NaN</td>\n",
       "      <td>multinet</td>\n",
       "      <td>http://vocab.nerc.ac.uk/collection/L05/current...</td>\n",
       "      <td>Hydro-bios 5-net</td>\n",
       "      <td>NaN</td>\n",
       "      <td>NaN</td>\n",
       "    </tr>\n",
       "    <tr>\n",
       "      <th>1</th>\n",
       "      <td>010322KSBP01D0815</td>\n",
       "      <td>NaN</td>\n",
       "      <td>multinet</td>\n",
       "      <td>http://vocab.nerc.ac.uk/collection/L05/current...</td>\n",
       "      <td>Hydro-bios 5-net</td>\n",
       "      <td>NaN</td>\n",
       "      <td>NaN</td>\n",
       "    </tr>\n",
       "    <tr>\n",
       "      <th>2</th>\n",
       "      <td>010422LSNT01D1323</td>\n",
       "      <td>NaN</td>\n",
       "      <td>multinet</td>\n",
       "      <td>http://vocab.nerc.ac.uk/collection/L05/current...</td>\n",
       "      <td>Hydro-bios 5-net</td>\n",
       "      <td>NaN</td>\n",
       "      <td>NaN</td>\n",
       "    </tr>\n",
       "    <tr>\n",
       "      <th>3</th>\n",
       "      <td>010422LSNT01V1305</td>\n",
       "      <td>NaN</td>\n",
       "      <td>multinet</td>\n",
       "      <td>http://vocab.nerc.ac.uk/collection/L05/current...</td>\n",
       "      <td>Hydro-bios 5-net</td>\n",
       "      <td>NaN</td>\n",
       "      <td>NaN</td>\n",
       "    </tr>\n",
       "    <tr>\n",
       "      <th>4</th>\n",
       "      <td>010422NSEX01V1049</td>\n",
       "      <td>NaN</td>\n",
       "      <td>multinet</td>\n",
       "      <td>http://vocab.nerc.ac.uk/collection/L05/current...</td>\n",
       "      <td>Hydro-bios 5-net</td>\n",
       "      <td>NaN</td>\n",
       "      <td>NaN</td>\n",
       "    </tr>\n",
       "    <tr>\n",
       "      <th>5</th>\n",
       "      <td>010621SARAV1115</td>\n",
       "      <td>NaN</td>\n",
       "      <td>multinet</td>\n",
       "      <td>http://vocab.nerc.ac.uk/collection/L05/current...</td>\n",
       "      <td>Hydro-bios 5-net</td>\n",
       "      <td>NaN</td>\n",
       "      <td>NaN</td>\n",
       "    </tr>\n",
       "    <tr>\n",
       "      <th>6</th>\n",
       "      <td>010818SKETV1058</td>\n",
       "      <td>NaN</td>\n",
       "      <td>multinet</td>\n",
       "      <td>http://vocab.nerc.ac.uk/collection/L05/current...</td>\n",
       "      <td>Hydro-bios 5-net</td>\n",
       "      <td>NaN</td>\n",
       "      <td>NaN</td>\n",
       "    </tr>\n",
       "    <tr>\n",
       "      <th>7</th>\n",
       "      <td>010820KSBP01D1450</td>\n",
       "      <td>NaN</td>\n",
       "      <td>multinet</td>\n",
       "      <td>http://vocab.nerc.ac.uk/collection/L05/current...</td>\n",
       "      <td>Hydro-bios 5-net</td>\n",
       "      <td>NaN</td>\n",
       "      <td>NaN</td>\n",
       "    </tr>\n",
       "    <tr>\n",
       "      <th>8</th>\n",
       "      <td>010820KSBP01V1430</td>\n",
       "      <td>NaN</td>\n",
       "      <td>multinet</td>\n",
       "      <td>http://vocab.nerc.ac.uk/collection/L05/current...</td>\n",
       "      <td>Hydro-bios 5-net</td>\n",
       "      <td>NaN</td>\n",
       "      <td>NaN</td>\n",
       "    </tr>\n",
       "    <tr>\n",
       "      <th>9</th>\n",
       "      <td>010820LSNT01D1131</td>\n",
       "      <td>NaN</td>\n",
       "      <td>multinet</td>\n",
       "      <td>http://vocab.nerc.ac.uk/collection/L05/current...</td>\n",
       "      <td>Hydro-bios 5-net</td>\n",
       "      <td>NaN</td>\n",
       "      <td>NaN</td>\n",
       "    </tr>\n",
       "  </tbody>\n",
       "</table>\n",
       "</div>"
      ],
      "text/plain": [
       "             eventID occurrenceID measurementType  \\\n",
       "0     010218ELIV1151          NaN        multinet   \n",
       "1  010322KSBP01D0815          NaN        multinet   \n",
       "2  010422LSNT01D1323          NaN        multinet   \n",
       "3  010422LSNT01V1305          NaN        multinet   \n",
       "4  010422NSEX01V1049          NaN        multinet   \n",
       "5    010621SARAV1115          NaN        multinet   \n",
       "6    010818SKETV1058          NaN        multinet   \n",
       "7  010820KSBP01D1450          NaN        multinet   \n",
       "8  010820KSBP01V1430          NaN        multinet   \n",
       "9  010820LSNT01D1131          NaN        multinet   \n",
       "\n",
       "                                   measurementTypeID  measurementValue  \\\n",
       "0  http://vocab.nerc.ac.uk/collection/L05/current...  Hydro-bios 5-net   \n",
       "1  http://vocab.nerc.ac.uk/collection/L05/current...  Hydro-bios 5-net   \n",
       "2  http://vocab.nerc.ac.uk/collection/L05/current...  Hydro-bios 5-net   \n",
       "3  http://vocab.nerc.ac.uk/collection/L05/current...  Hydro-bios 5-net   \n",
       "4  http://vocab.nerc.ac.uk/collection/L05/current...  Hydro-bios 5-net   \n",
       "5  http://vocab.nerc.ac.uk/collection/L05/current...  Hydro-bios 5-net   \n",
       "6  http://vocab.nerc.ac.uk/collection/L05/current...  Hydro-bios 5-net   \n",
       "7  http://vocab.nerc.ac.uk/collection/L05/current...  Hydro-bios 5-net   \n",
       "8  http://vocab.nerc.ac.uk/collection/L05/current...  Hydro-bios 5-net   \n",
       "9  http://vocab.nerc.ac.uk/collection/L05/current...  Hydro-bios 5-net   \n",
       "\n",
       "  measurementUnit measurementUnitID  \n",
       "0             NaN               NaN  \n",
       "1             NaN               NaN  \n",
       "2             NaN               NaN  \n",
       "3             NaN               NaN  \n",
       "4             NaN               NaN  \n",
       "5             NaN               NaN  \n",
       "6             NaN               NaN  \n",
       "7             NaN               NaN  \n",
       "8             NaN               NaN  \n",
       "9             NaN               NaN  "
      ]
     },
     "execution_count": 26,
     "metadata": {},
     "output_type": "execute_result"
    }
   ],
   "source": [
    "emof_df.head(10)"
   ]
  },
  {
   "cell_type": "markdown",
   "id": "07415627-c903-4463-85aa-476385fadde3",
   "metadata": {},
   "source": [
    "#### mesh size"
   ]
  },
  {
   "cell_type": "code",
   "execution_count": 27,
   "id": "2469b3b4-7447-44d4-ab0c-93994cb12a01",
   "metadata": {},
   "outputs": [],
   "source": [
    "mesh_emof_df = emofsource_samples_df.copy()"
   ]
  },
  {
   "cell_type": "code",
   "execution_count": 28,
   "id": "1b681d71-d5fc-452c-b4d2-0223d0ae1c21",
   "metadata": {},
   "outputs": [],
   "source": [
    "mesh_emof_df['measurementType'] = \"Sampling net mesh size\"\n",
    "mesh_emof_df['measurementTypeID'] = \"http://vocab.nerc.ac.uk/collection/Q01/current/Q0100015/\"\n",
    "mesh_emof_df['measurementUnit'] = \"Micrometres (microns)\"\n",
    "mesh_emof_df['measurementUnitID'] = \"http://vocab.nerc.ac.uk/collection/P06/current/UMIC/\"\n",
    "\n",
    "mesh_emof_df.rename(columns={'mesh_size':'measurementValue'}, inplace=True)"
   ]
  },
  {
   "cell_type": "code",
   "execution_count": 29,
   "id": "b0eeb244-ca17-4661-9cfc-22482cb8c356",
   "metadata": {},
   "outputs": [
    {
     "data": {
      "text/plain": [
       "3567"
      ]
     },
     "execution_count": 29,
     "metadata": {},
     "output_type": "execute_result"
    }
   ],
   "source": [
    "len(mesh_emof_df)"
   ]
  },
  {
   "cell_type": "markdown",
   "id": "683c474e-9d30-4fc5-8d80-9ae5f6799bc4",
   "metadata": {},
   "source": [
    "Populate (append to) the `emof_df` table with the emof records."
   ]
  },
  {
   "cell_type": "code",
   "execution_count": 30,
   "id": "b58595ac-9a3c-4018-9b2c-27af6c6e732c",
   "metadata": {},
   "outputs": [],
   "source": [
    "emof_df = pd.concat(\n",
    "    [\n",
    "        emof_df,\n",
    "        mesh_emof_df[[\n",
    "            'eventID', \n",
    "            'measurementType', 'measurementTypeID', 'measurementValue', \n",
    "            'measurementUnit', 'measurementUnitID'\n",
    "        ]]\n",
    "    ],\n",
    "    ignore_index=True\n",
    ")"
   ]
  },
  {
   "cell_type": "code",
   "execution_count": 31,
   "id": "50ba8fa0-423f-4a1b-988d-12e9a9ca9785",
   "metadata": {},
   "outputs": [
    {
     "data": {
      "text/plain": [
       "10701"
      ]
     },
     "execution_count": 31,
     "metadata": {},
     "output_type": "execute_result"
    }
   ],
   "source": [
    "len(emof_df)"
   ]
  },
  {
   "cell_type": "code",
   "execution_count": 32,
   "id": "f3efdb1d-4ba5-4feb-a712-f5eb38d95151",
   "metadata": {},
   "outputs": [
    {
     "data": {
      "text/html": [
       "<div>\n",
       "<style scoped>\n",
       "    .dataframe tbody tr th:only-of-type {\n",
       "        vertical-align: middle;\n",
       "    }\n",
       "\n",
       "    .dataframe tbody tr th {\n",
       "        vertical-align: top;\n",
       "    }\n",
       "\n",
       "    .dataframe thead th {\n",
       "        text-align: right;\n",
       "    }\n",
       "</style>\n",
       "<table border=\"1\" class=\"dataframe\">\n",
       "  <thead>\n",
       "    <tr style=\"text-align: right;\">\n",
       "      <th></th>\n",
       "      <th>eventID</th>\n",
       "      <th>occurrenceID</th>\n",
       "      <th>measurementType</th>\n",
       "      <th>measurementTypeID</th>\n",
       "      <th>measurementValue</th>\n",
       "      <th>measurementUnit</th>\n",
       "      <th>measurementUnitID</th>\n",
       "    </tr>\n",
       "  </thead>\n",
       "  <tbody>\n",
       "    <tr>\n",
       "      <th>10691</th>\n",
       "      <td>121922TDBV1158</td>\n",
       "      <td>NaN</td>\n",
       "      <td>Sampling net mesh size</td>\n",
       "      <td>http://vocab.nerc.ac.uk/collection/Q01/current...</td>\n",
       "      <td>200</td>\n",
       "      <td>Micrometres (microns)</td>\n",
       "      <td>http://vocab.nerc.ac.uk/collection/P06/current...</td>\n",
       "    </tr>\n",
       "    <tr>\n",
       "      <th>10692</th>\n",
       "      <td>122116LSNT01D1115</td>\n",
       "      <td>NaN</td>\n",
       "      <td>Sampling net mesh size</td>\n",
       "      <td>http://vocab.nerc.ac.uk/collection/Q01/current...</td>\n",
       "      <td>335</td>\n",
       "      <td>Micrometres (microns)</td>\n",
       "      <td>http://vocab.nerc.ac.uk/collection/P06/current...</td>\n",
       "    </tr>\n",
       "    <tr>\n",
       "      <th>10693</th>\n",
       "      <td>122116LSNT01V1057</td>\n",
       "      <td>NaN</td>\n",
       "      <td>Sampling net mesh size</td>\n",
       "      <td>http://vocab.nerc.ac.uk/collection/Q01/current...</td>\n",
       "      <td>200</td>\n",
       "      <td>Micrometres (microns)</td>\n",
       "      <td>http://vocab.nerc.ac.uk/collection/P06/current...</td>\n",
       "    </tr>\n",
       "    <tr>\n",
       "      <th>10694</th>\n",
       "      <td>122116NSEX01V1237</td>\n",
       "      <td>NaN</td>\n",
       "      <td>Sampling net mesh size</td>\n",
       "      <td>http://vocab.nerc.ac.uk/collection/Q01/current...</td>\n",
       "      <td>200</td>\n",
       "      <td>Micrometres (microns)</td>\n",
       "      <td>http://vocab.nerc.ac.uk/collection/P06/current...</td>\n",
       "    </tr>\n",
       "    <tr>\n",
       "      <th>10695</th>\n",
       "      <td>122121HCB003V1233</td>\n",
       "      <td>NaN</td>\n",
       "      <td>Sampling net mesh size</td>\n",
       "      <td>http://vocab.nerc.ac.uk/collection/Q01/current...</td>\n",
       "      <td>200</td>\n",
       "      <td>Micrometres (microns)</td>\n",
       "      <td>http://vocab.nerc.ac.uk/collection/P06/current...</td>\n",
       "    </tr>\n",
       "    <tr>\n",
       "      <th>10696</th>\n",
       "      <td>122121HCB004V1332</td>\n",
       "      <td>NaN</td>\n",
       "      <td>Sampling net mesh size</td>\n",
       "      <td>http://vocab.nerc.ac.uk/collection/Q01/current...</td>\n",
       "      <td>200</td>\n",
       "      <td>Micrometres (microns)</td>\n",
       "      <td>http://vocab.nerc.ac.uk/collection/P06/current...</td>\n",
       "    </tr>\n",
       "    <tr>\n",
       "      <th>10697</th>\n",
       "      <td>122220CAMV1044</td>\n",
       "      <td>NaN</td>\n",
       "      <td>Sampling net mesh size</td>\n",
       "      <td>http://vocab.nerc.ac.uk/collection/Q01/current...</td>\n",
       "      <td>200</td>\n",
       "      <td>Micrometres (microns)</td>\n",
       "      <td>http://vocab.nerc.ac.uk/collection/P06/current...</td>\n",
       "    </tr>\n",
       "    <tr>\n",
       "      <th>10698</th>\n",
       "      <td>122220Cow3V21046</td>\n",
       "      <td>NaN</td>\n",
       "      <td>Sampling net mesh size</td>\n",
       "      <td>http://vocab.nerc.ac.uk/collection/Q01/current...</td>\n",
       "      <td>200</td>\n",
       "      <td>Micrometres (microns)</td>\n",
       "      <td>http://vocab.nerc.ac.uk/collection/P06/current...</td>\n",
       "    </tr>\n",
       "    <tr>\n",
       "      <th>10699</th>\n",
       "      <td>122220WAT1S1303</td>\n",
       "      <td>NaN</td>\n",
       "      <td>Sampling net mesh size</td>\n",
       "      <td>http://vocab.nerc.ac.uk/collection/Q01/current...</td>\n",
       "      <td>335</td>\n",
       "      <td>Micrometres (microns)</td>\n",
       "      <td>http://vocab.nerc.ac.uk/collection/P06/current...</td>\n",
       "    </tr>\n",
       "    <tr>\n",
       "      <th>10700</th>\n",
       "      <td>122320ELID1047</td>\n",
       "      <td>NaN</td>\n",
       "      <td>Sampling net mesh size</td>\n",
       "      <td>http://vocab.nerc.ac.uk/collection/Q01/current...</td>\n",
       "      <td>335</td>\n",
       "      <td>Micrometres (microns)</td>\n",
       "      <td>http://vocab.nerc.ac.uk/collection/P06/current...</td>\n",
       "    </tr>\n",
       "  </tbody>\n",
       "</table>\n",
       "</div>"
      ],
      "text/plain": [
       "                 eventID occurrenceID         measurementType  \\\n",
       "10691     121922TDBV1158          NaN  Sampling net mesh size   \n",
       "10692  122116LSNT01D1115          NaN  Sampling net mesh size   \n",
       "10693  122116LSNT01V1057          NaN  Sampling net mesh size   \n",
       "10694  122116NSEX01V1237          NaN  Sampling net mesh size   \n",
       "10695  122121HCB003V1233          NaN  Sampling net mesh size   \n",
       "10696  122121HCB004V1332          NaN  Sampling net mesh size   \n",
       "10697     122220CAMV1044          NaN  Sampling net mesh size   \n",
       "10698   122220Cow3V21046          NaN  Sampling net mesh size   \n",
       "10699    122220WAT1S1303          NaN  Sampling net mesh size   \n",
       "10700     122320ELID1047          NaN  Sampling net mesh size   \n",
       "\n",
       "                                       measurementTypeID measurementValue  \\\n",
       "10691  http://vocab.nerc.ac.uk/collection/Q01/current...              200   \n",
       "10692  http://vocab.nerc.ac.uk/collection/Q01/current...              335   \n",
       "10693  http://vocab.nerc.ac.uk/collection/Q01/current...              200   \n",
       "10694  http://vocab.nerc.ac.uk/collection/Q01/current...              200   \n",
       "10695  http://vocab.nerc.ac.uk/collection/Q01/current...              200   \n",
       "10696  http://vocab.nerc.ac.uk/collection/Q01/current...              200   \n",
       "10697  http://vocab.nerc.ac.uk/collection/Q01/current...              200   \n",
       "10698  http://vocab.nerc.ac.uk/collection/Q01/current...              200   \n",
       "10699  http://vocab.nerc.ac.uk/collection/Q01/current...              335   \n",
       "10700  http://vocab.nerc.ac.uk/collection/Q01/current...              335   \n",
       "\n",
       "             measurementUnit  \\\n",
       "10691  Micrometres (microns)   \n",
       "10692  Micrometres (microns)   \n",
       "10693  Micrometres (microns)   \n",
       "10694  Micrometres (microns)   \n",
       "10695  Micrometres (microns)   \n",
       "10696  Micrometres (microns)   \n",
       "10697  Micrometres (microns)   \n",
       "10698  Micrometres (microns)   \n",
       "10699  Micrometres (microns)   \n",
       "10700  Micrometres (microns)   \n",
       "\n",
       "                                       measurementUnitID  \n",
       "10691  http://vocab.nerc.ac.uk/collection/P06/current...  \n",
       "10692  http://vocab.nerc.ac.uk/collection/P06/current...  \n",
       "10693  http://vocab.nerc.ac.uk/collection/P06/current...  \n",
       "10694  http://vocab.nerc.ac.uk/collection/P06/current...  \n",
       "10695  http://vocab.nerc.ac.uk/collection/P06/current...  \n",
       "10696  http://vocab.nerc.ac.uk/collection/P06/current...  \n",
       "10697  http://vocab.nerc.ac.uk/collection/P06/current...  \n",
       "10698  http://vocab.nerc.ac.uk/collection/P06/current...  \n",
       "10699  http://vocab.nerc.ac.uk/collection/P06/current...  \n",
       "10700  http://vocab.nerc.ac.uk/collection/P06/current...  "
      ]
     },
     "execution_count": 32,
     "metadata": {},
     "output_type": "execute_result"
    }
   ],
   "source": [
    "emof_df.tail(10)"
   ]
  },
  {
   "cell_type": "markdown",
   "id": "418c84bc-c41d-478e-bd35-070e15183897",
   "metadata": {},
   "source": [
    "## MoF's associated with exactly one occurrence\n",
    "\n",
    "These will have an `occcurrenceID` entry.\n",
    "\n",
    "We'll have to preserve the original `life_history_stage` strings in the occurrence csv table, in order to be able to properly merge the occurrence table with `emofsource_df`. Do this maybe by adding a `occurrenceRemarks` column, or by keeping a `life_history_stage` column that will be dropped in a later stage"
   ]
  },
  {
   "cell_type": "code",
   "execution_count": 33,
   "id": "8294799e-273b-438e-b403-f03a6697ef90",
   "metadata": {},
   "outputs": [],
   "source": [
    "emofsource_samplesoccur_df = (\n",
    "    dwcevent_df\n",
    "    .merge(\n",
    "        emofsource_df[['sample_code', 'species', 'life_history_stage', 'density']], \n",
    "        how='inner',\n",
    "        left_on='eventID',\n",
    "        right_on='sample_code'\n",
    "    )\n",
    "    .merge(\n",
    "        dwcoccurrence_df,\n",
    "        how='inner',\n",
    "        left_on=['eventID', 'species', 'life_history_stage'],\n",
    "        right_on=['eventID', 'verbatimIdentification', 'life_history_stage']\n",
    "    )\n",
    ")\n",
    "\n",
    "emofsource_samplesoccur_df = (\n",
    "    emofsource_samplesoccur_df\n",
    "    .drop_duplicates()\n",
    "    .drop(columns=['sample_code', 'parentEventID', 'species'])\n",
    "    .sort_values(by='eventID')\n",
    "    .reset_index(drop=True)\n",
    ")"
   ]
  },
  {
   "cell_type": "code",
   "execution_count": 34,
   "id": "bbf38777-2fbd-4c4a-ba0e-70f2851e5cfb",
   "metadata": {},
   "outputs": [
    {
     "data": {
      "text/plain": [
       "155471"
      ]
     },
     "execution_count": 34,
     "metadata": {},
     "output_type": "execute_result"
    }
   ],
   "source": [
    "len(emofsource_samplesoccur_df)"
   ]
  },
  {
   "cell_type": "code",
   "execution_count": 35,
   "id": "d82f7375-3d0e-450d-8dcf-c8b4dda37eb3",
   "metadata": {},
   "outputs": [
    {
     "data": {
      "text/html": [
       "<div>\n",
       "<style scoped>\n",
       "    .dataframe tbody tr th:only-of-type {\n",
       "        vertical-align: middle;\n",
       "    }\n",
       "\n",
       "    .dataframe tbody tr th {\n",
       "        vertical-align: top;\n",
       "    }\n",
       "\n",
       "    .dataframe thead th {\n",
       "        text-align: right;\n",
       "    }\n",
       "</style>\n",
       "<table border=\"1\" class=\"dataframe\">\n",
       "  <thead>\n",
       "    <tr style=\"text-align: right;\">\n",
       "      <th></th>\n",
       "      <th>eventID</th>\n",
       "      <th>eventDate</th>\n",
       "      <th>life_history_stage</th>\n",
       "      <th>density</th>\n",
       "      <th>occurrenceID</th>\n",
       "      <th>verbatimIdentification</th>\n",
       "    </tr>\n",
       "  </thead>\n",
       "  <tbody>\n",
       "    <tr>\n",
       "      <th>0</th>\n",
       "      <td>010218ELIV1151</td>\n",
       "      <td>2018-01-02 11:51:00-07:00</td>\n",
       "      <td>female, adult</td>\n",
       "      <td>6.295757</td>\n",
       "      <td>c8152ecf-73c1-4440-9244-3d4b31c0aa0c</td>\n",
       "      <td>acartia longiremis</td>\n",
       "    </tr>\n",
       "    <tr>\n",
       "      <th>1</th>\n",
       "      <td>010218ELIV1151</td>\n",
       "      <td>2018-01-02 11:51:00-07:00</td>\n",
       "      <td>male, adult</td>\n",
       "      <td>0.119919</td>\n",
       "      <td>f52a8b15-4312-4d82-a71e-75c976187b23</td>\n",
       "      <td>metridia pacifica</td>\n",
       "    </tr>\n",
       "    <tr>\n",
       "      <th>2</th>\n",
       "      <td>010218ELIV1151</td>\n",
       "      <td>2018-01-02 11:51:00-07:00</td>\n",
       "      <td>female, adult</td>\n",
       "      <td>3.117899</td>\n",
       "      <td>0414a828-2232-4b9d-ac24-6ef19d0eeb8e</td>\n",
       "      <td>metridia pacifica</td>\n",
       "    </tr>\n",
       "    <tr>\n",
       "      <th>3</th>\n",
       "      <td>010218ELIV1151</td>\n",
       "      <td>2018-01-02 11:51:00-07:00</td>\n",
       "      <td>5, cv</td>\n",
       "      <td>0.899394</td>\n",
       "      <td>17101bf0-3626-4878-ad51-2553d02332e8</td>\n",
       "      <td>metridia pacifica</td>\n",
       "    </tr>\n",
       "    <tr>\n",
       "      <th>4</th>\n",
       "      <td>010218ELIV1151</td>\n",
       "      <td>2018-01-02 11:51:00-07:00</td>\n",
       "      <td>z1, zoea i</td>\n",
       "      <td>0.899394</td>\n",
       "      <td>2f468579-49cc-4bde-954c-4207cd850be5</td>\n",
       "      <td>metacarcinus magister</td>\n",
       "    </tr>\n",
       "  </tbody>\n",
       "</table>\n",
       "</div>"
      ],
      "text/plain": [
       "          eventID                 eventDate life_history_stage   density  \\\n",
       "0  010218ELIV1151 2018-01-02 11:51:00-07:00      female, adult  6.295757   \n",
       "1  010218ELIV1151 2018-01-02 11:51:00-07:00        male, adult  0.119919   \n",
       "2  010218ELIV1151 2018-01-02 11:51:00-07:00      female, adult  3.117899   \n",
       "3  010218ELIV1151 2018-01-02 11:51:00-07:00              5, cv  0.899394   \n",
       "4  010218ELIV1151 2018-01-02 11:51:00-07:00         z1, zoea i  0.899394   \n",
       "\n",
       "                           occurrenceID verbatimIdentification  \n",
       "0  c8152ecf-73c1-4440-9244-3d4b31c0aa0c     acartia longiremis  \n",
       "1  f52a8b15-4312-4d82-a71e-75c976187b23      metridia pacifica  \n",
       "2  0414a828-2232-4b9d-ac24-6ef19d0eeb8e      metridia pacifica  \n",
       "3  17101bf0-3626-4878-ad51-2553d02332e8      metridia pacifica  \n",
       "4  2f468579-49cc-4bde-954c-4207cd850be5  metacarcinus magister  "
      ]
     },
     "execution_count": 35,
     "metadata": {},
     "output_type": "execute_result"
    }
   ],
   "source": [
    "emofsource_samplesoccur_df.head()"
   ]
  },
  {
   "cell_type": "markdown",
   "id": "fcf2f771-6bc3-4631-914c-dd217426e3a0",
   "metadata": {},
   "source": [
    "### density / abundance"
   ]
  },
  {
   "cell_type": "code",
   "execution_count": 36,
   "id": "ac1f5904-77d5-4468-ae7a-b5bd1e725b3e",
   "metadata": {},
   "outputs": [],
   "source": [
    "abundance_emof_df = emofsource_samplesoccur_df.copy()"
   ]
  },
  {
   "cell_type": "code",
   "execution_count": 37,
   "id": "9bdec3d4-553a-4b70-a4ac-ca2823013317",
   "metadata": {},
   "outputs": [],
   "source": [
    "abundance_emof_df['measurementType'] = \"Abundance of biological entity specified elsewhere per unit volume of the water body\"\n",
    "abundance_emof_df['measurementTypeID'] = \"http://vocab.nerc.ac.uk/collection/P01/current/SDBIOL01/\"\n",
    "abundance_emof_df['measurementUnit'] = \"Number per cubic metre\"\n",
    "abundance_emof_df['measurementUnitID'] = \"http://vocab.nerc.ac.uk/collection/P06/current/UPMM\"\n",
    "\n",
    "abundance_emof_df.rename(columns={'density':'measurementValue'}, inplace=True)"
   ]
  },
  {
   "cell_type": "markdown",
   "id": "9d9f781f-5c84-4a64-a3b1-17ced2aed81a",
   "metadata": {},
   "source": [
    "Populate (append to) the `emof_df` table with the emof records."
   ]
  },
  {
   "cell_type": "code",
   "execution_count": 38,
   "id": "51dfcd81-b30b-41a5-8e73-ef1d4baa14bb",
   "metadata": {},
   "outputs": [],
   "source": [
    "emof_df = pd.concat(\n",
    "    [\n",
    "        emof_df,\n",
    "        abundance_emof_df[[\n",
    "            'eventID', 'occurrenceID',\n",
    "            # 'life_history_stage', 'verbatimIdentification', # --- temporary, for validation\n",
    "            'measurementType', 'measurementTypeID', 'measurementValue', \n",
    "            'measurementUnit', 'measurementUnitID'\n",
    "        ]]\n",
    "    ],\n",
    "    ignore_index=True\n",
    ")"
   ]
  },
  {
   "cell_type": "code",
   "execution_count": 39,
   "id": "ad45fb21-5bfa-426a-8f87-709db99201e7",
   "metadata": {},
   "outputs": [
    {
     "data": {
      "text/plain": [
       "166172"
      ]
     },
     "execution_count": 39,
     "metadata": {},
     "output_type": "execute_result"
    }
   ],
   "source": [
    "len(emof_df)"
   ]
  },
  {
   "cell_type": "code",
   "execution_count": 40,
   "id": "a78cd501-fe5a-43fa-b762-ce4c2f68857e",
   "metadata": {},
   "outputs": [
    {
     "data": {
      "text/html": [
       "<div>\n",
       "<style scoped>\n",
       "    .dataframe tbody tr th:only-of-type {\n",
       "        vertical-align: middle;\n",
       "    }\n",
       "\n",
       "    .dataframe tbody tr th {\n",
       "        vertical-align: top;\n",
       "    }\n",
       "\n",
       "    .dataframe thead th {\n",
       "        text-align: right;\n",
       "    }\n",
       "</style>\n",
       "<table border=\"1\" class=\"dataframe\">\n",
       "  <thead>\n",
       "    <tr style=\"text-align: right;\">\n",
       "      <th></th>\n",
       "      <th>eventID</th>\n",
       "      <th>occurrenceID</th>\n",
       "      <th>measurementType</th>\n",
       "      <th>measurementTypeID</th>\n",
       "      <th>measurementValue</th>\n",
       "      <th>measurementUnit</th>\n",
       "      <th>measurementUnitID</th>\n",
       "    </tr>\n",
       "  </thead>\n",
       "  <tbody>\n",
       "    <tr>\n",
       "      <th>166162</th>\n",
       "      <td>122320ELID1047</td>\n",
       "      <td>0af3428e-851d-4093-8ec0-ada241d2f806</td>\n",
       "      <td>Abundance of biological entity specified elsew...</td>\n",
       "      <td>http://vocab.nerc.ac.uk/collection/P01/current...</td>\n",
       "      <td>1.205102</td>\n",
       "      <td>Number per cubic metre</td>\n",
       "      <td>http://vocab.nerc.ac.uk/collection/P06/current...</td>\n",
       "    </tr>\n",
       "    <tr>\n",
       "      <th>166163</th>\n",
       "      <td>122320ELID1047</td>\n",
       "      <td>d872cf27-451e-4630-9389-3b805d4e50d5</td>\n",
       "      <td>Abundance of biological entity specified elsew...</td>\n",
       "      <td>http://vocab.nerc.ac.uk/collection/P01/current...</td>\n",
       "      <td>0.060255</td>\n",
       "      <td>Number per cubic metre</td>\n",
       "      <td>http://vocab.nerc.ac.uk/collection/P06/current...</td>\n",
       "    </tr>\n",
       "    <tr>\n",
       "      <th>166164</th>\n",
       "      <td>122320ELID1047</td>\n",
       "      <td>1a237e49-5dde-4299-8e4d-ee0a7444b9ac</td>\n",
       "      <td>Abundance of biological entity specified elsew...</td>\n",
       "      <td>http://vocab.nerc.ac.uk/collection/P01/current...</td>\n",
       "      <td>0.24102</td>\n",
       "      <td>Number per cubic metre</td>\n",
       "      <td>http://vocab.nerc.ac.uk/collection/P06/current...</td>\n",
       "    </tr>\n",
       "    <tr>\n",
       "      <th>166165</th>\n",
       "      <td>122320ELID1047</td>\n",
       "      <td>d7794aec-7472-4133-87ea-0b4875b4e55a</td>\n",
       "      <td>Abundance of biological entity specified elsew...</td>\n",
       "      <td>http://vocab.nerc.ac.uk/collection/P01/current...</td>\n",
       "      <td>0.060255</td>\n",
       "      <td>Number per cubic metre</td>\n",
       "      <td>http://vocab.nerc.ac.uk/collection/P06/current...</td>\n",
       "    </tr>\n",
       "    <tr>\n",
       "      <th>166166</th>\n",
       "      <td>122320ELID1047</td>\n",
       "      <td>5597c18d-e6c1-4961-b27a-184b789e92da</td>\n",
       "      <td>Abundance of biological entity specified elsew...</td>\n",
       "      <td>http://vocab.nerc.ac.uk/collection/P01/current...</td>\n",
       "      <td>0.060255</td>\n",
       "      <td>Number per cubic metre</td>\n",
       "      <td>http://vocab.nerc.ac.uk/collection/P06/current...</td>\n",
       "    </tr>\n",
       "    <tr>\n",
       "      <th>166167</th>\n",
       "      <td>122320ELID1047</td>\n",
       "      <td>2adced5a-e159-42a6-ae7d-c8103b7b527b</td>\n",
       "      <td>Abundance of biological entity specified elsew...</td>\n",
       "      <td>http://vocab.nerc.ac.uk/collection/P01/current...</td>\n",
       "      <td>0.602551</td>\n",
       "      <td>Number per cubic metre</td>\n",
       "      <td>http://vocab.nerc.ac.uk/collection/P06/current...</td>\n",
       "    </tr>\n",
       "    <tr>\n",
       "      <th>166168</th>\n",
       "      <td>122320ELID1047</td>\n",
       "      <td>87c756ec-c197-47c6-ab65-76134ce596ae</td>\n",
       "      <td>Abundance of biological entity specified elsew...</td>\n",
       "      <td>http://vocab.nerc.ac.uk/collection/P01/current...</td>\n",
       "      <td>NaN</td>\n",
       "      <td>Number per cubic metre</td>\n",
       "      <td>http://vocab.nerc.ac.uk/collection/P06/current...</td>\n",
       "    </tr>\n",
       "    <tr>\n",
       "      <th>166169</th>\n",
       "      <td>122320ELID1047</td>\n",
       "      <td>8f14b45e-ebe2-4350-8c63-82d658c66a2c</td>\n",
       "      <td>Abundance of biological entity specified elsew...</td>\n",
       "      <td>http://vocab.nerc.ac.uk/collection/P01/current...</td>\n",
       "      <td>0.060255</td>\n",
       "      <td>Number per cubic metre</td>\n",
       "      <td>http://vocab.nerc.ac.uk/collection/P06/current...</td>\n",
       "    </tr>\n",
       "    <tr>\n",
       "      <th>166170</th>\n",
       "      <td>122320ELID1047</td>\n",
       "      <td>c53f59ff-0ea5-4bb1-a055-f72aa1046e98</td>\n",
       "      <td>Abundance of biological entity specified elsew...</td>\n",
       "      <td>http://vocab.nerc.ac.uk/collection/P01/current...</td>\n",
       "      <td>0.602551</td>\n",
       "      <td>Number per cubic metre</td>\n",
       "      <td>http://vocab.nerc.ac.uk/collection/P06/current...</td>\n",
       "    </tr>\n",
       "    <tr>\n",
       "      <th>166171</th>\n",
       "      <td>122320ELID1047</td>\n",
       "      <td>f8b72e4c-3a67-4a56-8ac4-304b25822e23</td>\n",
       "      <td>Abundance of biological entity specified elsew...</td>\n",
       "      <td>http://vocab.nerc.ac.uk/collection/P01/current...</td>\n",
       "      <td>171.726995</td>\n",
       "      <td>Number per cubic metre</td>\n",
       "      <td>http://vocab.nerc.ac.uk/collection/P06/current...</td>\n",
       "    </tr>\n",
       "  </tbody>\n",
       "</table>\n",
       "</div>"
      ],
      "text/plain": [
       "               eventID                          occurrenceID  \\\n",
       "166162  122320ELID1047  0af3428e-851d-4093-8ec0-ada241d2f806   \n",
       "166163  122320ELID1047  d872cf27-451e-4630-9389-3b805d4e50d5   \n",
       "166164  122320ELID1047  1a237e49-5dde-4299-8e4d-ee0a7444b9ac   \n",
       "166165  122320ELID1047  d7794aec-7472-4133-87ea-0b4875b4e55a   \n",
       "166166  122320ELID1047  5597c18d-e6c1-4961-b27a-184b789e92da   \n",
       "166167  122320ELID1047  2adced5a-e159-42a6-ae7d-c8103b7b527b   \n",
       "166168  122320ELID1047  87c756ec-c197-47c6-ab65-76134ce596ae   \n",
       "166169  122320ELID1047  8f14b45e-ebe2-4350-8c63-82d658c66a2c   \n",
       "166170  122320ELID1047  c53f59ff-0ea5-4bb1-a055-f72aa1046e98   \n",
       "166171  122320ELID1047  f8b72e4c-3a67-4a56-8ac4-304b25822e23   \n",
       "\n",
       "                                          measurementType  \\\n",
       "166162  Abundance of biological entity specified elsew...   \n",
       "166163  Abundance of biological entity specified elsew...   \n",
       "166164  Abundance of biological entity specified elsew...   \n",
       "166165  Abundance of biological entity specified elsew...   \n",
       "166166  Abundance of biological entity specified elsew...   \n",
       "166167  Abundance of biological entity specified elsew...   \n",
       "166168  Abundance of biological entity specified elsew...   \n",
       "166169  Abundance of biological entity specified elsew...   \n",
       "166170  Abundance of biological entity specified elsew...   \n",
       "166171  Abundance of biological entity specified elsew...   \n",
       "\n",
       "                                        measurementTypeID measurementValue  \\\n",
       "166162  http://vocab.nerc.ac.uk/collection/P01/current...         1.205102   \n",
       "166163  http://vocab.nerc.ac.uk/collection/P01/current...         0.060255   \n",
       "166164  http://vocab.nerc.ac.uk/collection/P01/current...          0.24102   \n",
       "166165  http://vocab.nerc.ac.uk/collection/P01/current...         0.060255   \n",
       "166166  http://vocab.nerc.ac.uk/collection/P01/current...         0.060255   \n",
       "166167  http://vocab.nerc.ac.uk/collection/P01/current...         0.602551   \n",
       "166168  http://vocab.nerc.ac.uk/collection/P01/current...              NaN   \n",
       "166169  http://vocab.nerc.ac.uk/collection/P01/current...         0.060255   \n",
       "166170  http://vocab.nerc.ac.uk/collection/P01/current...         0.602551   \n",
       "166171  http://vocab.nerc.ac.uk/collection/P01/current...       171.726995   \n",
       "\n",
       "               measurementUnit  \\\n",
       "166162  Number per cubic metre   \n",
       "166163  Number per cubic metre   \n",
       "166164  Number per cubic metre   \n",
       "166165  Number per cubic metre   \n",
       "166166  Number per cubic metre   \n",
       "166167  Number per cubic metre   \n",
       "166168  Number per cubic metre   \n",
       "166169  Number per cubic metre   \n",
       "166170  Number per cubic metre   \n",
       "166171  Number per cubic metre   \n",
       "\n",
       "                                        measurementUnitID  \n",
       "166162  http://vocab.nerc.ac.uk/collection/P06/current...  \n",
       "166163  http://vocab.nerc.ac.uk/collection/P06/current...  \n",
       "166164  http://vocab.nerc.ac.uk/collection/P06/current...  \n",
       "166165  http://vocab.nerc.ac.uk/collection/P06/current...  \n",
       "166166  http://vocab.nerc.ac.uk/collection/P06/current...  \n",
       "166167  http://vocab.nerc.ac.uk/collection/P06/current...  \n",
       "166168  http://vocab.nerc.ac.uk/collection/P06/current...  \n",
       "166169  http://vocab.nerc.ac.uk/collection/P06/current...  \n",
       "166170  http://vocab.nerc.ac.uk/collection/P06/current...  \n",
       "166171  http://vocab.nerc.ac.uk/collection/P06/current...  "
      ]
     },
     "execution_count": 40,
     "metadata": {},
     "output_type": "execute_result"
    }
   ],
   "source": [
    "emof_df.tail(10)"
   ]
  },
  {
   "cell_type": "markdown",
   "id": "8b375f70-6590-4392-a786-73c06eeb60ce",
   "metadata": {},
   "source": [
    "## Export `emof_df` to csv"
   ]
  },
  {
   "cell_type": "code",
   "execution_count": 41,
   "id": "70674193-4e84-4b23-bd53-c80e926e2463",
   "metadata": {},
   "outputs": [
    {
     "data": {
      "text/plain": [
       "Abundance of biological entity specified elsewhere per unit volume of the water body    155471\n",
       "multinet                                                                                  3567\n",
       "Sampling method                                                                           3567\n",
       "Sampling net mesh size                                                                    3567\n",
       "Name: measurementType, dtype: int64"
      ]
     },
     "execution_count": 41,
     "metadata": {},
     "output_type": "execute_result"
    }
   ],
   "source": [
    "emof_df.measurementType.value_counts()"
   ]
  },
  {
   "cell_type": "code",
   "execution_count": 42,
   "id": "cda40074-95e7-465b-a81b-e35387d4f715",
   "metadata": {},
   "outputs": [],
   "source": [
    "if not debug_no_csvexport:\n",
    "    emof_df.to_csv(data_pth / 'aligned_csvs' / 'DwC_emof.csv', index=False)"
   ]
  },
  {
   "cell_type": "markdown",
   "id": "2c309aac-9033-4aa9-8864-84b26ea530c6",
   "metadata": {},
   "source": [
    "## Package versions"
   ]
  },
  {
   "cell_type": "code",
   "execution_count": 43,
   "id": "a78b77d4-afa6-4103-b940-5ee73846b80b",
   "metadata": {},
   "outputs": [
    {
     "name": "stdout",
     "output_type": "stream",
     "text": [
      "2024-02-16 04:34:47.267196 +00:00\n",
      "pandas: 1.5.3\n"
     ]
    }
   ],
   "source": [
    "print(\n",
    "    f\"{datetime.utcnow()} +00:00\\n\"\n",
    "    f\"pandas: {pd.__version__}\"\n",
    ")"
   ]
  },
  {
   "cell_type": "code",
   "execution_count": null,
   "id": "61274710",
   "metadata": {},
   "outputs": [],
   "source": []
  }
 ],
 "metadata": {
  "kernelspec": {
   "display_name": "nanoos_bio",
   "language": "python",
   "name": "python3"
  },
  "language_info": {
   "codemirror_mode": {
    "name": "ipython",
    "version": 3
   },
   "file_extension": ".py",
   "mimetype": "text/x-python",
   "name": "python",
   "nbconvert_exporter": "python",
   "pygments_lexer": "ipython3",
   "version": "3.9.16"
  }
 },
 "nbformat": 4,
 "nbformat_minor": 5
}
